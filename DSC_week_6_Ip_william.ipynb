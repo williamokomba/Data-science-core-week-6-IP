{
  "nbformat": 4,
  "nbformat_minor": 0,
  "metadata": {
    "colab": {
      "name": "DSC week 6 Ip william.ipynb",
      "provenance": [],
      "collapsed_sections": [],
      "toc_visible": true,
      "authorship_tag": "ABX9TyPoZYTrvhbKDfXuZbIkR3Nu",
      "include_colab_link": true
    },
    "kernelspec": {
      "name": "python3",
      "display_name": "Python 3"
    }
  },
  "cells": [
    {
      "cell_type": "markdown",
      "metadata": {
        "id": "view-in-github",
        "colab_type": "text"
      },
      "source": [
        "<a href=\"https://colab.research.google.com/github/williamokomba/Data-science-core-week-6-IP/blob/main/DSC_week_6_Ip_william.ipynb\" target=\"_parent\"><img src=\"https://colab.research.google.com/assets/colab-badge.svg\" alt=\"Open In Colab\"/></a>"
      ]
    },
    {
      "cell_type": "markdown",
      "metadata": {
        "id": "wPZahAKJ3OrB"
      },
      "source": [
        "# **Moringa Data science core week 6 Independent project: William**"
      ]
    },
    {
      "cell_type": "markdown",
      "metadata": {
        "id": "tMu-HoEN3WED"
      },
      "source": [
        "##*1.0* Defining the Question"
      ]
    },
    {
      "cell_type": "markdown",
      "metadata": {
        "id": "7GBLzk2-4x0r"
      },
      "source": [
        "**Dataset provided**\n",
        "\n",
        "1. The dataset and glossary [link](https://drive.google.com/open?id=1BYUqaEEnFtAe5lvzJh9lpVpR2MAvERUc)\n",
        "2.   Explanation and history of the rankings [link](https://en.wikipedia.org/wiki/FIFA_World_Rankings)\n",
        "3. An explanation of the ranking procedure [link](https://www.fifa.com/fifa-world-ranking/procedure/men.html)\n",
        "4. Some features available on the FIFA ranking [link](https://www.fifa.com/fifa-world-ranking/ranking-table/men/index.html)"
      ]
    },
    {
      "cell_type": "markdown",
      "metadata": {
        "id": "w-gN0GCU7aHQ"
      },
      "source": [
        "###1.1 Specifying the data analytic question\n",
        "*   predict the goals scored by away team, home team and figure out the home team percepective if the home team is win, lose or draw.\n"
      ]
    },
    {
      "cell_type": "markdown",
      "metadata": {
        "id": "iNoi82fHDjeb"
      },
      "source": [
        "###1.2 Defining the metric for success\n",
        "\n",
        "Since the problem we are tackling is a regression problem,use polymonial regression and for classification problem, we will use classification reports and confusion matrices as well as accuracy to measure the success of the models used."
      ]
    },
    {
      "cell_type": "markdown",
      "metadata": {
        "id": "2qAa8gkwE6CT"
      },
      "source": [
        "### 1.3 Understanding the Context\n",
        "Footbal is much loved sport accross the world, from basic demographic data, we can predict the team ranking based on both home-score and away-scores."
      ]
    },
    {
      "cell_type": "markdown",
      "metadata": {
        "id": "3lerv3kmGQb7"
      },
      "source": [
        "### 1.4 Recording the Experimental Design\n",
        "\n",
        "- load libraries and dataset\n",
        "- clean dataset:\n",
        "    - deal with duplicate and/or missing values\n",
        "    - deal with outliers, where necessary\n",
        "    - deal with other anomalies in the data, where necessary\n",
        "- carry out exploratory data analysis\n",
        "- carry out feature engineering\n",
        "- carry out modeling\n",
        "    - tune hyperparameters\n",
        "    - feature selection\n",
        "    - alternative models\n",
        "- summarize and provide recommendations\n",
        "- challenge the solution"
      ]
    },
    {
      "cell_type": "markdown",
      "metadata": {
        "id": "yEof1_9xGdeO"
      },
      "source": [
        "### 1.5 Assessing the Relevance of the Data\n",
        "while data provided is relevant it had irrelevant features which affected the result of the modelling."
      ]
    },
    {
      "cell_type": "markdown",
      "metadata": {
        "id": "IJLOLu_6H1OB"
      },
      "source": [
        "## 2.Loading and reading Our Datasets"
      ]
    },
    {
      "cell_type": "code",
      "metadata": {
        "id": "J8gpqz-_M-nY"
      },
      "source": [
        "# Importing standard libraries\n",
        "#\n",
        "# load pandas\n",
        "import pandas as pd               # library for data manipulation and analysis\n",
        "#\n",
        "# load numpy\n",
        "import numpy as np                # library for performin scientific computations\n",
        "#\n",
        "# load matplotlib.pyplot\n",
        "import matplotlib.pyplot as plt   # library for creating basic visualisations\n",
        "#\n",
        "# load Seaborn\n",
        "import seaborn as sns             # library for creating rich data visualisations"
      ],
      "execution_count": 5,
      "outputs": []
    },
    {
      "cell_type": "code",
      "metadata": {
        "id": "wvKaTVem8UDG"
      },
      "source": [
        "# Loading the result Dataset \n",
        "#\n",
        "result_df=pd.read_csv(\"/content/results.csv\")\n"
      ],
      "execution_count": 6,
      "outputs": []
    },
    {
      "cell_type": "code",
      "metadata": {
        "id": "no-sZQp6CAIt"
      },
      "source": [
        "# Loading the fifa ranking Dataset\n",
        "#\n",
        "fifa_ranking=pd.read_csv(\"/content/fifa_ranking.csv\")"
      ],
      "execution_count": 7,
      "outputs": []
    },
    {
      "cell_type": "markdown",
      "metadata": {
        "id": "iZMCj1_iJ4I0"
      },
      "source": [
        "## 3. Checking the Data"
      ]
    },
    {
      "cell_type": "code",
      "metadata": {
        "id": "2BL2oQLLOKOi",
        "outputId": "832a67bc-c811-487a-a2c2-7779b04bfa40",
        "colab": {
          "base_uri": "https://localhost:8080/"
        }
      },
      "source": [
        "# Determining the no. of records in our result dataset\n",
        "#\n",
        "result_df.shape"
      ],
      "execution_count": 8,
      "outputs": [
        {
          "output_type": "execute_result",
          "data": {
            "text/plain": [
              "(40839, 9)"
            ]
          },
          "metadata": {
            "tags": []
          },
          "execution_count": 8
        }
      ]
    },
    {
      "cell_type": "markdown",
      "metadata": {
        "id": "zIM4x1fQOnIZ"
      },
      "source": [
        "**observation** our result dataset has 40839 records and 9 varables."
      ]
    },
    {
      "cell_type": "code",
      "metadata": {
        "id": "vjfk9NmQO8sX",
        "outputId": "7b8933b7-5f74-444e-81d1-081f747460d0",
        "colab": {
          "base_uri": "https://localhost:8080/"
        }
      },
      "source": [
        "# Determining the no. of records in our fifa ranking dataset\n",
        "#\n",
        "fifa_ranking.shape"
      ],
      "execution_count": 9,
      "outputs": [
        {
          "output_type": "execute_result",
          "data": {
            "text/plain": [
              "(57793, 16)"
            ]
          },
          "metadata": {
            "tags": []
          },
          "execution_count": 9
        }
      ]
    },
    {
      "cell_type": "markdown",
      "metadata": {
        "id": "9JArGY5mPcDJ"
      },
      "source": [
        "**obsevation** fifa ranking dataset has 57793 records and 16 varables"
      ]
    },
    {
      "cell_type": "code",
      "metadata": {
        "id": "MHvaZjO-P_M5",
        "outputId": "d211e8c3-33d2-4202-d119-357f08e8766a",
        "colab": {
          "base_uri": "https://localhost:8080/",
          "height": 204
        }
      },
      "source": [
        "# Previewing the top of our fifa result dataset\n",
        "#\n",
        "result_df.head()"
      ],
      "execution_count": 10,
      "outputs": [
        {
          "output_type": "execute_result",
          "data": {
            "text/html": [
              "<div>\n",
              "<style scoped>\n",
              "    .dataframe tbody tr th:only-of-type {\n",
              "        vertical-align: middle;\n",
              "    }\n",
              "\n",
              "    .dataframe tbody tr th {\n",
              "        vertical-align: top;\n",
              "    }\n",
              "\n",
              "    .dataframe thead th {\n",
              "        text-align: right;\n",
              "    }\n",
              "</style>\n",
              "<table border=\"1\" class=\"dataframe\">\n",
              "  <thead>\n",
              "    <tr style=\"text-align: right;\">\n",
              "      <th></th>\n",
              "      <th>date</th>\n",
              "      <th>home_team</th>\n",
              "      <th>away_team</th>\n",
              "      <th>home_score</th>\n",
              "      <th>away_score</th>\n",
              "      <th>tournament</th>\n",
              "      <th>city</th>\n",
              "      <th>country</th>\n",
              "      <th>neutral</th>\n",
              "    </tr>\n",
              "  </thead>\n",
              "  <tbody>\n",
              "    <tr>\n",
              "      <th>0</th>\n",
              "      <td>1872-11-30</td>\n",
              "      <td>Scotland</td>\n",
              "      <td>England</td>\n",
              "      <td>0</td>\n",
              "      <td>0</td>\n",
              "      <td>Friendly</td>\n",
              "      <td>Glasgow</td>\n",
              "      <td>Scotland</td>\n",
              "      <td>False</td>\n",
              "    </tr>\n",
              "    <tr>\n",
              "      <th>1</th>\n",
              "      <td>1873-03-08</td>\n",
              "      <td>England</td>\n",
              "      <td>Scotland</td>\n",
              "      <td>4</td>\n",
              "      <td>2</td>\n",
              "      <td>Friendly</td>\n",
              "      <td>London</td>\n",
              "      <td>England</td>\n",
              "      <td>False</td>\n",
              "    </tr>\n",
              "    <tr>\n",
              "      <th>2</th>\n",
              "      <td>1874-03-07</td>\n",
              "      <td>Scotland</td>\n",
              "      <td>England</td>\n",
              "      <td>2</td>\n",
              "      <td>1</td>\n",
              "      <td>Friendly</td>\n",
              "      <td>Glasgow</td>\n",
              "      <td>Scotland</td>\n",
              "      <td>False</td>\n",
              "    </tr>\n",
              "    <tr>\n",
              "      <th>3</th>\n",
              "      <td>1875-03-06</td>\n",
              "      <td>England</td>\n",
              "      <td>Scotland</td>\n",
              "      <td>2</td>\n",
              "      <td>2</td>\n",
              "      <td>Friendly</td>\n",
              "      <td>London</td>\n",
              "      <td>England</td>\n",
              "      <td>False</td>\n",
              "    </tr>\n",
              "    <tr>\n",
              "      <th>4</th>\n",
              "      <td>1876-03-04</td>\n",
              "      <td>Scotland</td>\n",
              "      <td>England</td>\n",
              "      <td>3</td>\n",
              "      <td>0</td>\n",
              "      <td>Friendly</td>\n",
              "      <td>Glasgow</td>\n",
              "      <td>Scotland</td>\n",
              "      <td>False</td>\n",
              "    </tr>\n",
              "  </tbody>\n",
              "</table>\n",
              "</div>"
            ],
            "text/plain": [
              "         date home_team away_team  ...     city   country neutral\n",
              "0  1872-11-30  Scotland   England  ...  Glasgow  Scotland   False\n",
              "1  1873-03-08   England  Scotland  ...   London   England   False\n",
              "2  1874-03-07  Scotland   England  ...  Glasgow  Scotland   False\n",
              "3  1875-03-06   England  Scotland  ...   London   England   False\n",
              "4  1876-03-04  Scotland   England  ...  Glasgow  Scotland   False\n",
              "\n",
              "[5 rows x 9 columns]"
            ]
          },
          "metadata": {
            "tags": []
          },
          "execution_count": 10
        }
      ]
    },
    {
      "cell_type": "code",
      "metadata": {
        "id": "I18VtKv5Qfx5",
        "outputId": "3498e53d-0231-4c3e-9b28-f2782e0409a5",
        "colab": {
          "base_uri": "https://localhost:8080/",
          "height": 289
        }
      },
      "source": [
        "# Previewing the bottom of our fifa result dataset\n",
        "#\n",
        "result_df.tail()"
      ],
      "execution_count": 11,
      "outputs": [
        {
          "output_type": "execute_result",
          "data": {
            "text/html": [
              "<div>\n",
              "<style scoped>\n",
              "    .dataframe tbody tr th:only-of-type {\n",
              "        vertical-align: middle;\n",
              "    }\n",
              "\n",
              "    .dataframe tbody tr th {\n",
              "        vertical-align: top;\n",
              "    }\n",
              "\n",
              "    .dataframe thead th {\n",
              "        text-align: right;\n",
              "    }\n",
              "</style>\n",
              "<table border=\"1\" class=\"dataframe\">\n",
              "  <thead>\n",
              "    <tr style=\"text-align: right;\">\n",
              "      <th></th>\n",
              "      <th>date</th>\n",
              "      <th>home_team</th>\n",
              "      <th>away_team</th>\n",
              "      <th>home_score</th>\n",
              "      <th>away_score</th>\n",
              "      <th>tournament</th>\n",
              "      <th>city</th>\n",
              "      <th>country</th>\n",
              "      <th>neutral</th>\n",
              "    </tr>\n",
              "  </thead>\n",
              "  <tbody>\n",
              "    <tr>\n",
              "      <th>40834</th>\n",
              "      <td>2019-07-18</td>\n",
              "      <td>American Samoa</td>\n",
              "      <td>Tahiti</td>\n",
              "      <td>8</td>\n",
              "      <td>1</td>\n",
              "      <td>Pacific Games</td>\n",
              "      <td>Apia</td>\n",
              "      <td>Samoa</td>\n",
              "      <td>True</td>\n",
              "    </tr>\n",
              "    <tr>\n",
              "      <th>40835</th>\n",
              "      <td>2019-07-18</td>\n",
              "      <td>Fiji</td>\n",
              "      <td>Solomon Islands</td>\n",
              "      <td>4</td>\n",
              "      <td>4</td>\n",
              "      <td>Pacific Games</td>\n",
              "      <td>Apia</td>\n",
              "      <td>Samoa</td>\n",
              "      <td>True</td>\n",
              "    </tr>\n",
              "    <tr>\n",
              "      <th>40836</th>\n",
              "      <td>2019-07-19</td>\n",
              "      <td>Senegal</td>\n",
              "      <td>Algeria</td>\n",
              "      <td>0</td>\n",
              "      <td>1</td>\n",
              "      <td>African Cup of Nations</td>\n",
              "      <td>Cairo</td>\n",
              "      <td>Egypt</td>\n",
              "      <td>True</td>\n",
              "    </tr>\n",
              "    <tr>\n",
              "      <th>40837</th>\n",
              "      <td>2019-07-19</td>\n",
              "      <td>Tajikistan</td>\n",
              "      <td>North Korea</td>\n",
              "      <td>0</td>\n",
              "      <td>1</td>\n",
              "      <td>Intercontinental Cup</td>\n",
              "      <td>Ahmedabad</td>\n",
              "      <td>India</td>\n",
              "      <td>True</td>\n",
              "    </tr>\n",
              "    <tr>\n",
              "      <th>40838</th>\n",
              "      <td>2019-07-20</td>\n",
              "      <td>Papua New Guinea</td>\n",
              "      <td>Fiji</td>\n",
              "      <td>1</td>\n",
              "      <td>1</td>\n",
              "      <td>Pacific Games</td>\n",
              "      <td>Apia</td>\n",
              "      <td>Samoa</td>\n",
              "      <td>True</td>\n",
              "    </tr>\n",
              "  </tbody>\n",
              "</table>\n",
              "</div>"
            ],
            "text/plain": [
              "             date         home_team  ... country  neutral\n",
              "40834  2019-07-18    American Samoa  ...   Samoa     True\n",
              "40835  2019-07-18              Fiji  ...   Samoa     True\n",
              "40836  2019-07-19           Senegal  ...   Egypt     True\n",
              "40837  2019-07-19        Tajikistan  ...   India     True\n",
              "40838  2019-07-20  Papua New Guinea  ...   Samoa     True\n",
              "\n",
              "[5 rows x 9 columns]"
            ]
          },
          "metadata": {
            "tags": []
          },
          "execution_count": 11
        }
      ]
    },
    {
      "cell_type": "markdown",
      "metadata": {
        "id": "3SzD2mnpQ2R6"
      },
      "source": [
        "**observation** the fifa result dataset is uniform from top to the bottom."
      ]
    },
    {
      "cell_type": "code",
      "metadata": {
        "id": "3XbpTOI4RCEy",
        "outputId": "7d14d527-29e0-4e47-a7f6-8fd7639f5cd6",
        "colab": {
          "base_uri": "https://localhost:8080/",
          "height": 309
        }
      },
      "source": [
        "# Previewing the top of our fifa dataset\n",
        "#\n",
        "fifa_ranking.head()"
      ],
      "execution_count": 12,
      "outputs": [
        {
          "output_type": "execute_result",
          "data": {
            "text/html": [
              "<div>\n",
              "<style scoped>\n",
              "    .dataframe tbody tr th:only-of-type {\n",
              "        vertical-align: middle;\n",
              "    }\n",
              "\n",
              "    .dataframe tbody tr th {\n",
              "        vertical-align: top;\n",
              "    }\n",
              "\n",
              "    .dataframe thead th {\n",
              "        text-align: right;\n",
              "    }\n",
              "</style>\n",
              "<table border=\"1\" class=\"dataframe\">\n",
              "  <thead>\n",
              "    <tr style=\"text-align: right;\">\n",
              "      <th></th>\n",
              "      <th>rank</th>\n",
              "      <th>country_full</th>\n",
              "      <th>country_abrv</th>\n",
              "      <th>total_points</th>\n",
              "      <th>previous_points</th>\n",
              "      <th>rank_change</th>\n",
              "      <th>cur_year_avg</th>\n",
              "      <th>cur_year_avg_weighted</th>\n",
              "      <th>last_year_avg</th>\n",
              "      <th>last_year_avg_weighted</th>\n",
              "      <th>two_year_ago_avg</th>\n",
              "      <th>two_year_ago_weighted</th>\n",
              "      <th>three_year_ago_avg</th>\n",
              "      <th>three_year_ago_weighted</th>\n",
              "      <th>confederation</th>\n",
              "      <th>rank_date</th>\n",
              "    </tr>\n",
              "  </thead>\n",
              "  <tbody>\n",
              "    <tr>\n",
              "      <th>0</th>\n",
              "      <td>1</td>\n",
              "      <td>Germany</td>\n",
              "      <td>GER</td>\n",
              "      <td>0.0</td>\n",
              "      <td>57</td>\n",
              "      <td>0</td>\n",
              "      <td>0.0</td>\n",
              "      <td>0.0</td>\n",
              "      <td>0.0</td>\n",
              "      <td>0.0</td>\n",
              "      <td>0.0</td>\n",
              "      <td>0.0</td>\n",
              "      <td>0.0</td>\n",
              "      <td>0.0</td>\n",
              "      <td>UEFA</td>\n",
              "      <td>1993-08-08</td>\n",
              "    </tr>\n",
              "    <tr>\n",
              "      <th>1</th>\n",
              "      <td>2</td>\n",
              "      <td>Italy</td>\n",
              "      <td>ITA</td>\n",
              "      <td>0.0</td>\n",
              "      <td>57</td>\n",
              "      <td>0</td>\n",
              "      <td>0.0</td>\n",
              "      <td>0.0</td>\n",
              "      <td>0.0</td>\n",
              "      <td>0.0</td>\n",
              "      <td>0.0</td>\n",
              "      <td>0.0</td>\n",
              "      <td>0.0</td>\n",
              "      <td>0.0</td>\n",
              "      <td>UEFA</td>\n",
              "      <td>1993-08-08</td>\n",
              "    </tr>\n",
              "    <tr>\n",
              "      <th>2</th>\n",
              "      <td>3</td>\n",
              "      <td>Switzerland</td>\n",
              "      <td>SUI</td>\n",
              "      <td>0.0</td>\n",
              "      <td>50</td>\n",
              "      <td>9</td>\n",
              "      <td>0.0</td>\n",
              "      <td>0.0</td>\n",
              "      <td>0.0</td>\n",
              "      <td>0.0</td>\n",
              "      <td>0.0</td>\n",
              "      <td>0.0</td>\n",
              "      <td>0.0</td>\n",
              "      <td>0.0</td>\n",
              "      <td>UEFA</td>\n",
              "      <td>1993-08-08</td>\n",
              "    </tr>\n",
              "    <tr>\n",
              "      <th>3</th>\n",
              "      <td>4</td>\n",
              "      <td>Sweden</td>\n",
              "      <td>SWE</td>\n",
              "      <td>0.0</td>\n",
              "      <td>55</td>\n",
              "      <td>0</td>\n",
              "      <td>0.0</td>\n",
              "      <td>0.0</td>\n",
              "      <td>0.0</td>\n",
              "      <td>0.0</td>\n",
              "      <td>0.0</td>\n",
              "      <td>0.0</td>\n",
              "      <td>0.0</td>\n",
              "      <td>0.0</td>\n",
              "      <td>UEFA</td>\n",
              "      <td>1993-08-08</td>\n",
              "    </tr>\n",
              "    <tr>\n",
              "      <th>4</th>\n",
              "      <td>5</td>\n",
              "      <td>Argentina</td>\n",
              "      <td>ARG</td>\n",
              "      <td>0.0</td>\n",
              "      <td>51</td>\n",
              "      <td>5</td>\n",
              "      <td>0.0</td>\n",
              "      <td>0.0</td>\n",
              "      <td>0.0</td>\n",
              "      <td>0.0</td>\n",
              "      <td>0.0</td>\n",
              "      <td>0.0</td>\n",
              "      <td>0.0</td>\n",
              "      <td>0.0</td>\n",
              "      <td>CONMEBOL</td>\n",
              "      <td>1993-08-08</td>\n",
              "    </tr>\n",
              "  </tbody>\n",
              "</table>\n",
              "</div>"
            ],
            "text/plain": [
              "   rank country_full  ... confederation   rank_date\n",
              "0     1      Germany  ...          UEFA  1993-08-08\n",
              "1     2        Italy  ...          UEFA  1993-08-08\n",
              "2     3  Switzerland  ...          UEFA  1993-08-08\n",
              "3     4       Sweden  ...          UEFA  1993-08-08\n",
              "4     5    Argentina  ...      CONMEBOL  1993-08-08\n",
              "\n",
              "[5 rows x 16 columns]"
            ]
          },
          "metadata": {
            "tags": []
          },
          "execution_count": 12
        }
      ]
    },
    {
      "cell_type": "code",
      "metadata": {
        "id": "4msdkpzyRRkl",
        "outputId": "bd8b4f16-109f-476f-a011-bf4ebf785edc",
        "colab": {
          "base_uri": "https://localhost:8080/",
          "height": 309
        }
      },
      "source": [
        "# Previewing the bottom of our fifa dataset\n",
        "#\n",
        "fifa_ranking.tail()"
      ],
      "execution_count": 13,
      "outputs": [
        {
          "output_type": "execute_result",
          "data": {
            "text/html": [
              "<div>\n",
              "<style scoped>\n",
              "    .dataframe tbody tr th:only-of-type {\n",
              "        vertical-align: middle;\n",
              "    }\n",
              "\n",
              "    .dataframe tbody tr th {\n",
              "        vertical-align: top;\n",
              "    }\n",
              "\n",
              "    .dataframe thead th {\n",
              "        text-align: right;\n",
              "    }\n",
              "</style>\n",
              "<table border=\"1\" class=\"dataframe\">\n",
              "  <thead>\n",
              "    <tr style=\"text-align: right;\">\n",
              "      <th></th>\n",
              "      <th>rank</th>\n",
              "      <th>country_full</th>\n",
              "      <th>country_abrv</th>\n",
              "      <th>total_points</th>\n",
              "      <th>previous_points</th>\n",
              "      <th>rank_change</th>\n",
              "      <th>cur_year_avg</th>\n",
              "      <th>cur_year_avg_weighted</th>\n",
              "      <th>last_year_avg</th>\n",
              "      <th>last_year_avg_weighted</th>\n",
              "      <th>two_year_ago_avg</th>\n",
              "      <th>two_year_ago_weighted</th>\n",
              "      <th>three_year_ago_avg</th>\n",
              "      <th>three_year_ago_weighted</th>\n",
              "      <th>confederation</th>\n",
              "      <th>rank_date</th>\n",
              "    </tr>\n",
              "  </thead>\n",
              "  <tbody>\n",
              "    <tr>\n",
              "      <th>57788</th>\n",
              "      <td>206</td>\n",
              "      <td>Anguilla</td>\n",
              "      <td>AIA</td>\n",
              "      <td>0.0</td>\n",
              "      <td>0</td>\n",
              "      <td>1</td>\n",
              "      <td>0.0</td>\n",
              "      <td>0.0</td>\n",
              "      <td>0.0</td>\n",
              "      <td>0.0</td>\n",
              "      <td>0.0</td>\n",
              "      <td>0.0</td>\n",
              "      <td>0.0</td>\n",
              "      <td>0.0</td>\n",
              "      <td>CONCACAF</td>\n",
              "      <td>2018-06-07</td>\n",
              "    </tr>\n",
              "    <tr>\n",
              "      <th>57789</th>\n",
              "      <td>206</td>\n",
              "      <td>Bahamas</td>\n",
              "      <td>BAH</td>\n",
              "      <td>0.0</td>\n",
              "      <td>0</td>\n",
              "      <td>1</td>\n",
              "      <td>0.0</td>\n",
              "      <td>0.0</td>\n",
              "      <td>0.0</td>\n",
              "      <td>0.0</td>\n",
              "      <td>0.0</td>\n",
              "      <td>0.0</td>\n",
              "      <td>0.0</td>\n",
              "      <td>0.0</td>\n",
              "      <td>CONCACAF</td>\n",
              "      <td>2018-06-07</td>\n",
              "    </tr>\n",
              "    <tr>\n",
              "      <th>57790</th>\n",
              "      <td>206</td>\n",
              "      <td>Eritrea</td>\n",
              "      <td>ERI</td>\n",
              "      <td>0.0</td>\n",
              "      <td>0</td>\n",
              "      <td>1</td>\n",
              "      <td>0.0</td>\n",
              "      <td>0.0</td>\n",
              "      <td>0.0</td>\n",
              "      <td>0.0</td>\n",
              "      <td>0.0</td>\n",
              "      <td>0.0</td>\n",
              "      <td>0.0</td>\n",
              "      <td>0.0</td>\n",
              "      <td>CAF</td>\n",
              "      <td>2018-06-07</td>\n",
              "    </tr>\n",
              "    <tr>\n",
              "      <th>57791</th>\n",
              "      <td>206</td>\n",
              "      <td>Somalia</td>\n",
              "      <td>SOM</td>\n",
              "      <td>0.0</td>\n",
              "      <td>0</td>\n",
              "      <td>1</td>\n",
              "      <td>0.0</td>\n",
              "      <td>0.0</td>\n",
              "      <td>0.0</td>\n",
              "      <td>0.0</td>\n",
              "      <td>0.0</td>\n",
              "      <td>0.0</td>\n",
              "      <td>0.0</td>\n",
              "      <td>0.0</td>\n",
              "      <td>CAF</td>\n",
              "      <td>2018-06-07</td>\n",
              "    </tr>\n",
              "    <tr>\n",
              "      <th>57792</th>\n",
              "      <td>206</td>\n",
              "      <td>Tonga</td>\n",
              "      <td>TGA</td>\n",
              "      <td>0.0</td>\n",
              "      <td>0</td>\n",
              "      <td>1</td>\n",
              "      <td>0.0</td>\n",
              "      <td>0.0</td>\n",
              "      <td>0.0</td>\n",
              "      <td>0.0</td>\n",
              "      <td>0.0</td>\n",
              "      <td>0.0</td>\n",
              "      <td>0.0</td>\n",
              "      <td>0.0</td>\n",
              "      <td>OFC</td>\n",
              "      <td>2018-06-07</td>\n",
              "    </tr>\n",
              "  </tbody>\n",
              "</table>\n",
              "</div>"
            ],
            "text/plain": [
              "       rank country_full  ... confederation   rank_date\n",
              "57788   206     Anguilla  ...      CONCACAF  2018-06-07\n",
              "57789   206      Bahamas  ...      CONCACAF  2018-06-07\n",
              "57790   206      Eritrea  ...           CAF  2018-06-07\n",
              "57791   206      Somalia  ...           CAF  2018-06-07\n",
              "57792   206        Tonga  ...           OFC  2018-06-07\n",
              "\n",
              "[5 rows x 16 columns]"
            ]
          },
          "metadata": {
            "tags": []
          },
          "execution_count": 13
        }
      ]
    },
    {
      "cell_type": "markdown",
      "metadata": {
        "id": "npCVgoW-Rite"
      },
      "source": [
        "**observation** fifa ranking dataset has uniform values from top to the bottom."
      ]
    },
    {
      "cell_type": "code",
      "metadata": {
        "id": "xIz7AHnSX2Yv",
        "outputId": "6d8da679-23ed-45e5-986b-5440452d5859",
        "colab": {
          "base_uri": "https://localhost:8080/"
        }
      },
      "source": [
        "# Checking whether each column of result dataset has an appropriate datatype\n",
        "#\n",
        "result_df.dtypes"
      ],
      "execution_count": 14,
      "outputs": [
        {
          "output_type": "execute_result",
          "data": {
            "text/plain": [
              "date          object\n",
              "home_team     object\n",
              "away_team     object\n",
              "home_score     int64\n",
              "away_score     int64\n",
              "tournament    object\n",
              "city          object\n",
              "country       object\n",
              "neutral         bool\n",
              "dtype: object"
            ]
          },
          "metadata": {
            "tags": []
          },
          "execution_count": 14
        }
      ]
    },
    {
      "cell_type": "markdown",
      "metadata": {
        "id": "TZqshbsGYYiV"
      },
      "source": [
        "**observation** the dataype corresponds to the variables appropriately"
      ]
    },
    {
      "cell_type": "code",
      "metadata": {
        "id": "o-KcN9PKY08K",
        "outputId": "070d8ebd-6537-45c1-e637-3b60be1f84e0",
        "colab": {
          "base_uri": "https://localhost:8080/"
        }
      },
      "source": [
        "# Checking whether each column of result dataset has an appropriate datatype\n",
        "#\n",
        "fifa_ranking.dtypes"
      ],
      "execution_count": 15,
      "outputs": [
        {
          "output_type": "execute_result",
          "data": {
            "text/plain": [
              "rank                         int64\n",
              "country_full                object\n",
              "country_abrv                object\n",
              "total_points               float64\n",
              "previous_points              int64\n",
              "rank_change                  int64\n",
              "cur_year_avg               float64\n",
              "cur_year_avg_weighted      float64\n",
              "last_year_avg              float64\n",
              "last_year_avg_weighted     float64\n",
              "two_year_ago_avg           float64\n",
              "two_year_ago_weighted      float64\n",
              "three_year_ago_avg         float64\n",
              "three_year_ago_weighted    float64\n",
              "confederation               object\n",
              "rank_date                   object\n",
              "dtype: object"
            ]
          },
          "metadata": {
            "tags": []
          },
          "execution_count": 15
        }
      ]
    },
    {
      "cell_type": "markdown",
      "metadata": {
        "id": "oOCOJjI0ZHUU"
      },
      "source": [
        "**observation** the datatype corresponds to the variables appropriately"
      ]
    },
    {
      "cell_type": "markdown",
      "metadata": {
        "id": "yb4_Mh4VZMzU"
      },
      "source": [
        "## 4. External Data Source Validation\n",
        "\n",
        "Making sure your data matches something outside of the dataset is very important"
      ]
    },
    {
      "cell_type": "markdown",
      "metadata": {
        "id": "ivaanwYOZdrN"
      },
      "source": [
        "### a. Validation"
      ]
    },
    {
      "cell_type": "code",
      "metadata": {
        "id": "PoWxM65QaC0m",
        "outputId": "3d0c363e-0922-41dd-eba8-d52709b83284",
        "colab": {
          "base_uri": "https://localhost:8080/"
        }
      },
      "source": [
        "#validy for result dataset\n",
        "#\n",
        "result_df.country.unique"
      ],
      "execution_count": 16,
      "outputs": [
        {
          "output_type": "execute_result",
          "data": {
            "text/plain": [
              "<bound method Series.unique of 0        Scotland\n",
              "1         England\n",
              "2        Scotland\n",
              "3         England\n",
              "4        Scotland\n",
              "           ...   \n",
              "40834       Samoa\n",
              "40835       Samoa\n",
              "40836       Egypt\n",
              "40837       India\n",
              "40838       Samoa\n",
              "Name: country, Length: 40839, dtype: object>"
            ]
          },
          "metadata": {
            "tags": []
          },
          "execution_count": 16
        }
      ]
    },
    {
      "cell_type": "markdown",
      "metadata": {
        "id": "QBwaVj8nayEn"
      },
      "source": [
        "**observation** the country names are correct. thus the dataset is valid."
      ]
    },
    {
      "cell_type": "code",
      "metadata": {
        "id": "UN0_shSEa9zT",
        "outputId": "0cc90451-4414-4f7d-a81d-a46cb8e5bafb",
        "colab": {
          "base_uri": "https://localhost:8080/"
        }
      },
      "source": [
        "#validity for fifa result dataset\n",
        "#\n",
        "fifa_ranking.rank_date.unique"
      ],
      "execution_count": 17,
      "outputs": [
        {
          "output_type": "execute_result",
          "data": {
            "text/plain": [
              "<bound method Series.unique of 0        1993-08-08\n",
              "1        1993-08-08\n",
              "2        1993-08-08\n",
              "3        1993-08-08\n",
              "4        1993-08-08\n",
              "            ...    \n",
              "57788    2018-06-07\n",
              "57789    2018-06-07\n",
              "57790    2018-06-07\n",
              "57791    2018-06-07\n",
              "57792    2018-06-07\n",
              "Name: rank_date, Length: 57793, dtype: object>"
            ]
          },
          "metadata": {
            "tags": []
          },
          "execution_count": 17
        }
      ]
    },
    {
      "cell_type": "markdown",
      "metadata": {
        "id": "IqSzZ8ExbQC_"
      },
      "source": [
        "**observation** the date conforms with the international standard."
      ]
    },
    {
      "cell_type": "markdown",
      "metadata": {
        "id": "oVa6ZiPzbmTd"
      },
      "source": [
        "## 5. Tidying the Dataset "
      ]
    },
    {
      "cell_type": "markdown",
      "metadata": {
        "id": "m-b3_uFtUPGg"
      },
      "source": [
        "###tidying dataset 1\n",
        "\n",
        "\n",
        "\n",
        "\n"
      ]
    },
    {
      "cell_type": "code",
      "metadata": {
        "id": "MPxm5fnQe5X3",
        "outputId": "b9c6b378-455a-4b67-cf0b-710982cf86c7",
        "colab": {
          "base_uri": "https://localhost:8080/",
          "height": 321
        }
      },
      "source": [
        "#5.1a data cleaning for result dataset\n",
        "#\n",
        "# Checking for Outliers\n",
        "#\n",
        "result_df1 = result_df\n",
        "plt.figure(figsize = (10, 5))\n",
        "result_df1.boxplot()\n",
        "plt.show()"
      ],
      "execution_count": 18,
      "outputs": [
        {
          "output_type": "display_data",
          "data": {
            "image/png": "[encoded data removed]",
            "text/plain": [
              "<Figure size 720x360 with 1 Axes>"
            ]
          },
          "metadata": {
            "tags": [],
            "needs_background": "light"
          }
        }
      ]
    },
    {
      "cell_type": "markdown",
      "metadata": {
        "id": "mQVhg7FLfkQn"
      },
      "source": [
        "**observation** We see that the 'home_score' and 'away_score' variables has a lot of outliers. However, we cannot remove them because they reflect real life scores, and therefore provide useful insights. However, it is worth keeping in mind that polymonial and  logistic regression assumes that the dataset it will be fitted on has few to no outliers."
      ]
    },
    {
      "cell_type": "code",
      "metadata": {
        "id": "goFIJz1exb8F",
        "outputId": "564fe13c-95cb-4ec1-fd0f-bbd43fd2cd18",
        "colab": {
          "base_uri": "https://localhost:8080/"
        }
      },
      "source": [
        "#5.1b concise summary about dataset\n",
        "#\n",
        "result_df1.info()\n"
      ],
      "execution_count": 19,
      "outputs": [
        {
          "output_type": "stream",
          "text": [
            "<class 'pandas.core.frame.DataFrame'>\n",
            "RangeIndex: 40839 entries, 0 to 40838\n",
            "Data columns (total 9 columns):\n",
            " #   Column      Non-Null Count  Dtype \n",
            "---  ------      --------------  ----- \n",
            " 0   date        40839 non-null  object\n",
            " 1   home_team   40839 non-null  object\n",
            " 2   away_team   40839 non-null  object\n",
            " 3   home_score  40839 non-null  int64 \n",
            " 4   away_score  40839 non-null  int64 \n",
            " 5   tournament  40839 non-null  object\n",
            " 6   city        40839 non-null  object\n",
            " 7   country     40839 non-null  object\n",
            " 8   neutral     40839 non-null  bool  \n",
            "dtypes: bool(1), int64(2), object(6)\n",
            "memory usage: 2.5+ MB\n"
          ],
          "name": "stdout"
        }
      ]
    },
    {
      "cell_type": "markdown",
      "metadata": {
        "id": "UPpotsZC0utP"
      },
      "source": [
        "**observation**  all the datatypes are appropriate and all variables has 40839 records, this is a hind that there is no missing values."
      ]
    },
    {
      "cell_type": "code",
      "metadata": {
        "id": "T8vsG8JGgnXE",
        "outputId": "b5eee179-4cca-47c8-a659-76eba049531a",
        "colab": {
          "base_uri": "https://localhost:8080/"
        }
      },
      "source": [
        "#5.1c Identifying the Missing Data\n",
        "#\n",
        "result_df1.isna().sum()"
      ],
      "execution_count": 20,
      "outputs": [
        {
          "output_type": "execute_result",
          "data": {
            "text/plain": [
              "date          0\n",
              "home_team     0\n",
              "away_team     0\n",
              "home_score    0\n",
              "away_score    0\n",
              "tournament    0\n",
              "city          0\n",
              "country       0\n",
              "neutral       0\n",
              "dtype: int64"
            ]
          },
          "metadata": {
            "tags": []
          },
          "execution_count": 20
        }
      ]
    },
    {
      "cell_type": "markdown",
      "metadata": {
        "id": "qS5YMqtTh2eV"
      },
      "source": [
        "**observartion** there is no missing values in result dataset."
      ]
    },
    {
      "cell_type": "code",
      "metadata": {
        "id": "uust28WJhtFa",
        "outputId": "2abb008b-7120-43ad-b4c0-0982fa86f885",
        "colab": {
          "base_uri": "https://localhost:8080/"
        }
      },
      "source": [
        "#5.1d confirming no  Missing Data\n",
        "#\n",
        "result_df1.isna().any()"
      ],
      "execution_count": 21,
      "outputs": [
        {
          "output_type": "execute_result",
          "data": {
            "text/plain": [
              "date          False\n",
              "home_team     False\n",
              "away_team     False\n",
              "home_score    False\n",
              "away_score    False\n",
              "tournament    False\n",
              "city          False\n",
              "country       False\n",
              "neutral       False\n",
              "dtype: bool"
            ]
          },
          "metadata": {
            "tags": []
          },
          "execution_count": 21
        }
      ]
    },
    {
      "cell_type": "markdown",
      "metadata": {
        "id": "dpnIvoLaipk_"
      },
      "source": [
        "**observation** no missing value is confirmed."
      ]
    },
    {
      "cell_type": "code",
      "metadata": {
        "id": "SZrOCkA8iy1z",
        "outputId": "2448a4ee-e541-4bb9-8aa1-fcff22102ec3",
        "colab": {
          "base_uri": "https://localhost:8080/"
        }
      },
      "source": [
        "#5.1e checking for duplicates in result dataset.\n",
        "#\n",
        "result_df1.duplicated().sum()\n"
      ],
      "execution_count": 22,
      "outputs": [
        {
          "output_type": "execute_result",
          "data": {
            "text/plain": [
              "0"
            ]
          },
          "metadata": {
            "tags": []
          },
          "execution_count": 22
        }
      ]
    },
    {
      "cell_type": "code",
      "metadata": {
        "id": "MRbGUZYzjEAW",
        "outputId": "5ae43cc7-79b9-49e8-acbf-9deaacea4e30",
        "colab": {
          "base_uri": "https://localhost:8080/"
        }
      },
      "source": [
        "#5.1f confirming no duplicates in result dataset\n",
        "#\n",
        "result_df1.duplicated().any()\n"
      ],
      "execution_count": 23,
      "outputs": [
        {
          "output_type": "execute_result",
          "data": {
            "text/plain": [
              "False"
            ]
          },
          "metadata": {
            "tags": []
          },
          "execution_count": 23
        }
      ]
    },
    {
      "cell_type": "markdown",
      "metadata": {
        "id": "gANt3whhjQY0"
      },
      "source": [
        "**observation**: there is no duplicated values."
      ]
    },
    {
      "cell_type": "code",
      "metadata": {
        "id": "n4aVw0F0jd90"
      },
      "source": [
        "#5.1g converting the date column to type datetime\n",
        " \n",
        "import datetime\n",
        "result_df1['date'] = pd.to_datetime(result_df1['date'])\n",
        "#\n",
        "# splitting the datetime column into month and year\n",
        "result_df1['year'], result_df1['month'] = result_df1['date'].dt.year, result_df1['date'].dt.month"
      ],
      "execution_count": 24,
      "outputs": []
    },
    {
      "cell_type": "markdown",
      "metadata": {
        "id": "HtmTHhwP76zD"
      },
      "source": [
        "**observation** this ensure the date is in the right format and datatype."
      ]
    },
    {
      "cell_type": "code",
      "metadata": {
        "id": "X0b0C_SeoDDk",
        "outputId": "e3ffb2a6-3062-4b92-c9b2-1ce2d8002bba",
        "colab": {
          "base_uri": "https://localhost:8080/",
          "height": 204
        }
      },
      "source": [
        "#dataset overview \n",
        "#\n",
        "result_df1.head()"
      ],
      "execution_count": 25,
      "outputs": [
        {
          "output_type": "execute_result",
          "data": {
            "text/html": [
              "<div>\n",
              "<style scoped>\n",
              "    .dataframe tbody tr th:only-of-type {\n",
              "        vertical-align: middle;\n",
              "    }\n",
              "\n",
              "    .dataframe tbody tr th {\n",
              "        vertical-align: top;\n",
              "    }\n",
              "\n",
              "    .dataframe thead th {\n",
              "        text-align: right;\n",
              "    }\n",
              "</style>\n",
              "<table border=\"1\" class=\"dataframe\">\n",
              "  <thead>\n",
              "    <tr style=\"text-align: right;\">\n",
              "      <th></th>\n",
              "      <th>date</th>\n",
              "      <th>home_team</th>\n",
              "      <th>away_team</th>\n",
              "      <th>home_score</th>\n",
              "      <th>away_score</th>\n",
              "      <th>tournament</th>\n",
              "      <th>city</th>\n",
              "      <th>country</th>\n",
              "      <th>neutral</th>\n",
              "      <th>year</th>\n",
              "      <th>month</th>\n",
              "    </tr>\n",
              "  </thead>\n",
              "  <tbody>\n",
              "    <tr>\n",
              "      <th>0</th>\n",
              "      <td>1872-11-30</td>\n",
              "      <td>Scotland</td>\n",
              "      <td>England</td>\n",
              "      <td>0</td>\n",
              "      <td>0</td>\n",
              "      <td>Friendly</td>\n",
              "      <td>Glasgow</td>\n",
              "      <td>Scotland</td>\n",
              "      <td>False</td>\n",
              "      <td>1872</td>\n",
              "      <td>11</td>\n",
              "    </tr>\n",
              "    <tr>\n",
              "      <th>1</th>\n",
              "      <td>1873-03-08</td>\n",
              "      <td>England</td>\n",
              "      <td>Scotland</td>\n",
              "      <td>4</td>\n",
              "      <td>2</td>\n",
              "      <td>Friendly</td>\n",
              "      <td>London</td>\n",
              "      <td>England</td>\n",
              "      <td>False</td>\n",
              "      <td>1873</td>\n",
              "      <td>3</td>\n",
              "    </tr>\n",
              "    <tr>\n",
              "      <th>2</th>\n",
              "      <td>1874-03-07</td>\n",
              "      <td>Scotland</td>\n",
              "      <td>England</td>\n",
              "      <td>2</td>\n",
              "      <td>1</td>\n",
              "      <td>Friendly</td>\n",
              "      <td>Glasgow</td>\n",
              "      <td>Scotland</td>\n",
              "      <td>False</td>\n",
              "      <td>1874</td>\n",
              "      <td>3</td>\n",
              "    </tr>\n",
              "    <tr>\n",
              "      <th>3</th>\n",
              "      <td>1875-03-06</td>\n",
              "      <td>England</td>\n",
              "      <td>Scotland</td>\n",
              "      <td>2</td>\n",
              "      <td>2</td>\n",
              "      <td>Friendly</td>\n",
              "      <td>London</td>\n",
              "      <td>England</td>\n",
              "      <td>False</td>\n",
              "      <td>1875</td>\n",
              "      <td>3</td>\n",
              "    </tr>\n",
              "    <tr>\n",
              "      <th>4</th>\n",
              "      <td>1876-03-04</td>\n",
              "      <td>Scotland</td>\n",
              "      <td>England</td>\n",
              "      <td>3</td>\n",
              "      <td>0</td>\n",
              "      <td>Friendly</td>\n",
              "      <td>Glasgow</td>\n",
              "      <td>Scotland</td>\n",
              "      <td>False</td>\n",
              "      <td>1876</td>\n",
              "      <td>3</td>\n",
              "    </tr>\n",
              "  </tbody>\n",
              "</table>\n",
              "</div>"
            ],
            "text/plain": [
              "        date home_team away_team  home_score  ...   country neutral  year month\n",
              "0 1872-11-30  Scotland   England           0  ...  Scotland   False  1872    11\n",
              "1 1873-03-08   England  Scotland           4  ...   England   False  1873     3\n",
              "2 1874-03-07  Scotland   England           2  ...  Scotland   False  1874     3\n",
              "3 1875-03-06   England  Scotland           2  ...   England   False  1875     3\n",
              "4 1876-03-04  Scotland   England           3  ...  Scotland   False  1876     3\n",
              "\n",
              "[5 rows x 11 columns]"
            ]
          },
          "metadata": {
            "tags": []
          },
          "execution_count": 25
        }
      ]
    },
    {
      "cell_type": "code",
      "metadata": {
        "id": "KeNxqLqw2BcE",
        "outputId": "d06d330c-d00d-47f4-b0ba-12a6e147723f",
        "colab": {
          "base_uri": "https://localhost:8080/",
          "height": 204
        }
      },
      "source": [
        "#5.1h dropping unnessary colunms\n",
        "#\n",
        "#Dropping unnecesary columns\n",
        "result_df1.drop(['date','city','country','neutral'], axis=1, inplace=True)\n",
        "result_df1.head()"
      ],
      "execution_count": 26,
      "outputs": [
        {
          "output_type": "execute_result",
          "data": {
            "text/html": [
              "<div>\n",
              "<style scoped>\n",
              "    .dataframe tbody tr th:only-of-type {\n",
              "        vertical-align: middle;\n",
              "    }\n",
              "\n",
              "    .dataframe tbody tr th {\n",
              "        vertical-align: top;\n",
              "    }\n",
              "\n",
              "    .dataframe thead th {\n",
              "        text-align: right;\n",
              "    }\n",
              "</style>\n",
              "<table border=\"1\" class=\"dataframe\">\n",
              "  <thead>\n",
              "    <tr style=\"text-align: right;\">\n",
              "      <th></th>\n",
              "      <th>home_team</th>\n",
              "      <th>away_team</th>\n",
              "      <th>home_score</th>\n",
              "      <th>away_score</th>\n",
              "      <th>tournament</th>\n",
              "      <th>year</th>\n",
              "      <th>month</th>\n",
              "    </tr>\n",
              "  </thead>\n",
              "  <tbody>\n",
              "    <tr>\n",
              "      <th>0</th>\n",
              "      <td>Scotland</td>\n",
              "      <td>England</td>\n",
              "      <td>0</td>\n",
              "      <td>0</td>\n",
              "      <td>Friendly</td>\n",
              "      <td>1872</td>\n",
              "      <td>11</td>\n",
              "    </tr>\n",
              "    <tr>\n",
              "      <th>1</th>\n",
              "      <td>England</td>\n",
              "      <td>Scotland</td>\n",
              "      <td>4</td>\n",
              "      <td>2</td>\n",
              "      <td>Friendly</td>\n",
              "      <td>1873</td>\n",
              "      <td>3</td>\n",
              "    </tr>\n",
              "    <tr>\n",
              "      <th>2</th>\n",
              "      <td>Scotland</td>\n",
              "      <td>England</td>\n",
              "      <td>2</td>\n",
              "      <td>1</td>\n",
              "      <td>Friendly</td>\n",
              "      <td>1874</td>\n",
              "      <td>3</td>\n",
              "    </tr>\n",
              "    <tr>\n",
              "      <th>3</th>\n",
              "      <td>England</td>\n",
              "      <td>Scotland</td>\n",
              "      <td>2</td>\n",
              "      <td>2</td>\n",
              "      <td>Friendly</td>\n",
              "      <td>1875</td>\n",
              "      <td>3</td>\n",
              "    </tr>\n",
              "    <tr>\n",
              "      <th>4</th>\n",
              "      <td>Scotland</td>\n",
              "      <td>England</td>\n",
              "      <td>3</td>\n",
              "      <td>0</td>\n",
              "      <td>Friendly</td>\n",
              "      <td>1876</td>\n",
              "      <td>3</td>\n",
              "    </tr>\n",
              "  </tbody>\n",
              "</table>\n",
              "</div>"
            ],
            "text/plain": [
              "  home_team away_team  home_score  away_score tournament  year  month\n",
              "0  Scotland   England           0           0   Friendly  1872     11\n",
              "1   England  Scotland           4           2   Friendly  1873      3\n",
              "2  Scotland   England           2           1   Friendly  1874      3\n",
              "3   England  Scotland           2           2   Friendly  1875      3\n",
              "4  Scotland   England           3           0   Friendly  1876      3"
            ]
          },
          "metadata": {
            "tags": []
          },
          "execution_count": 26
        }
      ]
    },
    {
      "cell_type": "markdown",
      "metadata": {
        "id": "48wKlEW164-X"
      },
      "source": [
        "**observation** we dropped the colunms since they will not be used on our analysis."
      ]
    },
    {
      "cell_type": "code",
      "metadata": {
        "id": "KDKNWhzCwpcj",
        "outputId": "00320bd1-46b0-4a46-c2df-3d22c756765c",
        "colab": {
          "base_uri": "https://localhost:8080/"
        }
      },
      "source": [
        "#5.1i standardizing variable names for readability\n",
        "#\n",
        "result_df1.columns = result_df1.columns.str.strip().str.lower().str.replace(' ', '_').str.replace('(', '').str.replace(')', '')\n",
        "result_df1.columns"
      ],
      "execution_count": 27,
      "outputs": [
        {
          "output_type": "execute_result",
          "data": {
            "text/plain": [
              "Index(['home_team', 'away_team', 'home_score', 'away_score', 'tournament',\n",
              "       'year', 'month'],\n",
              "      dtype='object')"
            ]
          },
          "metadata": {
            "tags": []
          },
          "execution_count": 27
        }
      ]
    },
    {
      "cell_type": "markdown",
      "metadata": {
        "id": "XCuEQnx87bX6"
      },
      "source": [
        "**Observation**: this ensure the variables have standard format. this helps in data analysis"
      ]
    },
    {
      "cell_type": "markdown",
      "metadata": {
        "id": "JLg3AnAlYALq"
      },
      "source": [
        "### tidying dataset 2"
      ]
    },
    {
      "cell_type": "code",
      "metadata": {
        "id": "sRUGHd-j_A3x",
        "outputId": "e00088be-9a72-415d-9d44-5dc622818205",
        "colab": {
          "base_uri": "https://localhost:8080/",
          "height": 321
        }
      },
      "source": [
        "#5.2a data cleaning for fifa dataset\n",
        "#\n",
        "# Checking for Outliers\n",
        "#\n",
        "fifa_ranking1 = fifa_ranking\n",
        "#\n",
        "plt.figure(figsize = (10, 5))\n",
        "result_df1.boxplot()\n",
        "plt.show()"
      ],
      "execution_count": 28,
      "outputs": [
        {
          "output_type": "display_data",
          "data": {
            "image/png": "[encoded data removed]",
            "text/plain": [
              "<Figure size 720x360 with 1 Axes>"
            ]
          },
          "metadata": {
            "tags": [],
            "needs_background": "light"
          }
        }
      ]
    },
    {
      "cell_type": "markdown",
      "metadata": {
        "id": "TWneI6aZA0Va"
      },
      "source": [
        "observation We see that the 'home_score' and 'away_score' variables has a lot of outliers. However, we cannot remove them because they reflect real life scores"
      ]
    },
    {
      "cell_type": "code",
      "metadata": {
        "id": "h71R7ql3A5SZ",
        "outputId": "7c9dcede-0527-4805-e267-d21495adb88b",
        "colab": {
          "base_uri": "https://localhost:8080/"
        }
      },
      "source": [
        "#5.2b concise summary about fifa dataset\n",
        "#\n",
        "fifa_ranking1.info()"
      ],
      "execution_count": 29,
      "outputs": [
        {
          "output_type": "stream",
          "text": [
            "<class 'pandas.core.frame.DataFrame'>\n",
            "RangeIndex: 57793 entries, 0 to 57792\n",
            "Data columns (total 16 columns):\n",
            " #   Column                   Non-Null Count  Dtype  \n",
            "---  ------                   --------------  -----  \n",
            " 0   rank                     57793 non-null  int64  \n",
            " 1   country_full             57793 non-null  object \n",
            " 2   country_abrv             57793 non-null  object \n",
            " 3   total_points             57793 non-null  float64\n",
            " 4   previous_points          57793 non-null  int64  \n",
            " 5   rank_change              57793 non-null  int64  \n",
            " 6   cur_year_avg             57793 non-null  float64\n",
            " 7   cur_year_avg_weighted    57793 non-null  float64\n",
            " 8   last_year_avg            57793 non-null  float64\n",
            " 9   last_year_avg_weighted   57793 non-null  float64\n",
            " 10  two_year_ago_avg         57793 non-null  float64\n",
            " 11  two_year_ago_weighted    57793 non-null  float64\n",
            " 12  three_year_ago_avg       57793 non-null  float64\n",
            " 13  three_year_ago_weighted  57793 non-null  float64\n",
            " 14  confederation            57793 non-null  object \n",
            " 15  rank_date                57793 non-null  object \n",
            "dtypes: float64(9), int64(3), object(4)\n",
            "memory usage: 7.1+ MB\n"
          ],
          "name": "stdout"
        }
      ]
    },
    {
      "cell_type": "markdown",
      "metadata": {
        "id": "nBK7oN0tBReo"
      },
      "source": [
        "**obersation** this is a clue there is no null values since all the variables has 57793 records and the data type is appropriate."
      ]
    },
    {
      "cell_type": "code",
      "metadata": {
        "id": "Qoz_QbE9B8se",
        "outputId": "2a6a4fc3-e0f5-4a56-900c-466086428d67",
        "colab": {
          "base_uri": "https://localhost:8080/"
        }
      },
      "source": [
        "#5.2c Identifying the Missing Data\n",
        "#\n",
        "fifa_ranking1.isna().sum()"
      ],
      "execution_count": 30,
      "outputs": [
        {
          "output_type": "execute_result",
          "data": {
            "text/plain": [
              "rank                       0\n",
              "country_full               0\n",
              "country_abrv               0\n",
              "total_points               0\n",
              "previous_points            0\n",
              "rank_change                0\n",
              "cur_year_avg               0\n",
              "cur_year_avg_weighted      0\n",
              "last_year_avg              0\n",
              "last_year_avg_weighted     0\n",
              "two_year_ago_avg           0\n",
              "two_year_ago_weighted      0\n",
              "three_year_ago_avg         0\n",
              "three_year_ago_weighted    0\n",
              "confederation              0\n",
              "rank_date                  0\n",
              "dtype: int64"
            ]
          },
          "metadata": {
            "tags": []
          },
          "execution_count": 30
        }
      ]
    },
    {
      "cell_type": "markdown",
      "metadata": {
        "id": "vEKKdTpnCOBp"
      },
      "source": [
        "**observation**: there is no missing values.\n",
        "\n",
        "\n"
      ]
    },
    {
      "cell_type": "code",
      "metadata": {
        "id": "r1vn6B7cDWv-",
        "outputId": "c03e2ef6-80ba-43e2-d5fb-f5ee546dc5e3",
        "colab": {
          "base_uri": "https://localhost:8080/"
        }
      },
      "source": [
        "#checking for duplicates.\n",
        "#\n",
        "fifa_ranking1.duplicated().sum()"
      ],
      "execution_count": 31,
      "outputs": [
        {
          "output_type": "execute_result",
          "data": {
            "text/plain": [
              "37"
            ]
          },
          "metadata": {
            "tags": []
          },
          "execution_count": 31
        }
      ]
    },
    {
      "cell_type": "markdown",
      "metadata": {
        "id": "NlExbM-grDwM"
      },
      "source": [
        "**observation** there are 37 missing values"
      ]
    },
    {
      "cell_type": "code",
      "metadata": {
        "id": "X46GRHkRbGaW",
        "outputId": "227e1973-fe4d-46ba-a9d7-8101cae04720",
        "colab": {
          "base_uri": "https://localhost:8080/"
        }
      },
      "source": [
        "#removing duplicates\n",
        "#\n",
        "fifa_ranking1.drop_duplicates(keep='first', inplace = True)\n",
        "#\n",
        "# confirming the duplicates have been removed\n",
        "#\n",
        "fifa_ranking1.duplicated().any()"
      ],
      "execution_count": 32,
      "outputs": [
        {
          "output_type": "execute_result",
          "data": {
            "text/plain": [
              "False"
            ]
          },
          "metadata": {
            "tags": []
          },
          "execution_count": 32
        }
      ]
    },
    {
      "cell_type": "markdown",
      "metadata": {
        "id": "AxTOfUVcboVz"
      },
      "source": [
        "**observation** all the duplicates have been removed."
      ]
    },
    {
      "cell_type": "code",
      "metadata": {
        "id": "5UDK_ubrkqTr"
      },
      "source": [
        "# #converting the rank_date column to type datetime\n",
        "#\n",
        "fifa_ranking1['rank_date'] = pd.to_datetime(fifa_ranking1['rank_date'])"
      ],
      "execution_count": 33,
      "outputs": []
    },
    {
      "cell_type": "code",
      "metadata": {
        "id": "UeQiLOROtbxK",
        "outputId": "2ec2f183-6947-4453-f9e4-ae8ac9eb5cb1",
        "colab": {
          "base_uri": "https://localhost:8080/",
          "height": 309
        }
      },
      "source": [
        "# splitting the datetime column into month and year\n",
        "#\n",
        "fifa_ranking1['year'], fifa_ranking1['month'] = fifa_ranking1['rank_date'].dt.year, fifa_ranking1['rank_date'].dt.month\n",
        "#\n",
        "#previeving the dataset\n",
        "fifa_ranking1.head()"
      ],
      "execution_count": 34,
      "outputs": [
        {
          "output_type": "execute_result",
          "data": {
            "text/html": [
              "<div>\n",
              "<style scoped>\n",
              "    .dataframe tbody tr th:only-of-type {\n",
              "        vertical-align: middle;\n",
              "    }\n",
              "\n",
              "    .dataframe tbody tr th {\n",
              "        vertical-align: top;\n",
              "    }\n",
              "\n",
              "    .dataframe thead th {\n",
              "        text-align: right;\n",
              "    }\n",
              "</style>\n",
              "<table border=\"1\" class=\"dataframe\">\n",
              "  <thead>\n",
              "    <tr style=\"text-align: right;\">\n",
              "      <th></th>\n",
              "      <th>rank</th>\n",
              "      <th>country_full</th>\n",
              "      <th>country_abrv</th>\n",
              "      <th>total_points</th>\n",
              "      <th>previous_points</th>\n",
              "      <th>rank_change</th>\n",
              "      <th>cur_year_avg</th>\n",
              "      <th>cur_year_avg_weighted</th>\n",
              "      <th>last_year_avg</th>\n",
              "      <th>last_year_avg_weighted</th>\n",
              "      <th>two_year_ago_avg</th>\n",
              "      <th>two_year_ago_weighted</th>\n",
              "      <th>three_year_ago_avg</th>\n",
              "      <th>three_year_ago_weighted</th>\n",
              "      <th>confederation</th>\n",
              "      <th>rank_date</th>\n",
              "      <th>year</th>\n",
              "      <th>month</th>\n",
              "    </tr>\n",
              "  </thead>\n",
              "  <tbody>\n",
              "    <tr>\n",
              "      <th>0</th>\n",
              "      <td>1</td>\n",
              "      <td>Germany</td>\n",
              "      <td>GER</td>\n",
              "      <td>0.0</td>\n",
              "      <td>57</td>\n",
              "      <td>0</td>\n",
              "      <td>0.0</td>\n",
              "      <td>0.0</td>\n",
              "      <td>0.0</td>\n",
              "      <td>0.0</td>\n",
              "      <td>0.0</td>\n",
              "      <td>0.0</td>\n",
              "      <td>0.0</td>\n",
              "      <td>0.0</td>\n",
              "      <td>UEFA</td>\n",
              "      <td>1993-08-08</td>\n",
              "      <td>1993</td>\n",
              "      <td>8</td>\n",
              "    </tr>\n",
              "    <tr>\n",
              "      <th>1</th>\n",
              "      <td>2</td>\n",
              "      <td>Italy</td>\n",
              "      <td>ITA</td>\n",
              "      <td>0.0</td>\n",
              "      <td>57</td>\n",
              "      <td>0</td>\n",
              "      <td>0.0</td>\n",
              "      <td>0.0</td>\n",
              "      <td>0.0</td>\n",
              "      <td>0.0</td>\n",
              "      <td>0.0</td>\n",
              "      <td>0.0</td>\n",
              "      <td>0.0</td>\n",
              "      <td>0.0</td>\n",
              "      <td>UEFA</td>\n",
              "      <td>1993-08-08</td>\n",
              "      <td>1993</td>\n",
              "      <td>8</td>\n",
              "    </tr>\n",
              "    <tr>\n",
              "      <th>2</th>\n",
              "      <td>3</td>\n",
              "      <td>Switzerland</td>\n",
              "      <td>SUI</td>\n",
              "      <td>0.0</td>\n",
              "      <td>50</td>\n",
              "      <td>9</td>\n",
              "      <td>0.0</td>\n",
              "      <td>0.0</td>\n",
              "      <td>0.0</td>\n",
              "      <td>0.0</td>\n",
              "      <td>0.0</td>\n",
              "      <td>0.0</td>\n",
              "      <td>0.0</td>\n",
              "      <td>0.0</td>\n",
              "      <td>UEFA</td>\n",
              "      <td>1993-08-08</td>\n",
              "      <td>1993</td>\n",
              "      <td>8</td>\n",
              "    </tr>\n",
              "    <tr>\n",
              "      <th>3</th>\n",
              "      <td>4</td>\n",
              "      <td>Sweden</td>\n",
              "      <td>SWE</td>\n",
              "      <td>0.0</td>\n",
              "      <td>55</td>\n",
              "      <td>0</td>\n",
              "      <td>0.0</td>\n",
              "      <td>0.0</td>\n",
              "      <td>0.0</td>\n",
              "      <td>0.0</td>\n",
              "      <td>0.0</td>\n",
              "      <td>0.0</td>\n",
              "      <td>0.0</td>\n",
              "      <td>0.0</td>\n",
              "      <td>UEFA</td>\n",
              "      <td>1993-08-08</td>\n",
              "      <td>1993</td>\n",
              "      <td>8</td>\n",
              "    </tr>\n",
              "    <tr>\n",
              "      <th>4</th>\n",
              "      <td>5</td>\n",
              "      <td>Argentina</td>\n",
              "      <td>ARG</td>\n",
              "      <td>0.0</td>\n",
              "      <td>51</td>\n",
              "      <td>5</td>\n",
              "      <td>0.0</td>\n",
              "      <td>0.0</td>\n",
              "      <td>0.0</td>\n",
              "      <td>0.0</td>\n",
              "      <td>0.0</td>\n",
              "      <td>0.0</td>\n",
              "      <td>0.0</td>\n",
              "      <td>0.0</td>\n",
              "      <td>CONMEBOL</td>\n",
              "      <td>1993-08-08</td>\n",
              "      <td>1993</td>\n",
              "      <td>8</td>\n",
              "    </tr>\n",
              "  </tbody>\n",
              "</table>\n",
              "</div>"
            ],
            "text/plain": [
              "   rank country_full country_abrv  ...  rank_date  year  month\n",
              "0     1      Germany          GER  ... 1993-08-08  1993      8\n",
              "1     2        Italy          ITA  ... 1993-08-08  1993      8\n",
              "2     3  Switzerland          SUI  ... 1993-08-08  1993      8\n",
              "3     4       Sweden          SWE  ... 1993-08-08  1993      8\n",
              "4     5    Argentina          ARG  ... 1993-08-08  1993      8\n",
              "\n",
              "[5 rows x 18 columns]"
            ]
          },
          "metadata": {
            "tags": []
          },
          "execution_count": 34
        }
      ]
    },
    {
      "cell_type": "code",
      "metadata": {
        "id": "IgIwWObDuwng",
        "outputId": "b801402a-0a95-48d7-c645-df930f438669",
        "colab": {
          "base_uri": "https://localhost:8080/"
        }
      },
      "source": [
        "#confirming the new dataset colunm types\n",
        "#\n",
        "fifa_ranking1.dtypes"
      ],
      "execution_count": 35,
      "outputs": [
        {
          "output_type": "execute_result",
          "data": {
            "text/plain": [
              "rank                                int64\n",
              "country_full                       object\n",
              "country_abrv                       object\n",
              "total_points                      float64\n",
              "previous_points                     int64\n",
              "rank_change                         int64\n",
              "cur_year_avg                      float64\n",
              "cur_year_avg_weighted             float64\n",
              "last_year_avg                     float64\n",
              "last_year_avg_weighted            float64\n",
              "two_year_ago_avg                  float64\n",
              "two_year_ago_weighted             float64\n",
              "three_year_ago_avg                float64\n",
              "three_year_ago_weighted           float64\n",
              "confederation                      object\n",
              "rank_date                  datetime64[ns]\n",
              "year                                int64\n",
              "month                               int64\n",
              "dtype: object"
            ]
          },
          "metadata": {
            "tags": []
          },
          "execution_count": 35
        }
      ]
    },
    {
      "cell_type": "code",
      "metadata": {
        "id": "p6-kayZxxWy2"
      },
      "source": [
        "# dropping unnecessary columns\n",
        "#\n",
        "fifa_ranking1.drop(['country_abrv','confederation','cur_year_avg','cur_year_avg_weighted',\n",
        "           'last_year_avg','last_year_avg_weighted','two_year_ago_avg','two_year_ago_weighted',\n",
        "           'three_year_ago_avg','three_year_ago_weighted','confederation', 'rank_date', 'total_points','previous_points', 'rank_change'], axis = 1, inplace = True)"
      ],
      "execution_count": 36,
      "outputs": []
    },
    {
      "cell_type": "markdown",
      "metadata": {
        "id": "_kozR5bIxv--"
      },
      "source": [
        "**observation** we dropped the colunms since they will not be used on our analysis."
      ]
    },
    {
      "cell_type": "code",
      "metadata": {
        "id": "hlJGh8RAvo2c",
        "outputId": "ee262efc-3cfa-4962-8bc0-a3fec65cbd7f",
        "colab": {
          "base_uri": "https://localhost:8080/",
          "height": 204
        }
      },
      "source": [
        "#previewing the dataset\n",
        "fifa_ranking1.head()"
      ],
      "execution_count": 37,
      "outputs": [
        {
          "output_type": "execute_result",
          "data": {
            "text/html": [
              "<div>\n",
              "<style scoped>\n",
              "    .dataframe tbody tr th:only-of-type {\n",
              "        vertical-align: middle;\n",
              "    }\n",
              "\n",
              "    .dataframe tbody tr th {\n",
              "        vertical-align: top;\n",
              "    }\n",
              "\n",
              "    .dataframe thead th {\n",
              "        text-align: right;\n",
              "    }\n",
              "</style>\n",
              "<table border=\"1\" class=\"dataframe\">\n",
              "  <thead>\n",
              "    <tr style=\"text-align: right;\">\n",
              "      <th></th>\n",
              "      <th>rank</th>\n",
              "      <th>country_full</th>\n",
              "      <th>year</th>\n",
              "      <th>month</th>\n",
              "    </tr>\n",
              "  </thead>\n",
              "  <tbody>\n",
              "    <tr>\n",
              "      <th>0</th>\n",
              "      <td>1</td>\n",
              "      <td>Germany</td>\n",
              "      <td>1993</td>\n",
              "      <td>8</td>\n",
              "    </tr>\n",
              "    <tr>\n",
              "      <th>1</th>\n",
              "      <td>2</td>\n",
              "      <td>Italy</td>\n",
              "      <td>1993</td>\n",
              "      <td>8</td>\n",
              "    </tr>\n",
              "    <tr>\n",
              "      <th>2</th>\n",
              "      <td>3</td>\n",
              "      <td>Switzerland</td>\n",
              "      <td>1993</td>\n",
              "      <td>8</td>\n",
              "    </tr>\n",
              "    <tr>\n",
              "      <th>3</th>\n",
              "      <td>4</td>\n",
              "      <td>Sweden</td>\n",
              "      <td>1993</td>\n",
              "      <td>8</td>\n",
              "    </tr>\n",
              "    <tr>\n",
              "      <th>4</th>\n",
              "      <td>5</td>\n",
              "      <td>Argentina</td>\n",
              "      <td>1993</td>\n",
              "      <td>8</td>\n",
              "    </tr>\n",
              "  </tbody>\n",
              "</table>\n",
              "</div>"
            ],
            "text/plain": [
              "   rank country_full  year  month\n",
              "0     1      Germany  1993      8\n",
              "1     2        Italy  1993      8\n",
              "2     3  Switzerland  1993      8\n",
              "3     4       Sweden  1993      8\n",
              "4     5    Argentina  1993      8"
            ]
          },
          "metadata": {
            "tags": []
          },
          "execution_count": 37
        }
      ]
    },
    {
      "cell_type": "markdown",
      "metadata": {
        "id": "WDFD7A3CEqw-"
      },
      "source": [
        "### merging the tables."
      ]
    },
    {
      "cell_type": "code",
      "metadata": {
        "id": "pOH8c1Dk0DKl",
        "outputId": "5563dace-6bbb-43d7-e738-0d31e0b6f064",
        "colab": {
          "base_uri": "https://localhost:8080/",
          "height": 204
        }
      },
      "source": [
        "#a. merging the two datasets on the home team\n",
        "#\n",
        "merged_home = pd.merge(fifa_ranking1, result_df1, how='inner', left_on=['country_full','year','month'], right_on = ['home_team','year', 'month'] )\n",
        "merged_home.head()\n",
        "#\n",
        "#The rank is renamed to home_rank\n",
        "merged_home.rename({'rank': 'home_rank'}, axis = 1, inplace  = True)\n",
        "#\n",
        "#preview\n",
        "merged_home.head()"
      ],
      "execution_count": 38,
      "outputs": [
        {
          "output_type": "execute_result",
          "data": {
            "text/html": [
              "<div>\n",
              "<style scoped>\n",
              "    .dataframe tbody tr th:only-of-type {\n",
              "        vertical-align: middle;\n",
              "    }\n",
              "\n",
              "    .dataframe tbody tr th {\n",
              "        vertical-align: top;\n",
              "    }\n",
              "\n",
              "    .dataframe thead th {\n",
              "        text-align: right;\n",
              "    }\n",
              "</style>\n",
              "<table border=\"1\" class=\"dataframe\">\n",
              "  <thead>\n",
              "    <tr style=\"text-align: right;\">\n",
              "      <th></th>\n",
              "      <th>home_rank</th>\n",
              "      <th>country_full</th>\n",
              "      <th>year</th>\n",
              "      <th>month</th>\n",
              "      <th>home_team</th>\n",
              "      <th>away_team</th>\n",
              "      <th>home_score</th>\n",
              "      <th>away_score</th>\n",
              "      <th>tournament</th>\n",
              "    </tr>\n",
              "  </thead>\n",
              "  <tbody>\n",
              "    <tr>\n",
              "      <th>0</th>\n",
              "      <td>4</td>\n",
              "      <td>Sweden</td>\n",
              "      <td>1993</td>\n",
              "      <td>8</td>\n",
              "      <td>Sweden</td>\n",
              "      <td>Switzerland</td>\n",
              "      <td>1</td>\n",
              "      <td>2</td>\n",
              "      <td>Friendly</td>\n",
              "    </tr>\n",
              "    <tr>\n",
              "      <th>1</th>\n",
              "      <td>4</td>\n",
              "      <td>Sweden</td>\n",
              "      <td>1993</td>\n",
              "      <td>8</td>\n",
              "      <td>Sweden</td>\n",
              "      <td>France</td>\n",
              "      <td>1</td>\n",
              "      <td>1</td>\n",
              "      <td>FIFA World Cup qualification</td>\n",
              "    </tr>\n",
              "    <tr>\n",
              "      <th>2</th>\n",
              "      <td>5</td>\n",
              "      <td>Argentina</td>\n",
              "      <td>1993</td>\n",
              "      <td>8</td>\n",
              "      <td>Argentina</td>\n",
              "      <td>Peru</td>\n",
              "      <td>2</td>\n",
              "      <td>1</td>\n",
              "      <td>FIFA World Cup qualification</td>\n",
              "    </tr>\n",
              "    <tr>\n",
              "      <th>3</th>\n",
              "      <td>5</td>\n",
              "      <td>Argentina</td>\n",
              "      <td>1993</td>\n",
              "      <td>8</td>\n",
              "      <td>Argentina</td>\n",
              "      <td>Paraguay</td>\n",
              "      <td>0</td>\n",
              "      <td>0</td>\n",
              "      <td>FIFA World Cup qualification</td>\n",
              "    </tr>\n",
              "    <tr>\n",
              "      <th>4</th>\n",
              "      <td>8</td>\n",
              "      <td>Brazil</td>\n",
              "      <td>1993</td>\n",
              "      <td>8</td>\n",
              "      <td>Brazil</td>\n",
              "      <td>Mexico</td>\n",
              "      <td>1</td>\n",
              "      <td>1</td>\n",
              "      <td>Friendly</td>\n",
              "    </tr>\n",
              "  </tbody>\n",
              "</table>\n",
              "</div>"
            ],
            "text/plain": [
              "   home_rank country_full  ...  away_score                    tournament\n",
              "0          4       Sweden  ...           2                      Friendly\n",
              "1          4       Sweden  ...           1  FIFA World Cup qualification\n",
              "2          5    Argentina  ...           1  FIFA World Cup qualification\n",
              "3          5    Argentina  ...           0  FIFA World Cup qualification\n",
              "4          8       Brazil  ...           1                      Friendly\n",
              "\n",
              "[5 rows x 9 columns]"
            ]
          },
          "metadata": {
            "tags": []
          },
          "execution_count": 38
        }
      ]
    },
    {
      "cell_type": "markdown",
      "metadata": {
        "id": "CWOfS0Z8N7hr"
      },
      "source": [
        "**observation** we then merged the two tables on home team to come up with home team table."
      ]
    },
    {
      "cell_type": "code",
      "metadata": {
        "id": "kWortHD2Fqjn",
        "outputId": "89a47e37-ea59-45dc-e1e4-cc3c0ee85ec9",
        "colab": {
          "base_uri": "https://localhost:8080/",
          "height": 204
        }
      },
      "source": [
        "#b. merging the two datasets on the away team\n",
        "#\n",
        "merged_away= pd.merge(fifa_ranking1, result_df1, how='inner', left_on=['country_full','year','month'], right_on = ['away_team','year', 'month'] )\n",
        "merged_away.head()\n",
        "\n",
        "#The rank is renamed to away_rank.\n",
        "merged_away.rename({'rank' : 'away_rank'}, axis = 1, inplace = True)\n",
        "#\n",
        "#preview\n",
        "merged_away.head()"
      ],
      "execution_count": 39,
      "outputs": [
        {
          "output_type": "execute_result",
          "data": {
            "text/html": [
              "<div>\n",
              "<style scoped>\n",
              "    .dataframe tbody tr th:only-of-type {\n",
              "        vertical-align: middle;\n",
              "    }\n",
              "\n",
              "    .dataframe tbody tr th {\n",
              "        vertical-align: top;\n",
              "    }\n",
              "\n",
              "    .dataframe thead th {\n",
              "        text-align: right;\n",
              "    }\n",
              "</style>\n",
              "<table border=\"1\" class=\"dataframe\">\n",
              "  <thead>\n",
              "    <tr style=\"text-align: right;\">\n",
              "      <th></th>\n",
              "      <th>away_rank</th>\n",
              "      <th>country_full</th>\n",
              "      <th>year</th>\n",
              "      <th>month</th>\n",
              "      <th>home_team</th>\n",
              "      <th>away_team</th>\n",
              "      <th>home_score</th>\n",
              "      <th>away_score</th>\n",
              "      <th>tournament</th>\n",
              "    </tr>\n",
              "  </thead>\n",
              "  <tbody>\n",
              "    <tr>\n",
              "      <th>0</th>\n",
              "      <td>3</td>\n",
              "      <td>Switzerland</td>\n",
              "      <td>1993</td>\n",
              "      <td>8</td>\n",
              "      <td>Sweden</td>\n",
              "      <td>Switzerland</td>\n",
              "      <td>1</td>\n",
              "      <td>2</td>\n",
              "      <td>Friendly</td>\n",
              "    </tr>\n",
              "    <tr>\n",
              "      <th>1</th>\n",
              "      <td>5</td>\n",
              "      <td>Argentina</td>\n",
              "      <td>1993</td>\n",
              "      <td>8</td>\n",
              "      <td>Peru</td>\n",
              "      <td>Argentina</td>\n",
              "      <td>0</td>\n",
              "      <td>1</td>\n",
              "      <td>FIFA World Cup qualification</td>\n",
              "    </tr>\n",
              "    <tr>\n",
              "      <th>2</th>\n",
              "      <td>5</td>\n",
              "      <td>Argentina</td>\n",
              "      <td>1993</td>\n",
              "      <td>8</td>\n",
              "      <td>Paraguay</td>\n",
              "      <td>Argentina</td>\n",
              "      <td>1</td>\n",
              "      <td>3</td>\n",
              "      <td>FIFA World Cup qualification</td>\n",
              "    </tr>\n",
              "    <tr>\n",
              "      <th>3</th>\n",
              "      <td>5</td>\n",
              "      <td>Argentina</td>\n",
              "      <td>1993</td>\n",
              "      <td>8</td>\n",
              "      <td>Colombia</td>\n",
              "      <td>Argentina</td>\n",
              "      <td>2</td>\n",
              "      <td>1</td>\n",
              "      <td>FIFA World Cup qualification</td>\n",
              "    </tr>\n",
              "    <tr>\n",
              "      <th>4</th>\n",
              "      <td>8</td>\n",
              "      <td>Brazil</td>\n",
              "      <td>1993</td>\n",
              "      <td>8</td>\n",
              "      <td>Venezuela</td>\n",
              "      <td>Brazil</td>\n",
              "      <td>1</td>\n",
              "      <td>5</td>\n",
              "      <td>FIFA World Cup qualification</td>\n",
              "    </tr>\n",
              "  </tbody>\n",
              "</table>\n",
              "</div>"
            ],
            "text/plain": [
              "   away_rank country_full  ...  away_score                    tournament\n",
              "0          3  Switzerland  ...           2                      Friendly\n",
              "1          5    Argentina  ...           1  FIFA World Cup qualification\n",
              "2          5    Argentina  ...           3  FIFA World Cup qualification\n",
              "3          5    Argentina  ...           1  FIFA World Cup qualification\n",
              "4          8       Brazil  ...           5  FIFA World Cup qualification\n",
              "\n",
              "[5 rows x 9 columns]"
            ]
          },
          "metadata": {
            "tags": []
          },
          "execution_count": 39
        }
      ]
    },
    {
      "cell_type": "markdown",
      "metadata": {
        "id": "V-XcKAXIOOXQ"
      },
      "source": [
        "**observation** we then merged the two tables on away team to come up with away team table."
      ]
    },
    {
      "cell_type": "code",
      "metadata": {
        "id": "3doA3W9BMfQU",
        "outputId": "e2de59f4-84b0-4b36-97f8-1bd37f37d200",
        "colab": {
          "base_uri": "https://localhost:8080/",
          "height": 204
        }
      },
      "source": [
        "#we drop the unnecessary columns in fifa_away dataset, and put the choosen columns in a new dataframe.\n",
        "\n",
        "merged_away1 =merged_away[['away_team','away_rank','year','month']]\n",
        "merged_away1.head()"
      ],
      "execution_count": 40,
      "outputs": [
        {
          "output_type": "execute_result",
          "data": {
            "text/html": [
              "<div>\n",
              "<style scoped>\n",
              "    .dataframe tbody tr th:only-of-type {\n",
              "        vertical-align: middle;\n",
              "    }\n",
              "\n",
              "    .dataframe tbody tr th {\n",
              "        vertical-align: top;\n",
              "    }\n",
              "\n",
              "    .dataframe thead th {\n",
              "        text-align: right;\n",
              "    }\n",
              "</style>\n",
              "<table border=\"1\" class=\"dataframe\">\n",
              "  <thead>\n",
              "    <tr style=\"text-align: right;\">\n",
              "      <th></th>\n",
              "      <th>away_team</th>\n",
              "      <th>away_rank</th>\n",
              "      <th>year</th>\n",
              "      <th>month</th>\n",
              "    </tr>\n",
              "  </thead>\n",
              "  <tbody>\n",
              "    <tr>\n",
              "      <th>0</th>\n",
              "      <td>Switzerland</td>\n",
              "      <td>3</td>\n",
              "      <td>1993</td>\n",
              "      <td>8</td>\n",
              "    </tr>\n",
              "    <tr>\n",
              "      <th>1</th>\n",
              "      <td>Argentina</td>\n",
              "      <td>5</td>\n",
              "      <td>1993</td>\n",
              "      <td>8</td>\n",
              "    </tr>\n",
              "    <tr>\n",
              "      <th>2</th>\n",
              "      <td>Argentina</td>\n",
              "      <td>5</td>\n",
              "      <td>1993</td>\n",
              "      <td>8</td>\n",
              "    </tr>\n",
              "    <tr>\n",
              "      <th>3</th>\n",
              "      <td>Argentina</td>\n",
              "      <td>5</td>\n",
              "      <td>1993</td>\n",
              "      <td>8</td>\n",
              "    </tr>\n",
              "    <tr>\n",
              "      <th>4</th>\n",
              "      <td>Brazil</td>\n",
              "      <td>8</td>\n",
              "      <td>1993</td>\n",
              "      <td>8</td>\n",
              "    </tr>\n",
              "  </tbody>\n",
              "</table>\n",
              "</div>"
            ],
            "text/plain": [
              "     away_team  away_rank  year  month\n",
              "0  Switzerland          3  1993      8\n",
              "1    Argentina          5  1993      8\n",
              "2    Argentina          5  1993      8\n",
              "3    Argentina          5  1993      8\n",
              "4       Brazil          8  1993      8"
            ]
          },
          "metadata": {
            "tags": []
          },
          "execution_count": 40
        }
      ]
    },
    {
      "cell_type": "markdown",
      "metadata": {
        "id": "XTsBY3oyPcWG"
      },
      "source": [
        "observation: i created the dataframe with only needed variables."
      ]
    },
    {
      "cell_type": "code",
      "metadata": {
        "id": "DIiVyKbeNYlI",
        "outputId": "a7f24dab-04d0-4eb9-eeda-79e8d4932be4",
        "colab": {
          "base_uri": "https://localhost:8080/",
          "height": 272
        }
      },
      "source": [
        "#final merge. way_teams_ranks will be merged with new_merged_ homes on the away team and year and month.\n",
        "#\n",
        "final_merge = pd.merge(merged_home, merged_away1, how = 'inner', left_on = ['year', 'month', 'away_team'], right_on = ['year', 'month', 'away_team'])\n",
        "\n",
        "final_merge.head()"
      ],
      "execution_count": 41,
      "outputs": [
        {
          "output_type": "execute_result",
          "data": {
            "text/html": [
              "<div>\n",
              "<style scoped>\n",
              "    .dataframe tbody tr th:only-of-type {\n",
              "        vertical-align: middle;\n",
              "    }\n",
              "\n",
              "    .dataframe tbody tr th {\n",
              "        vertical-align: top;\n",
              "    }\n",
              "\n",
              "    .dataframe thead th {\n",
              "        text-align: right;\n",
              "    }\n",
              "</style>\n",
              "<table border=\"1\" class=\"dataframe\">\n",
              "  <thead>\n",
              "    <tr style=\"text-align: right;\">\n",
              "      <th></th>\n",
              "      <th>home_rank</th>\n",
              "      <th>country_full</th>\n",
              "      <th>year</th>\n",
              "      <th>month</th>\n",
              "      <th>home_team</th>\n",
              "      <th>away_team</th>\n",
              "      <th>home_score</th>\n",
              "      <th>away_score</th>\n",
              "      <th>tournament</th>\n",
              "      <th>away_rank</th>\n",
              "    </tr>\n",
              "  </thead>\n",
              "  <tbody>\n",
              "    <tr>\n",
              "      <th>0</th>\n",
              "      <td>4</td>\n",
              "      <td>Sweden</td>\n",
              "      <td>1993</td>\n",
              "      <td>8</td>\n",
              "      <td>Sweden</td>\n",
              "      <td>Switzerland</td>\n",
              "      <td>1</td>\n",
              "      <td>2</td>\n",
              "      <td>Friendly</td>\n",
              "      <td>3</td>\n",
              "    </tr>\n",
              "    <tr>\n",
              "      <th>1</th>\n",
              "      <td>4</td>\n",
              "      <td>Sweden</td>\n",
              "      <td>1993</td>\n",
              "      <td>8</td>\n",
              "      <td>Sweden</td>\n",
              "      <td>France</td>\n",
              "      <td>1</td>\n",
              "      <td>1</td>\n",
              "      <td>FIFA World Cup qualification</td>\n",
              "      <td>12</td>\n",
              "    </tr>\n",
              "    <tr>\n",
              "      <th>2</th>\n",
              "      <td>5</td>\n",
              "      <td>Argentina</td>\n",
              "      <td>1993</td>\n",
              "      <td>8</td>\n",
              "      <td>Argentina</td>\n",
              "      <td>Peru</td>\n",
              "      <td>2</td>\n",
              "      <td>1</td>\n",
              "      <td>FIFA World Cup qualification</td>\n",
              "      <td>70</td>\n",
              "    </tr>\n",
              "    <tr>\n",
              "      <th>3</th>\n",
              "      <td>5</td>\n",
              "      <td>Argentina</td>\n",
              "      <td>1993</td>\n",
              "      <td>8</td>\n",
              "      <td>Argentina</td>\n",
              "      <td>Peru</td>\n",
              "      <td>2</td>\n",
              "      <td>1</td>\n",
              "      <td>FIFA World Cup qualification</td>\n",
              "      <td>70</td>\n",
              "    </tr>\n",
              "    <tr>\n",
              "      <th>4</th>\n",
              "      <td>5</td>\n",
              "      <td>Argentina</td>\n",
              "      <td>1993</td>\n",
              "      <td>8</td>\n",
              "      <td>Argentina</td>\n",
              "      <td>Peru</td>\n",
              "      <td>2</td>\n",
              "      <td>1</td>\n",
              "      <td>FIFA World Cup qualification</td>\n",
              "      <td>70</td>\n",
              "    </tr>\n",
              "  </tbody>\n",
              "</table>\n",
              "</div>"
            ],
            "text/plain": [
              "   home_rank country_full  ...                    tournament  away_rank\n",
              "0          4       Sweden  ...                      Friendly          3\n",
              "1          4       Sweden  ...  FIFA World Cup qualification         12\n",
              "2          5    Argentina  ...  FIFA World Cup qualification         70\n",
              "3          5    Argentina  ...  FIFA World Cup qualification         70\n",
              "4          5    Argentina  ...  FIFA World Cup qualification         70\n",
              "\n",
              "[5 rows x 10 columns]"
            ]
          },
          "metadata": {
            "tags": []
          },
          "execution_count": 41
        }
      ]
    },
    {
      "cell_type": "code",
      "metadata": {
        "id": "SEB-BouMCKU6",
        "outputId": "54935de3-4653-4aa0-8ad8-6460644f5547",
        "colab": {
          "base_uri": "https://localhost:8080/"
        }
      },
      "source": [
        "#checking the shape\n",
        "#\n",
        "final_merge.shape"
      ],
      "execution_count": 42,
      "outputs": [
        {
          "output_type": "execute_result",
          "data": {
            "text/plain": [
              "(28439, 10)"
            ]
          },
          "metadata": {
            "tags": []
          },
          "execution_count": 42
        }
      ]
    },
    {
      "cell_type": "markdown",
      "metadata": {
        "id": "2_XX_FLtCa75"
      },
      "source": [
        "**obsrevation** merged dataset has 28439 records and 10 variables.\n",
        "\n",
        "\n",
        "\n",
        "\n"
      ]
    },
    {
      "cell_type": "code",
      "metadata": {
        "id": "i9WZI1sk8R3I"
      },
      "source": [
        "#creating a function to be used to create column for win, loss and win values.\n",
        "#\n",
        "def get_status(row):\n",
        "  if (row[\"home_score\"] > row[\"away_score\"]):\n",
        "    return \"Win\"\n",
        "  elif (row[\"home_score\"] == row[\"away_score\"]):\n",
        "    return \"Draw\"\n",
        "  else :\n",
        "    return \"Loss\""
      ],
      "execution_count": 43,
      "outputs": []
    },
    {
      "cell_type": "code",
      "metadata": {
        "id": "BSaiIYq1iVfU"
      },
      "source": [
        "# Applying the result function to the dataframe\n",
        "#\n",
        "final_merge[\"status\"] =final_merge.apply(lambda x:get_status(x), axis=1)"
      ],
      "execution_count": 44,
      "outputs": []
    },
    {
      "cell_type": "code",
      "metadata": {
        "id": "kSsUhxhPgcue"
      },
      "source": [
        "#getting a function for tournament type\n",
        "#\n",
        "def get_tournament(x):\n",
        "  if x == 'FIFA World Cup qualification':\n",
        "    return 'FIFA World Cup'\n",
        "  if x == 'Friendly':\n",
        "    return 'Friendly'\n",
        "  else:\n",
        "    return 'other'"
      ],
      "execution_count": 45,
      "outputs": []
    },
    {
      "cell_type": "code",
      "metadata": {
        "id": "VMKlNZBziKYG",
        "outputId": "9c4b8f6e-6b5f-4510-d6fd-cee01ba2a81d",
        "colab": {
          "base_uri": "https://localhost:8080/",
          "height": 360
        }
      },
      "source": [
        "# Applying the result function to the dataframe\n",
        "#\n",
        "final_merge['tournament_type'] = final_merge.tournament.apply(lambda x:get_tournament(x))\n",
        "final_merge.head()"
      ],
      "execution_count": 46,
      "outputs": [
        {
          "output_type": "execute_result",
          "data": {
            "text/html": [
              "<div>\n",
              "<style scoped>\n",
              "    .dataframe tbody tr th:only-of-type {\n",
              "        vertical-align: middle;\n",
              "    }\n",
              "\n",
              "    .dataframe tbody tr th {\n",
              "        vertical-align: top;\n",
              "    }\n",
              "\n",
              "    .dataframe thead th {\n",
              "        text-align: right;\n",
              "    }\n",
              "</style>\n",
              "<table border=\"1\" class=\"dataframe\">\n",
              "  <thead>\n",
              "    <tr style=\"text-align: right;\">\n",
              "      <th></th>\n",
              "      <th>home_rank</th>\n",
              "      <th>country_full</th>\n",
              "      <th>year</th>\n",
              "      <th>month</th>\n",
              "      <th>home_team</th>\n",
              "      <th>away_team</th>\n",
              "      <th>home_score</th>\n",
              "      <th>away_score</th>\n",
              "      <th>tournament</th>\n",
              "      <th>away_rank</th>\n",
              "      <th>status</th>\n",
              "      <th>tournament_type</th>\n",
              "    </tr>\n",
              "  </thead>\n",
              "  <tbody>\n",
              "    <tr>\n",
              "      <th>0</th>\n",
              "      <td>4</td>\n",
              "      <td>Sweden</td>\n",
              "      <td>1993</td>\n",
              "      <td>8</td>\n",
              "      <td>Sweden</td>\n",
              "      <td>Switzerland</td>\n",
              "      <td>1</td>\n",
              "      <td>2</td>\n",
              "      <td>Friendly</td>\n",
              "      <td>3</td>\n",
              "      <td>Loss</td>\n",
              "      <td>Friendly</td>\n",
              "    </tr>\n",
              "    <tr>\n",
              "      <th>1</th>\n",
              "      <td>4</td>\n",
              "      <td>Sweden</td>\n",
              "      <td>1993</td>\n",
              "      <td>8</td>\n",
              "      <td>Sweden</td>\n",
              "      <td>France</td>\n",
              "      <td>1</td>\n",
              "      <td>1</td>\n",
              "      <td>FIFA World Cup qualification</td>\n",
              "      <td>12</td>\n",
              "      <td>Draw</td>\n",
              "      <td>FIFA World Cup</td>\n",
              "    </tr>\n",
              "    <tr>\n",
              "      <th>2</th>\n",
              "      <td>5</td>\n",
              "      <td>Argentina</td>\n",
              "      <td>1993</td>\n",
              "      <td>8</td>\n",
              "      <td>Argentina</td>\n",
              "      <td>Peru</td>\n",
              "      <td>2</td>\n",
              "      <td>1</td>\n",
              "      <td>FIFA World Cup qualification</td>\n",
              "      <td>70</td>\n",
              "      <td>Win</td>\n",
              "      <td>FIFA World Cup</td>\n",
              "    </tr>\n",
              "    <tr>\n",
              "      <th>3</th>\n",
              "      <td>5</td>\n",
              "      <td>Argentina</td>\n",
              "      <td>1993</td>\n",
              "      <td>8</td>\n",
              "      <td>Argentina</td>\n",
              "      <td>Peru</td>\n",
              "      <td>2</td>\n",
              "      <td>1</td>\n",
              "      <td>FIFA World Cup qualification</td>\n",
              "      <td>70</td>\n",
              "      <td>Win</td>\n",
              "      <td>FIFA World Cup</td>\n",
              "    </tr>\n",
              "    <tr>\n",
              "      <th>4</th>\n",
              "      <td>5</td>\n",
              "      <td>Argentina</td>\n",
              "      <td>1993</td>\n",
              "      <td>8</td>\n",
              "      <td>Argentina</td>\n",
              "      <td>Peru</td>\n",
              "      <td>2</td>\n",
              "      <td>1</td>\n",
              "      <td>FIFA World Cup qualification</td>\n",
              "      <td>70</td>\n",
              "      <td>Win</td>\n",
              "      <td>FIFA World Cup</td>\n",
              "    </tr>\n",
              "  </tbody>\n",
              "</table>\n",
              "</div>"
            ],
            "text/plain": [
              "   home_rank country_full  year  ...  away_rank status tournament_type\n",
              "0          4       Sweden  1993  ...          3   Loss        Friendly\n",
              "1          4       Sweden  1993  ...         12   Draw  FIFA World Cup\n",
              "2          5    Argentina  1993  ...         70    Win  FIFA World Cup\n",
              "3          5    Argentina  1993  ...         70    Win  FIFA World Cup\n",
              "4          5    Argentina  1993  ...         70    Win  FIFA World Cup\n",
              "\n",
              "[5 rows x 12 columns]"
            ]
          },
          "metadata": {
            "tags": []
          },
          "execution_count": 46
        }
      ]
    },
    {
      "cell_type": "code",
      "metadata": {
        "id": "l_vaYqG0lD48"
      },
      "source": [
        "# Dropping the unecessary tournament columns.\n",
        "#\n",
        "final_merge.drop(['tournament', 'month','country_full'], axis = 1, inplace = True)\n"
      ],
      "execution_count": 47,
      "outputs": []
    },
    {
      "cell_type": "code",
      "metadata": {
        "id": "a_hleHIGvqmA"
      },
      "source": [
        "#renaming the colunms\n",
        "#\n",
        "final_merge.rename({'home_rank':'home_team_rank','home_score' : 'home_team_score', 'away_score': 'away_team_score', 'away_rank': 'away_team-rank'}, axis = 1, inplace = True)"
      ],
      "execution_count": 48,
      "outputs": []
    },
    {
      "cell_type": "code",
      "metadata": {
        "id": "1g3b3wnpuhdJ",
        "outputId": "4aea03a6-a6cd-4f43-c6fe-b5671be01e34",
        "colab": {
          "base_uri": "https://localhost:8080/",
          "height": 204
        }
      },
      "source": [
        "# our final merged dataset after adjustments\n",
        "#\n",
        "final_merge.head()"
      ],
      "execution_count": 49,
      "outputs": [
        {
          "output_type": "execute_result",
          "data": {
            "text/html": [
              "<div>\n",
              "<style scoped>\n",
              "    .dataframe tbody tr th:only-of-type {\n",
              "        vertical-align: middle;\n",
              "    }\n",
              "\n",
              "    .dataframe tbody tr th {\n",
              "        vertical-align: top;\n",
              "    }\n",
              "\n",
              "    .dataframe thead th {\n",
              "        text-align: right;\n",
              "    }\n",
              "</style>\n",
              "<table border=\"1\" class=\"dataframe\">\n",
              "  <thead>\n",
              "    <tr style=\"text-align: right;\">\n",
              "      <th></th>\n",
              "      <th>home_team_rank</th>\n",
              "      <th>year</th>\n",
              "      <th>home_team</th>\n",
              "      <th>away_team</th>\n",
              "      <th>home_team_score</th>\n",
              "      <th>away_team_score</th>\n",
              "      <th>away_team-rank</th>\n",
              "      <th>status</th>\n",
              "      <th>tournament_type</th>\n",
              "    </tr>\n",
              "  </thead>\n",
              "  <tbody>\n",
              "    <tr>\n",
              "      <th>0</th>\n",
              "      <td>4</td>\n",
              "      <td>1993</td>\n",
              "      <td>Sweden</td>\n",
              "      <td>Switzerland</td>\n",
              "      <td>1</td>\n",
              "      <td>2</td>\n",
              "      <td>3</td>\n",
              "      <td>Loss</td>\n",
              "      <td>Friendly</td>\n",
              "    </tr>\n",
              "    <tr>\n",
              "      <th>1</th>\n",
              "      <td>4</td>\n",
              "      <td>1993</td>\n",
              "      <td>Sweden</td>\n",
              "      <td>France</td>\n",
              "      <td>1</td>\n",
              "      <td>1</td>\n",
              "      <td>12</td>\n",
              "      <td>Draw</td>\n",
              "      <td>FIFA World Cup</td>\n",
              "    </tr>\n",
              "    <tr>\n",
              "      <th>2</th>\n",
              "      <td>5</td>\n",
              "      <td>1993</td>\n",
              "      <td>Argentina</td>\n",
              "      <td>Peru</td>\n",
              "      <td>2</td>\n",
              "      <td>1</td>\n",
              "      <td>70</td>\n",
              "      <td>Win</td>\n",
              "      <td>FIFA World Cup</td>\n",
              "    </tr>\n",
              "    <tr>\n",
              "      <th>3</th>\n",
              "      <td>5</td>\n",
              "      <td>1993</td>\n",
              "      <td>Argentina</td>\n",
              "      <td>Peru</td>\n",
              "      <td>2</td>\n",
              "      <td>1</td>\n",
              "      <td>70</td>\n",
              "      <td>Win</td>\n",
              "      <td>FIFA World Cup</td>\n",
              "    </tr>\n",
              "    <tr>\n",
              "      <th>4</th>\n",
              "      <td>5</td>\n",
              "      <td>1993</td>\n",
              "      <td>Argentina</td>\n",
              "      <td>Peru</td>\n",
              "      <td>2</td>\n",
              "      <td>1</td>\n",
              "      <td>70</td>\n",
              "      <td>Win</td>\n",
              "      <td>FIFA World Cup</td>\n",
              "    </tr>\n",
              "  </tbody>\n",
              "</table>\n",
              "</div>"
            ],
            "text/plain": [
              "   home_team_rank  year  home_team  ... away_team-rank  status  tournament_type\n",
              "0               4  1993     Sweden  ...              3    Loss         Friendly\n",
              "1               4  1993     Sweden  ...             12    Draw   FIFA World Cup\n",
              "2               5  1993  Argentina  ...             70     Win   FIFA World Cup\n",
              "3               5  1993  Argentina  ...             70     Win   FIFA World Cup\n",
              "4               5  1993  Argentina  ...             70     Win   FIFA World Cup\n",
              "\n",
              "[5 rows x 9 columns]"
            ]
          },
          "metadata": {
            "tags": []
          },
          "execution_count": 49
        }
      ]
    },
    {
      "cell_type": "markdown",
      "metadata": {
        "id": "nUdlKtgByz0L"
      },
      "source": [
        "###tidying dataset for final merged data"
      ]
    },
    {
      "cell_type": "code",
      "metadata": {
        "id": "YI2xFd_Xy_CU",
        "outputId": "ac77a0e0-9891-45dd-8d6a-c36dc37ebbe8",
        "colab": {
          "base_uri": "https://localhost:8080/"
        }
      },
      "source": [
        "#checking the shape\n",
        "#\n",
        "final_merge1= final_merge\n",
        "final_merge1.shape"
      ],
      "execution_count": 50,
      "outputs": [
        {
          "output_type": "execute_result",
          "data": {
            "text/plain": [
              "(28439, 9)"
            ]
          },
          "metadata": {
            "tags": []
          },
          "execution_count": 50
        }
      ]
    },
    {
      "cell_type": "markdown",
      "metadata": {
        "id": "nf7fMNqN0gTx"
      },
      "source": [
        "**observation**: it has 28439 records and 9 variables"
      ]
    },
    {
      "cell_type": "code",
      "metadata": {
        "id": "7ERjC3AH0ukj",
        "outputId": "ac9bfd37-18b7-4cd2-e3a3-15381704e924",
        "colab": {
          "base_uri": "https://localhost:8080/"
        }
      },
      "source": [
        "#checking for missing values\n",
        "#\n",
        "final_merge1.isna().sum()"
      ],
      "execution_count": 51,
      "outputs": [
        {
          "output_type": "execute_result",
          "data": {
            "text/plain": [
              "home_team_rank     0\n",
              "year               0\n",
              "home_team          0\n",
              "away_team          0\n",
              "home_team_score    0\n",
              "away_team_score    0\n",
              "away_team-rank     0\n",
              "status             0\n",
              "tournament_type    0\n",
              "dtype: int64"
            ]
          },
          "metadata": {
            "tags": []
          },
          "execution_count": 51
        }
      ]
    },
    {
      "cell_type": "markdown",
      "metadata": {
        "id": "LkPXy4Eg053Y"
      },
      "source": [
        "**observation**: has no missing values"
      ]
    },
    {
      "cell_type": "code",
      "metadata": {
        "id": "nOgPtx5p0_dq",
        "outputId": "3c5b7d1b-37bd-43e5-b4e9-a8f6462f8ef0",
        "colab": {
          "base_uri": "https://localhost:8080/"
        }
      },
      "source": [
        "#checking for duplicates\n",
        "#\n",
        "final_merge1.duplicated().sum()"
      ],
      "execution_count": 52,
      "outputs": [
        {
          "output_type": "execute_result",
          "data": {
            "text/plain": [
              "11577"
            ]
          },
          "metadata": {
            "tags": []
          },
          "execution_count": 52
        }
      ]
    },
    {
      "cell_type": "code",
      "metadata": {
        "id": "3ectckfT1Q01",
        "outputId": "fc91ede6-e537-4c43-f60e-cc5c50f17f54",
        "colab": {
          "base_uri": "https://localhost:8080/"
        }
      },
      "source": [
        "#dropping duplicates\n",
        "#\n",
        "#removing duplicates\n",
        "#\n",
        "final_merge1.drop_duplicates(keep='first', inplace = True)\n",
        "#\n",
        "#confirming no duplicates\n",
        "#\n",
        "final_merge1.duplicated().any()\n"
      ],
      "execution_count": 53,
      "outputs": [
        {
          "output_type": "execute_result",
          "data": {
            "text/plain": [
              "False"
            ]
          },
          "metadata": {
            "tags": []
          },
          "execution_count": 53
        }
      ]
    },
    {
      "cell_type": "code",
      "metadata": {
        "id": "LaGcDEd07E4b",
        "outputId": "19f9f276-2e7b-42ab-fa95-be203b214961",
        "colab": {
          "base_uri": "https://localhost:8080/"
        }
      },
      "source": [
        "final_merge1.info()"
      ],
      "execution_count": 54,
      "outputs": [
        {
          "output_type": "stream",
          "text": [
            "<class 'pandas.core.frame.DataFrame'>\n",
            "Int64Index: 16862 entries, 0 to 28438\n",
            "Data columns (total 9 columns):\n",
            " #   Column           Non-Null Count  Dtype \n",
            "---  ------           --------------  ----- \n",
            " 0   home_team_rank   16862 non-null  int64 \n",
            " 1   year             16862 non-null  int64 \n",
            " 2   home_team        16862 non-null  object\n",
            " 3   away_team        16862 non-null  object\n",
            " 4   home_team_score  16862 non-null  int64 \n",
            " 5   away_team_score  16862 non-null  int64 \n",
            " 6   away_team-rank   16862 non-null  int64 \n",
            " 7   status           16862 non-null  object\n",
            " 8   tournament_type  16862 non-null  object\n",
            "dtypes: int64(5), object(4)\n",
            "memory usage: 1.3+ MB\n"
          ],
          "name": "stdout"
        }
      ]
    },
    {
      "cell_type": "markdown",
      "metadata": {
        "id": "hNxxT99r7Mtu"
      },
      "source": [
        "**observation**: data type is appropriate"
      ]
    },
    {
      "cell_type": "code",
      "metadata": {
        "id": "TwGnzWvi5yVQ",
        "outputId": "ff51e183-3ab3-4a0b-87eb-077a4b6fc9e5",
        "colab": {
          "base_uri": "https://localhost:8080/"
        }
      },
      "source": [
        "# standardizing variable names for readability\n",
        "#\n",
        "final_merge1.columns = final_merge1.columns.str.strip().str.lower().str.replace(' ', '_').str.replace('(', '').str.replace(')', '')\n",
        "#\n",
        "final_merge1.columns"
      ],
      "execution_count": 55,
      "outputs": [
        {
          "output_type": "execute_result",
          "data": {
            "text/plain": [
              "Index(['home_team_rank', 'year', 'home_team', 'away_team', 'home_team_score',\n",
              "       'away_team_score', 'away_team-rank', 'status', 'tournament_type'],\n",
              "      dtype='object')"
            ]
          },
          "metadata": {
            "tags": []
          },
          "execution_count": 55
        }
      ]
    },
    {
      "cell_type": "markdown",
      "metadata": {
        "id": "tY9yqwzb18g9"
      },
      "source": [
        "## Exploratory Data Analysis"
      ]
    },
    {
      "cell_type": "markdown",
      "metadata": {
        "id": "wNVlHzNv2Sbd"
      },
      "source": [
        "### Univariate analysis\n",
        "\n",
        "We will now perform univariate analysis. This is a type of analysis done only one variable. This type of analysis will be helpful in understanding the characteristics of each variables."
      ]
    },
    {
      "cell_type": "code",
      "metadata": {
        "id": "-7E6Iy6m2V-3",
        "outputId": "2fe6c96f-cab3-420c-8a1d-514954aa0eeb",
        "colab": {
          "base_uri": "https://localhost:8080/",
          "height": 443
        }
      },
      "source": [
        "# univariate analysis: home-team_rank variable distplot\n",
        "#\n",
        "plt.figure(figsize = (8, 6))\n",
        "sns.distplot(final_merge1.home_team_rank);"
      ],
      "execution_count": 56,
      "outputs": [
        {
          "output_type": "stream",
          "text": [
            "/usr/local/lib/python3.6/dist-packages/seaborn/distributions.py:2551: FutureWarning: `distplot` is a deprecated function and will be removed in a future version. Please adapt your code to use either `displot` (a figure-level function with similar flexibility) or `histplot` (an axes-level function for histograms).\n",
            "  warnings.warn(msg, FutureWarning)\n"
          ],
          "name": "stderr"
        },
        {
          "output_type": "display_data",
          "data": {
            "image/png": "[encoded data removed]",
            "text/plain": [
              "<Figure size 576x432 with 1 Axes>"
            ]
          },
          "metadata": {
            "tags": [],
            "needs_background": "light"
          }
        }
      ]
    },
    {
      "cell_type": "markdown",
      "metadata": {
        "id": "Ic3CMGLr6tPk"
      },
      "source": [
        "**Observation**: The 'age' variable is not normally distributed. It is skewed to the right."
      ]
    },
    {
      "cell_type": "code",
      "metadata": {
        "id": "A1ETpNAI6ws8",
        "outputId": "88751e89-40ae-4041-d809-91de0a4f38ea",
        "colab": {
          "base_uri": "https://localhost:8080/",
          "height": 403
        }
      },
      "source": [
        "# univariate analysis: home_team variable bar graph\n",
        "#\n",
        "plt.figure(figsize = (8, 6))\n",
        "sns.displot(final_merge1['home_team'])"
      ],
      "execution_count": 57,
      "outputs": [
        {
          "output_type": "execute_result",
          "data": {
            "text/plain": [
              "<seaborn.axisgrid.FacetGrid at 0x7fc0f18d3780>"
            ]
          },
          "metadata": {
            "tags": []
          },
          "execution_count": 57
        },
        {
          "output_type": "display_data",
          "data": {
            "text/plain": [
              "<Figure size 576x432 with 0 Axes>"
            ]
          },
          "metadata": {
            "tags": []
          }
        },
        {
          "output_type": "display_data",
          "data": {
            "image/png": "[encoded data removed]",
            "text/plain": [
              "<Figure size 360x360 with 1 Axes>"
            ]
          },
          "metadata": {
            "tags": [],
            "needs_background": "light"
          }
        }
      ]
    },
    {
      "cell_type": "markdown",
      "metadata": {
        "id": "B3x2SdmBCyZl"
      },
      "source": [
        "This variable is not distribution."
      ]
    },
    {
      "cell_type": "code",
      "metadata": {
        "id": "S6IQT1CA8GJX",
        "outputId": "b51546b1-7de0-4bb5-fb3d-130d0fd8408d",
        "colab": {
          "base_uri": "https://localhost:8080/",
          "height": 443
        }
      },
      "source": [
        "# univariate analysis: home-team_score variable distplot\n",
        "#\n",
        "plt.figure(figsize = (8, 6))\n",
        "sns.distplot(final_merge1.home_team_score);"
      ],
      "execution_count": 58,
      "outputs": [
        {
          "output_type": "stream",
          "text": [
            "/usr/local/lib/python3.6/dist-packages/seaborn/distributions.py:2551: FutureWarning: `distplot` is a deprecated function and will be removed in a future version. Please adapt your code to use either `displot` (a figure-level function with similar flexibility) or `histplot` (an axes-level function for histograms).\n",
            "  warnings.warn(msg, FutureWarning)\n"
          ],
          "name": "stderr"
        },
        {
          "output_type": "display_data",
          "data": {
            "image/png": "[encoded data removed]",
            "text/plain": [
              "<Figure size 576x432 with 1 Axes>"
            ]
          },
          "metadata": {
            "tags": [],
            "needs_background": "light"
          }
        }
      ]
    },
    {
      "cell_type": "markdown",
      "metadata": {
        "id": "bvLKcyTJ7qew"
      },
      "source": [
        "**Observation**:From the above histograms, it can be observed that the plots are skewed to the right, which means that the mean is less than both the median and mode of goals scored"
      ]
    },
    {
      "cell_type": "code",
      "metadata": {
        "id": "oHLhGZ4K9LGs",
        "outputId": "4988bde9-3f23-4c2b-feb6-b4c324e4cbbe",
        "colab": {
          "base_uri": "https://localhost:8080/",
          "height": 442
        }
      },
      "source": [
        "# univariate analysis: away-team_score variable distplot\n",
        "#\n",
        "plt.figure(figsize = (8, 6))\n",
        "sns.distplot(final_merge1.away_team_score);"
      ],
      "execution_count": 59,
      "outputs": [
        {
          "output_type": "stream",
          "text": [
            "/usr/local/lib/python3.6/dist-packages/seaborn/distributions.py:2551: FutureWarning: `distplot` is a deprecated function and will be removed in a future version. Please adapt your code to use either `displot` (a figure-level function with similar flexibility) or `histplot` (an axes-level function for histograms).\n",
            "  warnings.warn(msg, FutureWarning)\n"
          ],
          "name": "stderr"
        },
        {
          "output_type": "display_data",
          "data": {
            "image/png": "[encoded data removed]",
            "text/plain": [
              "<Figure size 576x432 with 1 Axes>"
            ]
          },
          "metadata": {
            "tags": [],
            "needs_background": "light"
          }
        }
      ]
    },
    {
      "cell_type": "markdown",
      "metadata": {
        "id": "FpEXLRfx9mRH"
      },
      "source": [
        "**observation**: From the above histograms, it can be observed that the plots are skewed to the right, which means that the mean is less than both the median and mode of goals scored"
      ]
    },
    {
      "cell_type": "code",
      "metadata": {
        "id": "hZY30cgI9xaa",
        "outputId": "054307d7-31b4-465e-fdab-c6cddf32d0f8",
        "colab": {
          "base_uri": "https://localhost:8080/",
          "height": 265
        }
      },
      "source": [
        "# univariate analysis: status variable\n",
        "plt.figure(figsize = (5, 4))\n",
        "final_merge1.status.value_counts().plot(kind = 'bar', rot = 0);"
      ],
      "execution_count": 60,
      "outputs": [
        {
          "output_type": "display_data",
          "data": {
            "image/png": "[encoded data removed]",
            "text/plain": [
              "<Figure size 360x288 with 1 Axes>"
            ]
          },
          "metadata": {
            "tags": [],
            "needs_background": "light"
          }
        }
      ]
    },
    {
      "cell_type": "markdown",
      "metadata": {
        "id": "Oy_WDfe9-BS6"
      },
      "source": [
        "**observation**: win variable had more records."
      ]
    },
    {
      "cell_type": "code",
      "metadata": {
        "id": "m9xi79DE-Oxt",
        "outputId": "6dda9d0b-eca3-462a-b46a-a8009073d05a",
        "colab": {
          "base_uri": "https://localhost:8080/",
          "height": 265
        }
      },
      "source": [
        "# univariate analysis: tournament_type variable\n",
        "#\n",
        "plt.figure(figsize = (5, 4))\n",
        "final_merge1.tournament_type.value_counts().plot(kind = 'bar', rot = 0);"
      ],
      "execution_count": 61,
      "outputs": [
        {
          "output_type": "display_data",
          "data": {
            "image/png": "[encoded data removed]",
            "text/plain": [
              "<Figure size 360x288 with 1 Axes>"
            ]
          },
          "metadata": {
            "tags": [],
            "needs_background": "light"
          }
        }
      ]
    },
    {
      "cell_type": "markdown",
      "metadata": {
        "id": "3_jtzdOS_a1z"
      },
      "source": [
        "**observation** others variable had more records."
      ]
    },
    {
      "cell_type": "markdown",
      "metadata": {
        "id": "umz0HYwD_j6P"
      },
      "source": [
        "### Bivariate analysis\n",
        "\n",
        "We now perform bivariate analysis, which is a type of analysis that involves two variables. The main objective is to understand the relationships between these two types of variables"
      ]
    },
    {
      "cell_type": "code",
      "metadata": {
        "id": "0WrGpgHIDSL-",
        "outputId": "169a77a6-81a8-4f70-95d2-029774fc8f6e",
        "colab": {
          "base_uri": "https://localhost:8080/",
          "height": 920
        }
      },
      "source": [
        "# Plotting pairplot for merged dataset\n",
        "#\n",
        "sns.pairplot(final_merge1)\n"
      ],
      "execution_count": 62,
      "outputs": [
        {
          "output_type": "execute_result",
          "data": {
            "text/plain": [
              "<seaborn.axisgrid.PairGrid at 0x7fc0ed3b3a90>"
            ]
          },
          "metadata": {
            "tags": []
          },
          "execution_count": 62
        },
        {
          "output_type": "display_data",
          "data": {
            "image/png": "[encoded data removed]",
            "text/plain": [
              "<Figure size 900x900 with 30 Axes>"
            ]
          },
          "metadata": {
            "tags": [],
            "needs_background": "light"
          }
        }
      ]
    },
    {
      "cell_type": "markdown",
      "metadata": {
        "id": "n9aoYHylES37"
      },
      "source": [
        "**observation**: this shows that most of the variablse are not correlated."
      ]
    },
    {
      "cell_type": "code",
      "metadata": {
        "id": "Rehs7Tp8Ec2h",
        "outputId": "ae34bc77-5289-481d-a69f-cd68831d0c45",
        "colab": {
          "base_uri": "https://localhost:8080/",
          "height": 567
        }
      },
      "source": [
        "# heatmap to visualise features with linear relationships \n",
        "plt.figure(figsize = (8, 8))\n",
        "sns.heatmap(final_merge1.corr(), annot=True, );\n"
      ],
      "execution_count": 63,
      "outputs": [
        {
          "output_type": "display_data",
          "data": {
            "image/png": "[encoded data removed]",
            "text/plain": [
              "<Figure size 576x576 with 2 Axes>"
            ]
          },
          "metadata": {
            "tags": [],
            "needs_background": "light"
          }
        }
      ]
    },
    {
      "cell_type": "markdown",
      "metadata": {
        "id": "p-1zNGCVFZQ8"
      },
      "source": [
        "**observation**: there is weak relationship between variables."
      ]
    },
    {
      "cell_type": "markdown",
      "metadata": {
        "id": "HVeOteFbGIpE"
      },
      "source": [
        "##Feature engineering"
      ]
    },
    {
      "cell_type": "code",
      "metadata": {
        "id": "3CR_EYszGbxq",
        "outputId": "4fd206c7-8a3b-4153-a31f-219acac4dc7c",
        "colab": {
          "base_uri": "https://localhost:8080/",
          "height": 297
        }
      },
      "source": [
        "#getting the datset summary\n",
        "#\n",
        "final_merge1.describe()"
      ],
      "execution_count": 64,
      "outputs": [
        {
          "output_type": "execute_result",
          "data": {
            "text/html": [
              "<div>\n",
              "<style scoped>\n",
              "    .dataframe tbody tr th:only-of-type {\n",
              "        vertical-align: middle;\n",
              "    }\n",
              "\n",
              "    .dataframe tbody tr th {\n",
              "        vertical-align: top;\n",
              "    }\n",
              "\n",
              "    .dataframe thead th {\n",
              "        text-align: right;\n",
              "    }\n",
              "</style>\n",
              "<table border=\"1\" class=\"dataframe\">\n",
              "  <thead>\n",
              "    <tr style=\"text-align: right;\">\n",
              "      <th></th>\n",
              "      <th>home_team_rank</th>\n",
              "      <th>year</th>\n",
              "      <th>home_team_score</th>\n",
              "      <th>away_team_score</th>\n",
              "      <th>away_team-rank</th>\n",
              "    </tr>\n",
              "  </thead>\n",
              "  <tbody>\n",
              "    <tr>\n",
              "      <th>count</th>\n",
              "      <td>16862.000000</td>\n",
              "      <td>16862.000000</td>\n",
              "      <td>16862.000000</td>\n",
              "      <td>16862.000000</td>\n",
              "      <td>16862.000000</td>\n",
              "    </tr>\n",
              "    <tr>\n",
              "      <th>mean</th>\n",
              "      <td>76.023248</td>\n",
              "      <td>2006.498873</td>\n",
              "      <td>1.604673</td>\n",
              "      <td>1.069624</td>\n",
              "      <td>78.853042</td>\n",
              "    </tr>\n",
              "    <tr>\n",
              "      <th>std</th>\n",
              "      <td>50.852071</td>\n",
              "      <td>6.803962</td>\n",
              "      <td>1.616018</td>\n",
              "      <td>1.245983</td>\n",
              "      <td>52.005515</td>\n",
              "    </tr>\n",
              "    <tr>\n",
              "      <th>min</th>\n",
              "      <td>1.000000</td>\n",
              "      <td>1993.000000</td>\n",
              "      <td>0.000000</td>\n",
              "      <td>0.000000</td>\n",
              "      <td>1.000000</td>\n",
              "    </tr>\n",
              "    <tr>\n",
              "      <th>25%</th>\n",
              "      <td>33.000000</td>\n",
              "      <td>2001.000000</td>\n",
              "      <td>0.000000</td>\n",
              "      <td>0.000000</td>\n",
              "      <td>35.000000</td>\n",
              "    </tr>\n",
              "    <tr>\n",
              "      <th>50%</th>\n",
              "      <td>70.000000</td>\n",
              "      <td>2007.000000</td>\n",
              "      <td>1.000000</td>\n",
              "      <td>1.000000</td>\n",
              "      <td>72.000000</td>\n",
              "    </tr>\n",
              "    <tr>\n",
              "      <th>75%</th>\n",
              "      <td>112.000000</td>\n",
              "      <td>2012.000000</td>\n",
              "      <td>2.000000</td>\n",
              "      <td>2.000000</td>\n",
              "      <td>115.000000</td>\n",
              "    </tr>\n",
              "    <tr>\n",
              "      <th>max</th>\n",
              "      <td>209.000000</td>\n",
              "      <td>2018.000000</td>\n",
              "      <td>31.000000</td>\n",
              "      <td>15.000000</td>\n",
              "      <td>209.000000</td>\n",
              "    </tr>\n",
              "  </tbody>\n",
              "</table>\n",
              "</div>"
            ],
            "text/plain": [
              "       home_team_rank          year  ...  away_team_score  away_team-rank\n",
              "count    16862.000000  16862.000000  ...     16862.000000    16862.000000\n",
              "mean        76.023248   2006.498873  ...         1.069624       78.853042\n",
              "std         50.852071      6.803962  ...         1.245983       52.005515\n",
              "min          1.000000   1993.000000  ...         0.000000        1.000000\n",
              "25%         33.000000   2001.000000  ...         0.000000       35.000000\n",
              "50%         70.000000   2007.000000  ...         1.000000       72.000000\n",
              "75%        112.000000   2012.000000  ...         2.000000      115.000000\n",
              "max        209.000000   2018.000000  ...        15.000000      209.000000\n",
              "\n",
              "[8 rows x 5 columns]"
            ]
          },
          "metadata": {
            "tags": []
          },
          "execution_count": 64
        }
      ]
    },
    {
      "cell_type": "code",
      "metadata": {
        "id": "wVZDiLAjHSVA",
        "outputId": "0c2df38c-1cce-470f-a206-dca0eb0c5b16",
        "colab": {
          "base_uri": "https://localhost:8080/",
          "height": 204
        }
      },
      "source": [
        "# label encoding.\n",
        "\n",
        "#label encoding 'tournament'\n",
        "# label encoding.\n",
        "# Import label encoder \n",
        "from sklearn import preprocessing \n",
        "  \n",
        "# label_encoder object knows how to understand word labels. \n",
        "label_encoder = preprocessing.LabelEncoder() \n",
        "  \n",
        "# Encode labels in column 'tournament type'. \n",
        "final_merge1['tournament_type'] = label_encoder.fit_transform(final_merge1['tournament_type']) \n",
        "#\n",
        "#preview\n",
        "#\n",
        "final_merge1.head()\n",
        "#\n",
        "# friendly = 1\n",
        "# fifa world cup = 0\n",
        "#others = 2"
      ],
      "execution_count": 65,
      "outputs": [
        {
          "output_type": "execute_result",
          "data": {
            "text/html": [
              "<div>\n",
              "<style scoped>\n",
              "    .dataframe tbody tr th:only-of-type {\n",
              "        vertical-align: middle;\n",
              "    }\n",
              "\n",
              "    .dataframe tbody tr th {\n",
              "        vertical-align: top;\n",
              "    }\n",
              "\n",
              "    .dataframe thead th {\n",
              "        text-align: right;\n",
              "    }\n",
              "</style>\n",
              "<table border=\"1\" class=\"dataframe\">\n",
              "  <thead>\n",
              "    <tr style=\"text-align: right;\">\n",
              "      <th></th>\n",
              "      <th>home_team_rank</th>\n",
              "      <th>year</th>\n",
              "      <th>home_team</th>\n",
              "      <th>away_team</th>\n",
              "      <th>home_team_score</th>\n",
              "      <th>away_team_score</th>\n",
              "      <th>away_team-rank</th>\n",
              "      <th>status</th>\n",
              "      <th>tournament_type</th>\n",
              "    </tr>\n",
              "  </thead>\n",
              "  <tbody>\n",
              "    <tr>\n",
              "      <th>0</th>\n",
              "      <td>4</td>\n",
              "      <td>1993</td>\n",
              "      <td>Sweden</td>\n",
              "      <td>Switzerland</td>\n",
              "      <td>1</td>\n",
              "      <td>2</td>\n",
              "      <td>3</td>\n",
              "      <td>Loss</td>\n",
              "      <td>1</td>\n",
              "    </tr>\n",
              "    <tr>\n",
              "      <th>1</th>\n",
              "      <td>4</td>\n",
              "      <td>1993</td>\n",
              "      <td>Sweden</td>\n",
              "      <td>France</td>\n",
              "      <td>1</td>\n",
              "      <td>1</td>\n",
              "      <td>12</td>\n",
              "      <td>Draw</td>\n",
              "      <td>0</td>\n",
              "    </tr>\n",
              "    <tr>\n",
              "      <th>2</th>\n",
              "      <td>5</td>\n",
              "      <td>1993</td>\n",
              "      <td>Argentina</td>\n",
              "      <td>Peru</td>\n",
              "      <td>2</td>\n",
              "      <td>1</td>\n",
              "      <td>70</td>\n",
              "      <td>Win</td>\n",
              "      <td>0</td>\n",
              "    </tr>\n",
              "    <tr>\n",
              "      <th>5</th>\n",
              "      <td>19</td>\n",
              "      <td>1993</td>\n",
              "      <td>Colombia</td>\n",
              "      <td>Peru</td>\n",
              "      <td>4</td>\n",
              "      <td>0</td>\n",
              "      <td>70</td>\n",
              "      <td>Win</td>\n",
              "      <td>0</td>\n",
              "    </tr>\n",
              "    <tr>\n",
              "      <th>8</th>\n",
              "      <td>67</td>\n",
              "      <td>1993</td>\n",
              "      <td>Paraguay</td>\n",
              "      <td>Peru</td>\n",
              "      <td>2</td>\n",
              "      <td>1</td>\n",
              "      <td>70</td>\n",
              "      <td>Win</td>\n",
              "      <td>0</td>\n",
              "    </tr>\n",
              "  </tbody>\n",
              "</table>\n",
              "</div>"
            ],
            "text/plain": [
              "   home_team_rank  year  home_team  ... away_team-rank  status  tournament_type\n",
              "0               4  1993     Sweden  ...              3    Loss                1\n",
              "1               4  1993     Sweden  ...             12    Draw                0\n",
              "2               5  1993  Argentina  ...             70     Win                0\n",
              "5              19  1993   Colombia  ...             70     Win                0\n",
              "8              67  1993   Paraguay  ...             70     Win                0\n",
              "\n",
              "[5 rows x 9 columns]"
            ]
          },
          "metadata": {
            "tags": []
          },
          "execution_count": 65
        }
      ]
    },
    {
      "cell_type": "code",
      "metadata": {
        "id": "M6mF4cfXMkX_",
        "outputId": "6dbf4af0-e445-45df-9226-034c83151620",
        "colab": {
          "base_uri": "https://localhost:8080/",
          "height": 204
        }
      },
      "source": [
        "# Encode labels in column 'status'. \n",
        "final_merge1['status'] = label_encoder.fit_transform(final_merge1['status']) \n",
        "#\n",
        "#preview\n",
        "#\n",
        "final_merge1.head()\n",
        "#\n",
        "# loss = 1\n",
        "# draw = 0\n",
        "#win = 2\n"
      ],
      "execution_count": 66,
      "outputs": [
        {
          "output_type": "execute_result",
          "data": {
            "text/html": [
              "<div>\n",
              "<style scoped>\n",
              "    .dataframe tbody tr th:only-of-type {\n",
              "        vertical-align: middle;\n",
              "    }\n",
              "\n",
              "    .dataframe tbody tr th {\n",
              "        vertical-align: top;\n",
              "    }\n",
              "\n",
              "    .dataframe thead th {\n",
              "        text-align: right;\n",
              "    }\n",
              "</style>\n",
              "<table border=\"1\" class=\"dataframe\">\n",
              "  <thead>\n",
              "    <tr style=\"text-align: right;\">\n",
              "      <th></th>\n",
              "      <th>home_team_rank</th>\n",
              "      <th>year</th>\n",
              "      <th>home_team</th>\n",
              "      <th>away_team</th>\n",
              "      <th>home_team_score</th>\n",
              "      <th>away_team_score</th>\n",
              "      <th>away_team-rank</th>\n",
              "      <th>status</th>\n",
              "      <th>tournament_type</th>\n",
              "    </tr>\n",
              "  </thead>\n",
              "  <tbody>\n",
              "    <tr>\n",
              "      <th>0</th>\n",
              "      <td>4</td>\n",
              "      <td>1993</td>\n",
              "      <td>Sweden</td>\n",
              "      <td>Switzerland</td>\n",
              "      <td>1</td>\n",
              "      <td>2</td>\n",
              "      <td>3</td>\n",
              "      <td>1</td>\n",
              "      <td>1</td>\n",
              "    </tr>\n",
              "    <tr>\n",
              "      <th>1</th>\n",
              "      <td>4</td>\n",
              "      <td>1993</td>\n",
              "      <td>Sweden</td>\n",
              "      <td>France</td>\n",
              "      <td>1</td>\n",
              "      <td>1</td>\n",
              "      <td>12</td>\n",
              "      <td>0</td>\n",
              "      <td>0</td>\n",
              "    </tr>\n",
              "    <tr>\n",
              "      <th>2</th>\n",
              "      <td>5</td>\n",
              "      <td>1993</td>\n",
              "      <td>Argentina</td>\n",
              "      <td>Peru</td>\n",
              "      <td>2</td>\n",
              "      <td>1</td>\n",
              "      <td>70</td>\n",
              "      <td>2</td>\n",
              "      <td>0</td>\n",
              "    </tr>\n",
              "    <tr>\n",
              "      <th>5</th>\n",
              "      <td>19</td>\n",
              "      <td>1993</td>\n",
              "      <td>Colombia</td>\n",
              "      <td>Peru</td>\n",
              "      <td>4</td>\n",
              "      <td>0</td>\n",
              "      <td>70</td>\n",
              "      <td>2</td>\n",
              "      <td>0</td>\n",
              "    </tr>\n",
              "    <tr>\n",
              "      <th>8</th>\n",
              "      <td>67</td>\n",
              "      <td>1993</td>\n",
              "      <td>Paraguay</td>\n",
              "      <td>Peru</td>\n",
              "      <td>2</td>\n",
              "      <td>1</td>\n",
              "      <td>70</td>\n",
              "      <td>2</td>\n",
              "      <td>0</td>\n",
              "    </tr>\n",
              "  </tbody>\n",
              "</table>\n",
              "</div>"
            ],
            "text/plain": [
              "   home_team_rank  year  home_team  ... away_team-rank  status  tournament_type\n",
              "0               4  1993     Sweden  ...              3       1                1\n",
              "1               4  1993     Sweden  ...             12       0                0\n",
              "2               5  1993  Argentina  ...             70       2                0\n",
              "5              19  1993   Colombia  ...             70       2                0\n",
              "8              67  1993   Paraguay  ...             70       2                0\n",
              "\n",
              "[5 rows x 9 columns]"
            ]
          },
          "metadata": {
            "tags": []
          },
          "execution_count": 66
        }
      ]
    },
    {
      "cell_type": "markdown",
      "metadata": {
        "id": "6C8UFlxxNIDD"
      },
      "source": [
        "**observation**:status variable has been encoded."
      ]
    },
    {
      "cell_type": "markdown",
      "metadata": {
        "id": "CZhR5lDsOXwp"
      },
      "source": [
        " ## modeling\n",
        "\n"
      ]
    },
    {
      "cell_type": "code",
      "metadata": {
        "id": "2xbo2T9iKoOd"
      },
      "source": [
        "# importing libraries\n",
        "#\n",
        "import scipy as sp\n",
        "from sklearn.preprocessing import StandardScaler, PolynomialFeatures\n",
        "from sklearn.model_selection import train_test_split, GridSearchCV, KFold, cross_val_score\n",
        "from sklearn.linear_model import LinearRegression, LogisticRegression\n",
        "from sklearn.metrics import mean_squared_error, accuracy_score, f1_score, confusion_matrix"
      ],
      "execution_count": 109,
      "outputs": []
    },
    {
      "cell_type": "markdown",
      "metadata": {
        "id": "o5gZtZ5xPtZe"
      },
      "source": [
        "### approach 1: Using Polynomial regression.\n",
        "\n",
        "Create a model that can predict how many goals the home team scores"
      ]
    },
    {
      "cell_type": "code",
      "metadata": {
        "id": "ttj-hetPZp-Q",
        "outputId": "68ece9dd-a6fb-4db5-eeb7-62bf070921b0",
        "colab": {
          "base_uri": "https://localhost:8080/",
          "height": 204
        }
      },
      "source": [
        "# Selecting variables relevant to the reasearch question\n",
        "#\n",
        "model1 = final_merge1[['home_team_score','away_team_score',\t'tournament_type', 'home_team_rank', 'away_team-rank']]\n",
        "\n",
        "# Previewing the first five rows of the dataset\n",
        "#\n",
        "model1.head()"
      ],
      "execution_count": 75,
      "outputs": [
        {
          "output_type": "execute_result",
          "data": {
            "text/html": [
              "<div>\n",
              "<style scoped>\n",
              "    .dataframe tbody tr th:only-of-type {\n",
              "        vertical-align: middle;\n",
              "    }\n",
              "\n",
              "    .dataframe tbody tr th {\n",
              "        vertical-align: top;\n",
              "    }\n",
              "\n",
              "    .dataframe thead th {\n",
              "        text-align: right;\n",
              "    }\n",
              "</style>\n",
              "<table border=\"1\" class=\"dataframe\">\n",
              "  <thead>\n",
              "    <tr style=\"text-align: right;\">\n",
              "      <th></th>\n",
              "      <th>home_team_score</th>\n",
              "      <th>away_team_score</th>\n",
              "      <th>tournament_type</th>\n",
              "      <th>home_team_rank</th>\n",
              "      <th>away_team-rank</th>\n",
              "    </tr>\n",
              "  </thead>\n",
              "  <tbody>\n",
              "    <tr>\n",
              "      <th>0</th>\n",
              "      <td>1</td>\n",
              "      <td>2</td>\n",
              "      <td>1</td>\n",
              "      <td>4</td>\n",
              "      <td>3</td>\n",
              "    </tr>\n",
              "    <tr>\n",
              "      <th>1</th>\n",
              "      <td>1</td>\n",
              "      <td>1</td>\n",
              "      <td>0</td>\n",
              "      <td>4</td>\n",
              "      <td>12</td>\n",
              "    </tr>\n",
              "    <tr>\n",
              "      <th>2</th>\n",
              "      <td>2</td>\n",
              "      <td>1</td>\n",
              "      <td>0</td>\n",
              "      <td>5</td>\n",
              "      <td>70</td>\n",
              "    </tr>\n",
              "    <tr>\n",
              "      <th>5</th>\n",
              "      <td>4</td>\n",
              "      <td>0</td>\n",
              "      <td>0</td>\n",
              "      <td>19</td>\n",
              "      <td>70</td>\n",
              "    </tr>\n",
              "    <tr>\n",
              "      <th>8</th>\n",
              "      <td>2</td>\n",
              "      <td>1</td>\n",
              "      <td>0</td>\n",
              "      <td>67</td>\n",
              "      <td>70</td>\n",
              "    </tr>\n",
              "  </tbody>\n",
              "</table>\n",
              "</div>"
            ],
            "text/plain": [
              "   home_team_score  away_team_score  ...  home_team_rank  away_team-rank\n",
              "0                1                2  ...               4               3\n",
              "1                1                1  ...               4              12\n",
              "2                2                1  ...               5              70\n",
              "5                4                0  ...              19              70\n",
              "8                2                1  ...              67              70\n",
              "\n",
              "[5 rows x 5 columns]"
            ]
          },
          "metadata": {
            "tags": []
          },
          "execution_count": 75
        }
      ]
    },
    {
      "cell_type": "code",
      "metadata": {
        "id": "56lIHDQkQW1R",
        "outputId": "071d092d-6008-483b-ff54-4de5d86397f5",
        "colab": {
          "base_uri": "https://localhost:8080/",
          "height": 204
        }
      },
      "source": [
        "#1. checking for multicollinearity\n",
        "# Let's display the correlations between the variables\n",
        "corr = model1.corr()\n",
        "\n",
        "corr"
      ],
      "execution_count": 76,
      "outputs": [
        {
          "output_type": "execute_result",
          "data": {
            "text/html": [
              "<div>\n",
              "<style scoped>\n",
              "    .dataframe tbody tr th:only-of-type {\n",
              "        vertical-align: middle;\n",
              "    }\n",
              "\n",
              "    .dataframe tbody tr th {\n",
              "        vertical-align: top;\n",
              "    }\n",
              "\n",
              "    .dataframe thead th {\n",
              "        text-align: right;\n",
              "    }\n",
              "</style>\n",
              "<table border=\"1\" class=\"dataframe\">\n",
              "  <thead>\n",
              "    <tr style=\"text-align: right;\">\n",
              "      <th></th>\n",
              "      <th>home_team_score</th>\n",
              "      <th>away_team_score</th>\n",
              "      <th>tournament_type</th>\n",
              "      <th>home_team_rank</th>\n",
              "      <th>away_team-rank</th>\n",
              "    </tr>\n",
              "  </thead>\n",
              "  <tbody>\n",
              "    <tr>\n",
              "      <th>home_team_score</th>\n",
              "      <td>1.000000</td>\n",
              "      <td>-0.163737</td>\n",
              "      <td>-0.027374</td>\n",
              "      <td>-0.135345</td>\n",
              "      <td>0.318861</td>\n",
              "    </tr>\n",
              "    <tr>\n",
              "      <th>away_team_score</th>\n",
              "      <td>-0.163737</td>\n",
              "      <td>1.000000</td>\n",
              "      <td>0.004693</td>\n",
              "      <td>0.221738</td>\n",
              "      <td>-0.179911</td>\n",
              "    </tr>\n",
              "    <tr>\n",
              "      <th>tournament_type</th>\n",
              "      <td>-0.027374</td>\n",
              "      <td>0.004693</td>\n",
              "      <td>1.000000</td>\n",
              "      <td>0.081071</td>\n",
              "      <td>0.098640</td>\n",
              "    </tr>\n",
              "    <tr>\n",
              "      <th>home_team_rank</th>\n",
              "      <td>-0.135345</td>\n",
              "      <td>0.221738</td>\n",
              "      <td>0.081071</td>\n",
              "      <td>1.000000</td>\n",
              "      <td>0.469376</td>\n",
              "    </tr>\n",
              "    <tr>\n",
              "      <th>away_team-rank</th>\n",
              "      <td>0.318861</td>\n",
              "      <td>-0.179911</td>\n",
              "      <td>0.098640</td>\n",
              "      <td>0.469376</td>\n",
              "      <td>1.000000</td>\n",
              "    </tr>\n",
              "  </tbody>\n",
              "</table>\n",
              "</div>"
            ],
            "text/plain": [
              "                 home_team_score  ...  away_team-rank\n",
              "home_team_score         1.000000  ...        0.318861\n",
              "away_team_score        -0.163737  ...       -0.179911\n",
              "tournament_type        -0.027374  ...        0.098640\n",
              "home_team_rank         -0.135345  ...        0.469376\n",
              "away_team-rank          0.318861  ...        1.000000\n",
              "\n",
              "[5 rows x 5 columns]"
            ]
          },
          "metadata": {
            "tags": []
          },
          "execution_count": 76
        }
      ]
    },
    {
      "cell_type": "markdown",
      "metadata": {
        "id": "ykrOk9SkSodV"
      },
      "source": [
        "**observation :**it shows the relationship between variables. The coefficient of 1 across the diagonal shows that a variable is perfectly correlated to itself. \n",
        "\n",
        "the above will be used to compute the VIF (Variance Inflation Factor) score for each variable, by finding the inverse matrix of the correlations matrix."
      ]
    },
    {
      "cell_type": "code",
      "metadata": {
        "id": "utnZymwBUmeX",
        "outputId": "2f17c0ef-2180-4cb5-f0a1-bd0f55ff9d3c",
        "colab": {
          "base_uri": "https://localhost:8080/",
          "height": 204
        }
      },
      "source": [
        "#2.computing Variance Inflation Factor(VIF) score\n",
        "#\n",
        "vif_score=pd.DataFrame(np.linalg.inv(corr.values), index = corr.index, columns=corr.columns)\n",
        "vif_score"
      ],
      "execution_count": 77,
      "outputs": [
        {
          "output_type": "execute_result",
          "data": {
            "text/html": [
              "<div>\n",
              "<style scoped>\n",
              "    .dataframe tbody tr th:only-of-type {\n",
              "        vertical-align: middle;\n",
              "    }\n",
              "\n",
              "    .dataframe tbody tr th {\n",
              "        vertical-align: top;\n",
              "    }\n",
              "\n",
              "    .dataframe thead th {\n",
              "        text-align: right;\n",
              "    }\n",
              "</style>\n",
              "<table border=\"1\" class=\"dataframe\">\n",
              "  <thead>\n",
              "    <tr style=\"text-align: right;\">\n",
              "      <th></th>\n",
              "      <th>home_team_score</th>\n",
              "      <th>away_team_score</th>\n",
              "      <th>tournament_type</th>\n",
              "      <th>home_team_rank</th>\n",
              "      <th>away_team-rank</th>\n",
              "    </tr>\n",
              "  </thead>\n",
              "  <tbody>\n",
              "    <tr>\n",
              "      <th>home_team_score</th>\n",
              "      <td>1.262705</td>\n",
              "      <td>-0.008887</td>\n",
              "      <td>0.058974</td>\n",
              "      <td>0.462435</td>\n",
              "      <td>-0.627099</td>\n",
              "    </tr>\n",
              "    <tr>\n",
              "      <th>away_team_score</th>\n",
              "      <td>-0.008887</td>\n",
              "      <td>1.180261</td>\n",
              "      <td>-0.010901</td>\n",
              "      <td>-0.466253</td>\n",
              "      <td>0.435099</td>\n",
              "    </tr>\n",
              "    <tr>\n",
              "      <th>tournament_type</th>\n",
              "      <td>0.058974</td>\n",
              "      <td>-0.010901</td>\n",
              "      <td>1.014257</td>\n",
              "      <td>-0.019394</td>\n",
              "      <td>-0.111709</td>\n",
              "    </tr>\n",
              "    <tr>\n",
              "      <th>home_team_rank</th>\n",
              "      <td>0.462435</td>\n",
              "      <td>-0.466253</td>\n",
              "      <td>-0.019394</td>\n",
              "      <td>1.635571</td>\n",
              "      <td>-0.997120</td>\n",
              "    </tr>\n",
              "    <tr>\n",
              "      <th>away_team-rank</th>\n",
              "      <td>-0.627099</td>\n",
              "      <td>0.435099</td>\n",
              "      <td>-0.111709</td>\n",
              "      <td>-0.997120</td>\n",
              "      <td>1.757280</td>\n",
              "    </tr>\n",
              "  </tbody>\n",
              "</table>\n",
              "</div>"
            ],
            "text/plain": [
              "                 home_team_score  ...  away_team-rank\n",
              "home_team_score         1.262705  ...       -0.627099\n",
              "away_team_score        -0.008887  ...        0.435099\n",
              "tournament_type         0.058974  ...       -0.111709\n",
              "home_team_rank          0.462435  ...       -0.997120\n",
              "away_team-rank         -0.627099  ...        1.757280\n",
              "\n",
              "[5 rows x 5 columns]"
            ]
          },
          "metadata": {
            "tags": []
          },
          "execution_count": 77
        }
      ]
    },
    {
      "cell_type": "markdown",
      "metadata": {
        "id": "KywBQED_Wmm0"
      },
      "source": [
        "**observation** the above will be plotted on heatmap for easy interpretation\n",
        "\n"
      ]
    },
    {
      "cell_type": "code",
      "metadata": {
        "id": "QqxItm4kcEQF",
        "outputId": "ab11ced9-c0fc-431f-f06e-9eb7b28536c4",
        "colab": {
          "base_uri": "https://localhost:8080/",
          "height": 672
        }
      },
      "source": [
        "# plotting Vif score on heatmap\n",
        "#\n",
        "plt.figure(figsize = (10, 10))\n",
        "sns.heatmap(vif_score, annot = True)\n",
        "plt.show()\n"
      ],
      "execution_count": 78,
      "outputs": [
        {
          "output_type": "display_data",
          "data": {
            "image/png": "[encoded data removed]",
            "text/plain": [
              "<Figure size 720x720 with 2 Axes>"
            ]
          },
          "metadata": {
            "tags": [],
            "needs_background": "light"
          }
        }
      ]
    },
    {
      "cell_type": "markdown",
      "metadata": {
        "id": "4kxMNh68d6OD"
      },
      "source": [
        "**interpretaion** : the VIF score for home_team_score is 1.3, away_team_score is 1.2, tournament type 1,home team rank is 1.6 and away teamrank is 1.8. All scores are under 5, therefore there is no multicollinearity (No 2 variables are colinear)."
      ]
    },
    {
      "cell_type": "code",
      "metadata": {
        "id": "ajaXM414fMD-"
      },
      "source": [
        "#Creating the polynomial model1\n",
        "#\n",
        "#importing libraries to be used\n",
        "#\n",
        "from sklearn.preprocessing import PolynomialFeatures\n",
        "\n",
        "from sklearn.model_selection import train_test_split\n",
        "\n",
        "# Import LinearRegression method from sklearn linear_model library\n",
        "from sklearn.linear_model import LinearRegression\n"
      ],
      "execution_count": 79,
      "outputs": []
    },
    {
      "cell_type": "code",
      "metadata": {
        "id": "UhqVqi3-0ioP",
        "outputId": "7b1a6ad3-8e4f-44f5-9a5e-9dd739d5fa0e",
        "colab": {
          "base_uri": "https://localhost:8080/",
          "height": 204
        }
      },
      "source": [
        "# dataset overview\n",
        "#\n",
        "model1.head()"
      ],
      "execution_count": 80,
      "outputs": [
        {
          "output_type": "execute_result",
          "data": {
            "text/html": [
              "<div>\n",
              "<style scoped>\n",
              "    .dataframe tbody tr th:only-of-type {\n",
              "        vertical-align: middle;\n",
              "    }\n",
              "\n",
              "    .dataframe tbody tr th {\n",
              "        vertical-align: top;\n",
              "    }\n",
              "\n",
              "    .dataframe thead th {\n",
              "        text-align: right;\n",
              "    }\n",
              "</style>\n",
              "<table border=\"1\" class=\"dataframe\">\n",
              "  <thead>\n",
              "    <tr style=\"text-align: right;\">\n",
              "      <th></th>\n",
              "      <th>home_team_score</th>\n",
              "      <th>away_team_score</th>\n",
              "      <th>tournament_type</th>\n",
              "      <th>home_team_rank</th>\n",
              "      <th>away_team-rank</th>\n",
              "    </tr>\n",
              "  </thead>\n",
              "  <tbody>\n",
              "    <tr>\n",
              "      <th>0</th>\n",
              "      <td>1</td>\n",
              "      <td>2</td>\n",
              "      <td>1</td>\n",
              "      <td>4</td>\n",
              "      <td>3</td>\n",
              "    </tr>\n",
              "    <tr>\n",
              "      <th>1</th>\n",
              "      <td>1</td>\n",
              "      <td>1</td>\n",
              "      <td>0</td>\n",
              "      <td>4</td>\n",
              "      <td>12</td>\n",
              "    </tr>\n",
              "    <tr>\n",
              "      <th>2</th>\n",
              "      <td>2</td>\n",
              "      <td>1</td>\n",
              "      <td>0</td>\n",
              "      <td>5</td>\n",
              "      <td>70</td>\n",
              "    </tr>\n",
              "    <tr>\n",
              "      <th>5</th>\n",
              "      <td>4</td>\n",
              "      <td>0</td>\n",
              "      <td>0</td>\n",
              "      <td>19</td>\n",
              "      <td>70</td>\n",
              "    </tr>\n",
              "    <tr>\n",
              "      <th>8</th>\n",
              "      <td>2</td>\n",
              "      <td>1</td>\n",
              "      <td>0</td>\n",
              "      <td>67</td>\n",
              "      <td>70</td>\n",
              "    </tr>\n",
              "  </tbody>\n",
              "</table>\n",
              "</div>"
            ],
            "text/plain": [
              "   home_team_score  away_team_score  ...  home_team_rank  away_team-rank\n",
              "0                1                2  ...               4               3\n",
              "1                1                1  ...               4              12\n",
              "2                2                1  ...               5              70\n",
              "5                4                0  ...              19              70\n",
              "8                2                1  ...              67              70\n",
              "\n",
              "[5 rows x 5 columns]"
            ]
          },
          "metadata": {
            "tags": []
          },
          "execution_count": 80
        }
      ]
    },
    {
      "cell_type": "code",
      "metadata": {
        "id": "9X4q0Mvnz_qv"
      },
      "source": [
        "# dividing our dataset into features (X) and target (y)\n",
        "#\n",
        "X = model1.drop(columns = ['home_team_score']).values\n",
        "y = model1['home_team_score'].values\n"
      ],
      "execution_count": 83,
      "outputs": []
    },
    {
      "cell_type": "code",
      "metadata": {
        "id": "QcPd3a6l8OE0",
        "outputId": "3110901d-ebd2-4702-e584-c0c4058b441d",
        "colab": {
          "base_uri": "https://localhost:8080/"
        }
      },
      "source": [
        "#shape\n",
        "\n",
        "print(X.shape)\n",
        "print(y.shape)"
      ],
      "execution_count": 84,
      "outputs": [
        {
          "output_type": "stream",
          "text": [
            "(16862, 4)\n",
            "(16862,)\n"
          ],
          "name": "stdout"
        }
      ]
    },
    {
      "cell_type": "code",
      "metadata": {
        "id": "cWEMEiSp8fpN"
      },
      "source": [
        "# splitting our dataset into 80-20 train-test sets\n",
        "#\n",
        "from sklearn.model_selection import train_test_split \n",
        "#\n",
        "#assigning variable to train test split output\n",
        "X_train, X_test, y_train, y_test = train_test_split(X, y, random_state = 10, test_size =.2)"
      ],
      "execution_count": 88,
      "outputs": []
    },
    {
      "cell_type": "markdown",
      "metadata": {
        "id": "nJ_RewEc_uOf"
      },
      "source": [
        "**interpretaion**:\n",
        "*   x_train: independent/input feature for training the model\n",
        "*   y_train: dependent/ target/ output feature for training the model\n",
        "*   x_test: independent/input feature for testing the model, will be used to predict the output value\n",
        "*   y_test: original depedent/output values of t-test, we'll compare this values with our predicted values to check the performance of our build model.\n",
        "*   train_ size= 80% of the data will go for train set will 20% for test. set.\n",
        "*   random_state= this fix the split i.e there will be the same split each time you ran the code.\n",
        "\n"
      ]
    },
    {
      "cell_type": "code",
      "metadata": {
        "id": "2CbnkaE1IgcX"
      },
      "source": [
        "# Standardising the X_train and the X_test to the same scale\n",
        "#\n",
        "from sklearn.preprocessing import StandardScaler, PolynomialFeatures\n",
        "#\n",
        "sc = StandardScaler()\n",
        "X_train = sc.fit_transform(X_train)\n",
        "X_test = sc.transform(X_test)\n"
      ],
      "execution_count": 102,
      "outputs": []
    },
    {
      "cell_type": "markdown",
      "metadata": {
        "id": "x4r2flQQJITg"
      },
      "source": [
        "**observation**: this ensure the train and test variable are equal"
      ]
    },
    {
      "cell_type": "markdown",
      "metadata": {
        "id": "MbAWAyg5CpsL"
      },
      "source": [
        "building the model"
      ]
    },
    {
      "cell_type": "code",
      "metadata": {
        "id": "0PRRUT8fCm56",
        "outputId": "3ace2362-e339-41ad-c89b-180be6fbefb3",
        "colab": {
          "base_uri": "https://localhost:8080/"
        }
      },
      "source": [
        "# Fitting the polynomial features to the X_train and X_test\n",
        "#\n",
        "poly_reg = PolynomialFeatures(degree = 2) \n",
        "X_poly = poly_reg.fit_transform(X)\n",
        "pol_reg.fit(X_poly, y)"
      ],
      "execution_count": 125,
      "outputs": [
        {
          "output_type": "execute_result",
          "data": {
            "text/plain": [
              "LinearRegression(copy_X=True, fit_intercept=True, n_jobs=None, normalize=False)"
            ]
          },
          "metadata": {
            "tags": []
          },
          "execution_count": 125
        }
      ]
    },
    {
      "cell_type": "code",
      "metadata": {
        "id": "rXlAK0DbDN7z",
        "outputId": "f0634e28-8fb8-44cf-a5d4-c12b079575da",
        "colab": {
          "base_uri": "https://localhost:8080/"
        }
      },
      "source": [
        "#\n",
        "# Training the model\n",
        "#\n",
        "regressor = LinearRegression()\n",
        "regressor.fit(X_train, y_train)\n",
        "#\n",
        "# Making predictions\n",
        "#\n",
        "y_pred = regressor.predict(X_test)\n",
        "\n",
        "# Measuring the accuracy of the model\n",
        "#\n",
        "print(np.sqrt(mean_squared_error(y_test, y_pred)))"
      ],
      "execution_count": 128,
      "outputs": [
        {
          "output_type": "stream",
          "text": [
            "1.4273716964995309\n"
          ],
          "name": "stdout"
        }
      ]
    },
    {
      "cell_type": "markdown",
      "metadata": {
        "id": "gaXKY4KLMW54"
      },
      "source": [
        "**observation**: The lower the RMSE of a model, the better the performance of the model. Therefore, this model is fairly good in making predictions"
      ]
    },
    {
      "cell_type": "code",
      "metadata": {
        "id": "fS2QWkAXDXyF",
        "outputId": "f3e9953b-6dc3-46ba-8fef-41b6572c1fbf",
        "colab": {
          "base_uri": "https://localhost:8080/",
          "height": 399
        }
      },
      "source": [
        "# making comparison\n",
        "compare = pd.DataFrame({'Actual':y_test , 'Predicted': y_pred}) \n",
        "print(compare.head())\n",
        "compare.describe()"
      ],
      "execution_count": 129,
      "outputs": [
        {
          "output_type": "stream",
          "text": [
            "   Actual  Predicted\n",
            "0       2   1.372616\n",
            "1       3   1.571969\n",
            "2       0   1.512368\n",
            "3       0   1.689499\n",
            "4       0   1.566344\n"
          ],
          "name": "stdout"
        },
        {
          "output_type": "execute_result",
          "data": {
            "text/html": [
              "<div>\n",
              "<style scoped>\n",
              "    .dataframe tbody tr th:only-of-type {\n",
              "        vertical-align: middle;\n",
              "    }\n",
              "\n",
              "    .dataframe tbody tr th {\n",
              "        vertical-align: top;\n",
              "    }\n",
              "\n",
              "    .dataframe thead th {\n",
              "        text-align: right;\n",
              "    }\n",
              "</style>\n",
              "<table border=\"1\" class=\"dataframe\">\n",
              "  <thead>\n",
              "    <tr style=\"text-align: right;\">\n",
              "      <th></th>\n",
              "      <th>Actual</th>\n",
              "      <th>Predicted</th>\n",
              "    </tr>\n",
              "  </thead>\n",
              "  <tbody>\n",
              "    <tr>\n",
              "      <th>count</th>\n",
              "      <td>3373.000000</td>\n",
              "      <td>3373.000000</td>\n",
              "    </tr>\n",
              "    <tr>\n",
              "      <th>mean</th>\n",
              "      <td>1.644530</td>\n",
              "      <td>1.614144</td>\n",
              "    </tr>\n",
              "    <tr>\n",
              "      <th>std</th>\n",
              "      <td>1.636874</td>\n",
              "      <td>0.783015</td>\n",
              "    </tr>\n",
              "    <tr>\n",
              "      <th>min</th>\n",
              "      <td>0.000000</td>\n",
              "      <td>0.056166</td>\n",
              "    </tr>\n",
              "    <tr>\n",
              "      <th>25%</th>\n",
              "      <td>0.000000</td>\n",
              "      <td>1.089981</td>\n",
              "    </tr>\n",
              "    <tr>\n",
              "      <th>50%</th>\n",
              "      <td>1.000000</td>\n",
              "      <td>1.465531</td>\n",
              "    </tr>\n",
              "    <tr>\n",
              "      <th>75%</th>\n",
              "      <td>2.000000</td>\n",
              "      <td>1.969621</td>\n",
              "    </tr>\n",
              "    <tr>\n",
              "      <th>max</th>\n",
              "      <td>19.000000</td>\n",
              "      <td>5.994765</td>\n",
              "    </tr>\n",
              "  </tbody>\n",
              "</table>\n",
              "</div>"
            ],
            "text/plain": [
              "            Actual    Predicted\n",
              "count  3373.000000  3373.000000\n",
              "mean      1.644530     1.614144\n",
              "std       1.636874     0.783015\n",
              "min       0.000000     0.056166\n",
              "25%       0.000000     1.089981\n",
              "50%       1.000000     1.465531\n",
              "75%       2.000000     1.969621\n",
              "max      19.000000     5.994765"
            ]
          },
          "metadata": {
            "tags": []
          },
          "execution_count": 129
        }
      ]
    },
    {
      "cell_type": "code",
      "metadata": {
        "id": "pqZvNz-GON1G"
      },
      "source": [
        "# create the residual by subtracting the test value from the predicted value\n",
        "residuals = np.subtract(y_pred, y_test)"
      ],
      "execution_count": 130,
      "outputs": []
    },
    {
      "cell_type": "code",
      "metadata": {
        "id": "YUQtdcTgPIcg",
        "outputId": "c6ba4f2b-2908-412b-8789-5856a98db5eb",
        "colab": {
          "base_uri": "https://localhost:8080/"
        }
      },
      "source": [
        "# statistical description\n",
        "residual = pd.DataFrame(residuals).describe()\n",
        "#\n",
        "# mean \n",
        "residuals.mean()"
      ],
      "execution_count": 132,
      "outputs": [
        {
          "output_type": "execute_result",
          "data": {
            "text/plain": [
              "-0.030386537867448275"
            ]
          },
          "metadata": {
            "tags": []
          },
          "execution_count": 132
        }
      ]
    },
    {
      "cell_type": "code",
      "metadata": {
        "id": "d7nRPk45SbZj",
        "outputId": "e360310b-0179-4d74-fe92-b8093863c767",
        "colab": {
          "base_uri": "https://localhost:8080/",
          "height": 281
        }
      },
      "source": [
        "plt.scatter(y_pred, residuals, color='black')\n",
        "plt.ylabel('residual')\n",
        "plt.xlabel('fitted values')\n",
        "plt.axhline(y= residuals.mean(), color='red', linewidth=1)\n",
        "plt.show()"
      ],
      "execution_count": 137,
      "outputs": [
        {
          "output_type": "display_data",
          "data": {
            "image/png": "[encoded data removed]",
            "text/plain": [
              "<Figure size 432x288 with 1 Axes>"
            ]
          },
          "metadata": {
            "tags": [],
            "needs_background": "light"
          }
        }
      ]
    },
    {
      "cell_type": "markdown",
      "metadata": {
        "id": "eNwUPHP2Pcum"
      },
      "source": [
        "**observation**: This does not look too bad: our residuals are centered around a mean that is very close to 0, and there are no glaringly obvious patterns hence no heteroskedasticity. Let's be thorough though, and perform a heteroskedasticity test.\n",
        "\n",
        "For this we will use bartlett's test. The test establishes as a null hypothesis that the variance is equal for all our datapoints,and the new hypothesis that the variance is different for at least one pair of datapoints."
      ]
    },
    {
      "cell_type": "code",
      "metadata": {
        "id": "SjECA4AfPjQF",
        "outputId": "5fa5af03-4a83-4a37-c0a9-98188b413117",
        "colab": {
          "base_uri": "https://localhost:8080/"
        }
      },
      "source": [
        "test_result, p_value = sp.stats.bartlett(y_pred, residuals)\n",
        "\n",
        "# To interpret the results we must also compute a critical value of the chi squared distribution\n",
        "degree_of_freedom = len(y_pred)-1\n",
        "probability = 1 - p_value\n",
        "\n",
        "critical_value = sp.stats.chi2.ppf(probability, degree_of_freedom)\n",
        "print(test_result)\n",
        "\n",
        "# If the test_result is greater than the critical value, then we reject our null\n",
        "# hypothesis. This would mean that there are patterns to the variance of the data\n",
        "\n",
        "# Otherwise, we can identify no patterns, and we accept the null hypothesis that \n",
        "# the variance is homogeneous across our data\n",
        "\n",
        "if (test_result > critical_value):\n",
        "  print('the variances are unequal, and the model should be reassessed')\n",
        "else:\n",
        "  print('the variances are homogeneous!')"
      ],
      "execution_count": 144,
      "outputs": [
        {
          "output_type": "stream",
          "text": [
            "1148.5258286878886\n",
            "the variances are homogeneous!\n"
          ],
          "name": "stdout"
        }
      ]
    },
    {
      "cell_type": "markdown",
      "metadata": {
        "id": "369mhObfQV1D"
      },
      "source": [
        "### approach 2: Using Polynomial regression.\n",
        "\n",
        "Create a model that can predict how many goals the away team scores"
      ]
    },
    {
      "cell_type": "code",
      "metadata": {
        "id": "VYWAtnpPQdLe",
        "outputId": "98d29d23-2d91-4462-f0be-68a1c5452ee6",
        "colab": {
          "base_uri": "https://localhost:8080/",
          "height": 204
        }
      },
      "source": [
        "\n",
        "# Selecting variables relevant to the reasearch question\n",
        "#\n",
        "model2= final_merge1[['home_team_score',\t'away_team_score',\t'tournament_type', 'home_team_rank', 'away_team-rank']]\n",
        "#\n",
        "#previewing model 2\n",
        "#\n",
        "model2.head()\n",
        "\n"
      ],
      "execution_count": 152,
      "outputs": [
        {
          "output_type": "execute_result",
          "data": {
            "text/html": [
              "<div>\n",
              "<style scoped>\n",
              "    .dataframe tbody tr th:only-of-type {\n",
              "        vertical-align: middle;\n",
              "    }\n",
              "\n",
              "    .dataframe tbody tr th {\n",
              "        vertical-align: top;\n",
              "    }\n",
              "\n",
              "    .dataframe thead th {\n",
              "        text-align: right;\n",
              "    }\n",
              "</style>\n",
              "<table border=\"1\" class=\"dataframe\">\n",
              "  <thead>\n",
              "    <tr style=\"text-align: right;\">\n",
              "      <th></th>\n",
              "      <th>home_team_score</th>\n",
              "      <th>away_team_score</th>\n",
              "      <th>tournament_type</th>\n",
              "      <th>home_team_rank</th>\n",
              "      <th>away_team-rank</th>\n",
              "    </tr>\n",
              "  </thead>\n",
              "  <tbody>\n",
              "    <tr>\n",
              "      <th>0</th>\n",
              "      <td>1</td>\n",
              "      <td>2</td>\n",
              "      <td>1</td>\n",
              "      <td>4</td>\n",
              "      <td>3</td>\n",
              "    </tr>\n",
              "    <tr>\n",
              "      <th>1</th>\n",
              "      <td>1</td>\n",
              "      <td>1</td>\n",
              "      <td>0</td>\n",
              "      <td>4</td>\n",
              "      <td>12</td>\n",
              "    </tr>\n",
              "    <tr>\n",
              "      <th>2</th>\n",
              "      <td>2</td>\n",
              "      <td>1</td>\n",
              "      <td>0</td>\n",
              "      <td>5</td>\n",
              "      <td>70</td>\n",
              "    </tr>\n",
              "    <tr>\n",
              "      <th>5</th>\n",
              "      <td>4</td>\n",
              "      <td>0</td>\n",
              "      <td>0</td>\n",
              "      <td>19</td>\n",
              "      <td>70</td>\n",
              "    </tr>\n",
              "    <tr>\n",
              "      <th>8</th>\n",
              "      <td>2</td>\n",
              "      <td>1</td>\n",
              "      <td>0</td>\n",
              "      <td>67</td>\n",
              "      <td>70</td>\n",
              "    </tr>\n",
              "  </tbody>\n",
              "</table>\n",
              "</div>"
            ],
            "text/plain": [
              "   home_team_score  away_team_score  ...  home_team_rank  away_team-rank\n",
              "0                1                2  ...               4               3\n",
              "1                1                1  ...               4              12\n",
              "2                2                1  ...               5              70\n",
              "5                4                0  ...              19              70\n",
              "8                2                1  ...              67              70\n",
              "\n",
              "[5 rows x 5 columns]"
            ]
          },
          "metadata": {
            "tags": []
          },
          "execution_count": 152
        }
      ]
    },
    {
      "cell_type": "code",
      "metadata": {
        "id": "OScE_wbeZkOW"
      },
      "source": [
        "# dividing our dataset into features (n) and target (p)\n",
        "#\n",
        "n = model2.drop(columns = ['away_team_score']).values\n",
        "p = model2['away_team_score'].values"
      ],
      "execution_count": 156,
      "outputs": []
    },
    {
      "cell_type": "code",
      "metadata": {
        "id": "9oyLafE5XjBl"
      },
      "source": [
        "# Performing Data Preprocessing\n",
        "#\n",
        "# splitting our dataset into 80-20 train-test sets\n",
        "#\n",
        "from sklearn.model_selection import train_test_split \n",
        "#\n",
        "#assigning variable to train test split output\n",
        "\n",
        "n_train, n_test, p_train, p_test = train_test_split(n, p, random_state = 10, test_size = 0.2)"
      ],
      "execution_count": 157,
      "outputs": []
    },
    {
      "cell_type": "code",
      "metadata": {
        "id": "Dx8XzAjdVzeE",
        "outputId": "762f5a58-09a9-40b5-aa1c-08fd0d5b78e0",
        "colab": {
          "base_uri": "https://localhost:8080/"
        }
      },
      "source": [
        "# fitting the polynomial regressor \n",
        "#\n",
        "# fitting the polynomial regressor \n",
        "pol_reg = PolynomialFeatures(degree = 2)\n",
        "n_train_poly = pol_reg.fit_transform(n_train)\n",
        "n_test_poly = pol_reg.fit_transform(n_test)\n",
        "pol_reg.fit(n_train_poly, p_train)\n",
        "\n",
        "pol_regressor = LinearRegression()\n",
        "pol_regressor.fit(n_train_poly, p_train)"
      ],
      "execution_count": 165,
      "outputs": [
        {
          "output_type": "execute_result",
          "data": {
            "text/plain": [
              "LinearRegression(copy_X=True, fit_intercept=True, n_jobs=None, normalize=False)"
            ]
          },
          "metadata": {
            "tags": []
          },
          "execution_count": 165
        }
      ]
    },
    {
      "cell_type": "code",
      "metadata": {
        "id": "4QCXmIfAbFgc",
        "outputId": "1c7ceeca-f557-4f7b-d24e-245cf76c3b70",
        "colab": {
          "base_uri": "https://localhost:8080/"
        }
      },
      "source": [
        "# Prints y-intercept\n",
        "print(pol_regressor.intercept_)\n",
        "\n",
        "# Prints the beta coefficients in order\n",
        "print(pol_regressor.coef_)"
      ],
      "execution_count": 166,
      "outputs": [
        {
          "output_type": "stream",
          "text": [
            "1.0429928064830032\n",
            "[ 0.00000000e+00  8.03829397e-02  9.43354371e-04  5.91452393e-03\n",
            " -1.18892989e-02  1.32173934e-04 -7.23033823e-04 -5.64791095e-04\n",
            " -3.89948345e-04  3.92651827e-02 -6.83665528e-04 -1.56551101e-06\n",
            "  5.22501116e-05 -4.28456821e-05  4.15842192e-05]\n"
          ],
          "name": "stdout"
        }
      ]
    },
    {
      "cell_type": "code",
      "metadata": {
        "id": "ahXfFCO8hCuc",
        "outputId": "d0c6661b-7a44-47cf-f768-00bbd01481d1",
        "colab": {
          "base_uri": "https://localhost:8080/"
        }
      },
      "source": [
        "#\n",
        "# Training the model\n",
        "#\n",
        "regressor = LinearRegression()\n",
        "regressor.fit(n_train, p_train)\n",
        "#\n",
        "# Making predictions\n",
        "#\n",
        "p_pred = regressor.predict(n_test)\n",
        "\n",
        "# Measuring the accuracy of the model\n",
        "#\n",
        "print(np.sqrt(mean_squared_error(p_test, p_pred)))"
      ],
      "execution_count": 188,
      "outputs": [
        {
          "output_type": "stream",
          "text": [
            "1.1095882961879286\n"
          ],
          "name": "stdout"
        }
      ]
    },
    {
      "cell_type": "code",
      "metadata": {
        "id": "bd3dSh2BfGTm",
        "outputId": "4497df4e-e840-454a-d807-b00e30fd7b71",
        "colab": {
          "base_uri": "https://localhost:8080/",
          "height": 399
        }
      },
      "source": [
        "# making comparison\n",
        "compare = pd.DataFrame({'Actual':p_test , 'Predicted': p_pred}) \n",
        "print(compare.head())\n",
        "compare.describe()"
      ],
      "execution_count": 185,
      "outputs": [
        {
          "output_type": "stream",
          "text": [
            "   Actual  Predicted\n",
            "0       0   1.576144\n",
            "1       4   0.932371\n",
            "2       4   1.032780\n",
            "3       0   0.951603\n",
            "4       0   0.867147\n"
          ],
          "name": "stdout"
        },
        {
          "output_type": "execute_result",
          "data": {
            "text/html": [
              "<div>\n",
              "<style scoped>\n",
              "    .dataframe tbody tr th:only-of-type {\n",
              "        vertical-align: middle;\n",
              "    }\n",
              "\n",
              "    .dataframe tbody tr th {\n",
              "        vertical-align: top;\n",
              "    }\n",
              "\n",
              "    .dataframe thead th {\n",
              "        text-align: right;\n",
              "    }\n",
              "</style>\n",
              "<table border=\"1\" class=\"dataframe\">\n",
              "  <thead>\n",
              "    <tr style=\"text-align: right;\">\n",
              "      <th></th>\n",
              "      <th>Actual</th>\n",
              "      <th>Predicted</th>\n",
              "    </tr>\n",
              "  </thead>\n",
              "  <tbody>\n",
              "    <tr>\n",
              "      <th>count</th>\n",
              "      <td>3373.000000</td>\n",
              "      <td>3373.000000</td>\n",
              "    </tr>\n",
              "    <tr>\n",
              "      <th>mean</th>\n",
              "      <td>1.049511</td>\n",
              "      <td>1.069585</td>\n",
              "    </tr>\n",
              "    <tr>\n",
              "      <th>std</th>\n",
              "      <td>1.196170</td>\n",
              "      <td>0.494897</td>\n",
              "    </tr>\n",
              "    <tr>\n",
              "      <th>min</th>\n",
              "      <td>0.000000</td>\n",
              "      <td>-0.731144</td>\n",
              "    </tr>\n",
              "    <tr>\n",
              "      <th>25%</th>\n",
              "      <td>0.000000</td>\n",
              "      <td>0.770302</td>\n",
              "    </tr>\n",
              "    <tr>\n",
              "      <th>50%</th>\n",
              "      <td>1.000000</td>\n",
              "      <td>1.054422</td>\n",
              "    </tr>\n",
              "    <tr>\n",
              "      <th>75%</th>\n",
              "      <td>2.000000</td>\n",
              "      <td>1.365338</td>\n",
              "    </tr>\n",
              "    <tr>\n",
              "      <th>max</th>\n",
              "      <td>9.000000</td>\n",
              "      <td>3.049272</td>\n",
              "    </tr>\n",
              "  </tbody>\n",
              "</table>\n",
              "</div>"
            ],
            "text/plain": [
              "            Actual    Predicted\n",
              "count  3373.000000  3373.000000\n",
              "mean      1.049511     1.069585\n",
              "std       1.196170     0.494897\n",
              "min       0.000000    -0.731144\n",
              "25%       0.000000     0.770302\n",
              "50%       1.000000     1.054422\n",
              "75%       2.000000     1.365338\n",
              "max       9.000000     3.049272"
            ]
          },
          "metadata": {
            "tags": []
          },
          "execution_count": 185
        }
      ]
    },
    {
      "cell_type": "code",
      "metadata": {
        "id": "rkkl673Fk5J8"
      },
      "source": [
        "# create the residual by subtracting the test value from the predicted value\n",
        "residuals = np.subtract(p_pred, p_test)"
      ],
      "execution_count": 196,
      "outputs": []
    },
    {
      "cell_type": "code",
      "metadata": {
        "id": "RJeUMcHLld5L",
        "outputId": "8905de98-2327-4ea4-fea6-8d33043eb667",
        "colab": {
          "base_uri": "https://localhost:8080/"
        }
      },
      "source": [
        "# statistical description\n",
        "residual = pd.DataFrame(residuals).describe()\n",
        "#\n",
        "# mean \n",
        "residuals.mean()"
      ],
      "execution_count": 197,
      "outputs": [
        {
          "output_type": "execute_result",
          "data": {
            "text/plain": [
              "0.020074057448260157"
            ]
          },
          "metadata": {
            "tags": []
          },
          "execution_count": 197
        }
      ]
    },
    {
      "cell_type": "code",
      "metadata": {
        "id": "CQr8O_a5lm0r",
        "outputId": "84d06fa1-132a-4690-8e69-e6cba2ca7310",
        "colab": {
          "base_uri": "https://localhost:8080/",
          "height": 288
        }
      },
      "source": [
        "# residual plot\n",
        "plt.scatter(p_pred, residuals, color = 'blue')\n",
        "plt.ylabel('Residuals', fontsize = 19)\n",
        "plt.xlabel('Predicted', fontsize = 19)\n",
        "plt.axhline(y= residuals.mean(), color = 'r', linewidth = 1)\n",
        "plt.show()"
      ],
      "execution_count": 202,
      "outputs": [
        {
          "output_type": "display_data",
          "data": {
            "image/png": "[encoded data removed]",
            "text/plain": [
              "<Figure size 432x288 with 1 Axes>"
            ]
          },
          "metadata": {
            "tags": [],
            "needs_background": "light"
          }
        }
      ]
    },
    {
      "cell_type": "markdown",
      "metadata": {
        "id": "Z3mHiDfGm3-z"
      },
      "source": [
        "**observation**: There is no pattern hence no heteroskedasticity"
      ]
    },
    {
      "cell_type": "code",
      "metadata": {
        "id": "H10R37DAm_SH",
        "outputId": "edcda5c4-dad9-4966-b70d-a7dbbd55e5e0",
        "colab": {
          "base_uri": "https://localhost:8080/"
        }
      },
      "source": [
        "#using the barlett's Test\n",
        "import scipy as sp\n",
        "\n",
        "test_result, p_value = sp.stats.bartlett(y_pred, residuals)\n",
        "\n",
        "# To interpret the results we must also compute a critical value of the chi squared distribution\n",
        "degree_of_freedom = len(p_pred)-1\n",
        "probability = 1 - p_value\n",
        "\n",
        "critical_value = sp.stats.chi2.ppf(probability, degree_of_freedom)\n",
        "print(test_result)\n",
        "\n",
        "# If the test_result is greater than the critical value, then we reject our null\n",
        "# hypothesis. This would mean that there are patterns to the variance of the data\n",
        "\n",
        "# Otherwise, we can identify no patterns, and we accept the null hypothesis that \n",
        "# the variance is homogeneous across our data\n",
        "\n",
        "if (test_result > critical_value):\n",
        "  print('the variances are unequal, and the model should be reassessed')\n",
        "else:\n",
        "  print('the variances are homogeneous!')"
      ],
      "execution_count": 207,
      "outputs": [
        {
          "output_type": "stream",
          "text": [
            "401.6208055541013\n",
            "the variances are homogeneous!\n"
          ],
          "name": "stdout"
        }
      ]
    },
    {
      "cell_type": "markdown",
      "metadata": {
        "id": "lem-6D1En3nW"
      },
      "source": [
        "**Conclusion** The models used cannot accurately predict the goals scored by either team as the accuracy registered is too low thus unreliable."
      ]
    },
    {
      "cell_type": "markdown",
      "metadata": {
        "id": "MPR6sBw8oK6U"
      },
      "source": [
        "### Approach 3: Logistic approach\n",
        "\n",
        "*. determine from the home team’s perspective if the game is a Win, Lose or Draw (W, L, D)\n",
        "\n"
      ]
    },
    {
      "cell_type": "code",
      "metadata": {
        "id": "BJFgmbuhq9Dk"
      },
      "source": [
        "# importing libraries\n",
        "#\n",
        "from sklearn import metrics\n",
        "from sklearn.model_selection import train_test_split\n",
        "from sklearn.linear_model import LinearRegression"
      ],
      "execution_count": 214,
      "outputs": []
    },
    {
      "cell_type": "code",
      "metadata": {
        "id": "KRmJZ4c2omz_",
        "outputId": "c5db6ed6-b90a-47fb-e2c0-cf62f10df0f5",
        "colab": {
          "base_uri": "https://localhost:8080/",
          "height": 204
        }
      },
      "source": [
        "#selecting the variable to use\n",
        "model3=final_merge1[['status','home_team_score','away_team_score',\t'tournament_type', 'home_team_rank', 'away_team-rank']]\n",
        "model3.head()\n",
        "\n"
      ],
      "execution_count": 225,
      "outputs": [
        {
          "output_type": "execute_result",
          "data": {
            "text/html": [
              "<div>\n",
              "<style scoped>\n",
              "    .dataframe tbody tr th:only-of-type {\n",
              "        vertical-align: middle;\n",
              "    }\n",
              "\n",
              "    .dataframe tbody tr th {\n",
              "        vertical-align: top;\n",
              "    }\n",
              "\n",
              "    .dataframe thead th {\n",
              "        text-align: right;\n",
              "    }\n",
              "</style>\n",
              "<table border=\"1\" class=\"dataframe\">\n",
              "  <thead>\n",
              "    <tr style=\"text-align: right;\">\n",
              "      <th></th>\n",
              "      <th>status</th>\n",
              "      <th>home_team_score</th>\n",
              "      <th>away_team_score</th>\n",
              "      <th>tournament_type</th>\n",
              "      <th>home_team_rank</th>\n",
              "      <th>away_team-rank</th>\n",
              "    </tr>\n",
              "  </thead>\n",
              "  <tbody>\n",
              "    <tr>\n",
              "      <th>0</th>\n",
              "      <td>1</td>\n",
              "      <td>1</td>\n",
              "      <td>2</td>\n",
              "      <td>1</td>\n",
              "      <td>4</td>\n",
              "      <td>3</td>\n",
              "    </tr>\n",
              "    <tr>\n",
              "      <th>1</th>\n",
              "      <td>0</td>\n",
              "      <td>1</td>\n",
              "      <td>1</td>\n",
              "      <td>0</td>\n",
              "      <td>4</td>\n",
              "      <td>12</td>\n",
              "    </tr>\n",
              "    <tr>\n",
              "      <th>2</th>\n",
              "      <td>2</td>\n",
              "      <td>2</td>\n",
              "      <td>1</td>\n",
              "      <td>0</td>\n",
              "      <td>5</td>\n",
              "      <td>70</td>\n",
              "    </tr>\n",
              "    <tr>\n",
              "      <th>5</th>\n",
              "      <td>2</td>\n",
              "      <td>4</td>\n",
              "      <td>0</td>\n",
              "      <td>0</td>\n",
              "      <td>19</td>\n",
              "      <td>70</td>\n",
              "    </tr>\n",
              "    <tr>\n",
              "      <th>8</th>\n",
              "      <td>2</td>\n",
              "      <td>2</td>\n",
              "      <td>1</td>\n",
              "      <td>0</td>\n",
              "      <td>67</td>\n",
              "      <td>70</td>\n",
              "    </tr>\n",
              "  </tbody>\n",
              "</table>\n",
              "</div>"
            ],
            "text/plain": [
              "   status  home_team_score  ...  home_team_rank  away_team-rank\n",
              "0       1                1  ...               4               3\n",
              "1       0                1  ...               4              12\n",
              "2       2                2  ...               5              70\n",
              "5       2                4  ...              19              70\n",
              "8       2                2  ...              67              70\n",
              "\n",
              "[5 rows x 6 columns]"
            ]
          },
          "metadata": {
            "tags": []
          },
          "execution_count": 225
        }
      ]
    },
    {
      "cell_type": "code",
      "metadata": {
        "id": "xpbEL1AgpXQX",
        "outputId": "6d24c227-8620-41cc-8c5f-abbf503dbe9c",
        "colab": {
          "base_uri": "https://localhost:8080/",
          "height": 265
        }
      },
      "source": [
        "# Checking whether the data is well balanced between all the results; win draw or lose\n",
        "#\n",
        "plt.figure(figsize = (5, 4))\n",
        "model3.status.value_counts().plot(kind = 'bar', rot = 0);"
      ],
      "execution_count": 226,
      "outputs": [
        {
          "output_type": "display_data",
          "data": {
            "image/png": "[encoded data removed]",
            "text/plain": [
              "<Figure size 360x288 with 1 Axes>"
            ]
          },
          "metadata": {
            "tags": [],
            "needs_background": "light"
          }
        }
      ]
    },
    {
      "cell_type": "markdown",
      "metadata": {
        "id": "uAKrSLzOsTHb"
      },
      "source": [
        "**observation**: from the above chart, the results are fairly balanced"
      ]
    },
    {
      "cell_type": "code",
      "metadata": {
        "id": "8Cc0q8M2sgI0",
        "outputId": "51ae0602-32ea-4350-c91c-139aa289e43e",
        "colab": {
          "base_uri": "https://localhost:8080/",
          "height": 471
        }
      },
      "source": [
        "# Checking for correlations between features\n",
        "#\n",
        "plt.figure(figsize = (10, 6))\n",
        "sns.heatmap(model3.corr(), annot = True) \n",
        "plt.title('Heatmap showing correlation between variables')\n",
        "plt.show()"
      ],
      "execution_count": 227,
      "outputs": [
        {
          "output_type": "display_data",
          "data": {
            "image/png": "[encoded data removed]",
            "text/plain": [
              "<Figure size 720x432 with 2 Axes>"
            ]
          },
          "metadata": {
            "tags": [],
            "needs_background": "light"
          }
        }
      ]
    },
    {
      "cell_type": "markdown",
      "metadata": {
        "id": "gsFNt8h5se5h"
      },
      "source": [
        "**observation**: most of the variables are weakly correlated.\n",
        "\n"
      ]
    },
    {
      "cell_type": "code",
      "metadata": {
        "id": "1g5HNKo0zGes",
        "outputId": "bbceacb1-f289-43e1-c942-34c5dc719d51",
        "colab": {
          "base_uri": "https://localhost:8080/",
          "height": 235
        }
      },
      "source": [
        "# Let's display the correlations between the variables\n",
        "correlations = model3.corr()\n",
        "correlations"
      ],
      "execution_count": 247,
      "outputs": [
        {
          "output_type": "execute_result",
          "data": {
            "text/html": [
              "<div>\n",
              "<style scoped>\n",
              "    .dataframe tbody tr th:only-of-type {\n",
              "        vertical-align: middle;\n",
              "    }\n",
              "\n",
              "    .dataframe tbody tr th {\n",
              "        vertical-align: top;\n",
              "    }\n",
              "\n",
              "    .dataframe thead th {\n",
              "        text-align: right;\n",
              "    }\n",
              "</style>\n",
              "<table border=\"1\" class=\"dataframe\">\n",
              "  <thead>\n",
              "    <tr style=\"text-align: right;\">\n",
              "      <th></th>\n",
              "      <th>status</th>\n",
              "      <th>home_team_score</th>\n",
              "      <th>away_team_score</th>\n",
              "      <th>tournament_type</th>\n",
              "      <th>home_team_rank</th>\n",
              "      <th>away_team-rank</th>\n",
              "    </tr>\n",
              "  </thead>\n",
              "  <tbody>\n",
              "    <tr>\n",
              "      <th>status</th>\n",
              "      <td>1.000000</td>\n",
              "      <td>0.518827</td>\n",
              "      <td>-0.241682</td>\n",
              "      <td>-0.006367</td>\n",
              "      <td>-0.115650</td>\n",
              "      <td>0.214046</td>\n",
              "    </tr>\n",
              "    <tr>\n",
              "      <th>home_team_score</th>\n",
              "      <td>0.518827</td>\n",
              "      <td>1.000000</td>\n",
              "      <td>-0.163737</td>\n",
              "      <td>-0.027374</td>\n",
              "      <td>-0.135345</td>\n",
              "      <td>0.318861</td>\n",
              "    </tr>\n",
              "    <tr>\n",
              "      <th>away_team_score</th>\n",
              "      <td>-0.241682</td>\n",
              "      <td>-0.163737</td>\n",
              "      <td>1.000000</td>\n",
              "      <td>0.004693</td>\n",
              "      <td>0.221738</td>\n",
              "      <td>-0.179911</td>\n",
              "    </tr>\n",
              "    <tr>\n",
              "      <th>tournament_type</th>\n",
              "      <td>-0.006367</td>\n",
              "      <td>-0.027374</td>\n",
              "      <td>0.004693</td>\n",
              "      <td>1.000000</td>\n",
              "      <td>0.081071</td>\n",
              "      <td>0.098640</td>\n",
              "    </tr>\n",
              "    <tr>\n",
              "      <th>home_team_rank</th>\n",
              "      <td>-0.115650</td>\n",
              "      <td>-0.135345</td>\n",
              "      <td>0.221738</td>\n",
              "      <td>0.081071</td>\n",
              "      <td>1.000000</td>\n",
              "      <td>0.469376</td>\n",
              "    </tr>\n",
              "    <tr>\n",
              "      <th>away_team-rank</th>\n",
              "      <td>0.214046</td>\n",
              "      <td>0.318861</td>\n",
              "      <td>-0.179911</td>\n",
              "      <td>0.098640</td>\n",
              "      <td>0.469376</td>\n",
              "      <td>1.000000</td>\n",
              "    </tr>\n",
              "  </tbody>\n",
              "</table>\n",
              "</div>"
            ],
            "text/plain": [
              "                   status  home_team_score  ...  home_team_rank  away_team-rank\n",
              "status           1.000000         0.518827  ...       -0.115650        0.214046\n",
              "home_team_score  0.518827         1.000000  ...       -0.135345        0.318861\n",
              "away_team_score -0.241682        -0.163737  ...        0.221738       -0.179911\n",
              "tournament_type -0.006367        -0.027374  ...        0.081071        0.098640\n",
              "home_team_rank  -0.115650        -0.135345  ...        1.000000        0.469376\n",
              "away_team-rank   0.214046         0.318861  ...        0.469376        1.000000\n",
              "\n",
              "[6 rows x 6 columns]"
            ]
          },
          "metadata": {
            "tags": []
          },
          "execution_count": 247
        }
      ]
    },
    {
      "cell_type": "code",
      "metadata": {
        "id": "Bd8Ic4skzVqc",
        "outputId": "3333a580-4e81-4308-8141-438849c78577",
        "colab": {
          "base_uri": "https://localhost:8080/",
          "height": 235
        }
      },
      "source": [
        "#plotting VIf score\n",
        "#\n",
        "pd.DataFrame(np.linalg.inv(correlations.values), index = correlations.index, columns=correlations.columns)"
      ],
      "execution_count": 248,
      "outputs": [
        {
          "output_type": "execute_result",
          "data": {
            "text/html": [
              "<div>\n",
              "<style scoped>\n",
              "    .dataframe tbody tr th:only-of-type {\n",
              "        vertical-align: middle;\n",
              "    }\n",
              "\n",
              "    .dataframe tbody tr th {\n",
              "        vertical-align: top;\n",
              "    }\n",
              "\n",
              "    .dataframe thead th {\n",
              "        text-align: right;\n",
              "    }\n",
              "</style>\n",
              "<table border=\"1\" class=\"dataframe\">\n",
              "  <thead>\n",
              "    <tr style=\"text-align: right;\">\n",
              "      <th></th>\n",
              "      <th>status</th>\n",
              "      <th>home_team_score</th>\n",
              "      <th>away_team_score</th>\n",
              "      <th>tournament_type</th>\n",
              "      <th>home_team_rank</th>\n",
              "      <th>away_team-rank</th>\n",
              "    </tr>\n",
              "  </thead>\n",
              "  <tbody>\n",
              "    <tr>\n",
              "      <th>status</th>\n",
              "      <td>1.422181</td>\n",
              "      <td>-0.667272</td>\n",
              "      <td>0.202997</td>\n",
              "      <td>-0.007262</td>\n",
              "      <td>0.070896</td>\n",
              "      <td>-0.087684</td>\n",
              "    </tr>\n",
              "    <tr>\n",
              "      <th>home_team_score</th>\n",
              "      <td>-0.667272</td>\n",
              "      <td>1.575782</td>\n",
              "      <td>-0.104131</td>\n",
              "      <td>0.062381</td>\n",
              "      <td>0.429171</td>\n",
              "      <td>-0.585959</td>\n",
              "    </tr>\n",
              "    <tr>\n",
              "      <th>away_team_score</th>\n",
              "      <td>0.202997</td>\n",
              "      <td>-0.104131</td>\n",
              "      <td>1.209236</td>\n",
              "      <td>-0.011937</td>\n",
              "      <td>-0.456133</td>\n",
              "      <td>0.422583</td>\n",
              "    </tr>\n",
              "    <tr>\n",
              "      <th>tournament_type</th>\n",
              "      <td>-0.007262</td>\n",
              "      <td>0.062381</td>\n",
              "      <td>-0.011937</td>\n",
              "      <td>1.014294</td>\n",
              "      <td>-0.019756</td>\n",
              "      <td>-0.111262</td>\n",
              "    </tr>\n",
              "    <tr>\n",
              "      <th>home_team_rank</th>\n",
              "      <td>0.070896</td>\n",
              "      <td>0.429171</td>\n",
              "      <td>-0.456133</td>\n",
              "      <td>-0.019756</td>\n",
              "      <td>1.639105</td>\n",
              "      <td>-1.001492</td>\n",
              "    </tr>\n",
              "    <tr>\n",
              "      <th>away_team-rank</th>\n",
              "      <td>-0.087684</td>\n",
              "      <td>-0.585959</td>\n",
              "      <td>0.422583</td>\n",
              "      <td>-0.111262</td>\n",
              "      <td>-1.001492</td>\n",
              "      <td>1.762686</td>\n",
              "    </tr>\n",
              "  </tbody>\n",
              "</table>\n",
              "</div>"
            ],
            "text/plain": [
              "                   status  home_team_score  ...  home_team_rank  away_team-rank\n",
              "status           1.422181        -0.667272  ...        0.070896       -0.087684\n",
              "home_team_score -0.667272         1.575782  ...        0.429171       -0.585959\n",
              "away_team_score  0.202997        -0.104131  ...       -0.456133        0.422583\n",
              "tournament_type -0.007262         0.062381  ...       -0.019756       -0.111262\n",
              "home_team_rank   0.070896         0.429171  ...        1.639105       -1.001492\n",
              "away_team-rank  -0.087684        -0.585959  ...       -1.001492        1.762686\n",
              "\n",
              "[6 rows x 6 columns]"
            ]
          },
          "metadata": {
            "tags": []
          },
          "execution_count": 248
        }
      ]
    },
    {
      "cell_type": "markdown",
      "metadata": {
        "id": "lUziK4_izky7"
      },
      "source": [
        "**`observation`**: all VIF score is less than 5. thus we can't remove them."
      ]
    },
    {
      "cell_type": "code",
      "metadata": {
        "id": "B7WVtq9Ws8PH"
      },
      "source": [
        "# Spliting the data into features and the target variable\n",
        "#\n",
        "X = model3.drop(columns = ['status']).values\n",
        "y = model3['status'].values"
      ],
      "execution_count": 231,
      "outputs": []
    },
    {
      "cell_type": "code",
      "metadata": {
        "id": "8AIo6Lehv2jE"
      },
      "source": [
        "# Spliting the data into training and testing sets\n",
        "#\n",
        "X_train, X_test, y_train, y_test = train_test_split(X, y, test_size = 0.25, random_state = 101)"
      ],
      "execution_count": null,
      "outputs": []
    },
    {
      "cell_type": "code",
      "metadata": {
        "id": "ifSWCx_Ju_Wu",
        "outputId": "36c6e9e0-5291-4f1b-cde7-36966591a694",
        "colab": {
          "base_uri": "https://localhost:8080/"
        }
      },
      "source": [
        "# Instantiating the model and training the model\n",
        "#\n",
        "logistic = LogisticRegression()\n",
        "logistic.fit(X_train, y_train)"
      ],
      "execution_count": 232,
      "outputs": [
        {
          "output_type": "stream",
          "text": [
            "/usr/local/lib/python3.6/dist-packages/sklearn/linear_model/_logistic.py:940: ConvergenceWarning: lbfgs failed to converge (status=1):\n",
            "STOP: TOTAL NO. of ITERATIONS REACHED LIMIT.\n",
            "\n",
            "Increase the number of iterations (max_iter) or scale the data as shown in:\n",
            "    https://scikit-learn.org/stable/modules/preprocessing.html\n",
            "Please also refer to the documentation for alternative solver options:\n",
            "    https://scikit-learn.org/stable/modules/linear_model.html#logistic-regression\n",
            "  extra_warning_msg=_LOGISTIC_SOLVER_CONVERGENCE_MSG)\n"
          ],
          "name": "stderr"
        },
        {
          "output_type": "execute_result",
          "data": {
            "text/plain": [
              "LogisticRegression(C=1.0, class_weight=None, dual=False, fit_intercept=True,\n",
              "                   intercept_scaling=1, l1_ratio=None, max_iter=100,\n",
              "                   multi_class='auto', n_jobs=None, penalty='l2',\n",
              "                   random_state=None, solver='lbfgs', tol=0.0001, verbose=0,\n",
              "                   warm_start=False)"
            ]
          },
          "metadata": {
            "tags": []
          },
          "execution_count": 232
        }
      ]
    },
    {
      "cell_type": "code",
      "metadata": {
        "id": "lNKuV6tRwI8l",
        "outputId": "7dc6e19c-abc6-416f-c8ce-4d59fda00673",
        "colab": {
          "base_uri": "https://localhost:8080/",
          "height": 204
        }
      },
      "source": [
        "# Making predictions\n",
        "#\n",
        "y_pred = logistic.predict(X_test)\n",
        "y_pred \n",
        "a=pd.DataFrame({'actual': y_test, 'predicted': y_pred})\n",
        "a.head()"
      ],
      "execution_count": 241,
      "outputs": [
        {
          "output_type": "execute_result",
          "data": {
            "text/html": [
              "<div>\n",
              "<style scoped>\n",
              "    .dataframe tbody tr th:only-of-type {\n",
              "        vertical-align: middle;\n",
              "    }\n",
              "\n",
              "    .dataframe tbody tr th {\n",
              "        vertical-align: top;\n",
              "    }\n",
              "\n",
              "    .dataframe thead th {\n",
              "        text-align: right;\n",
              "    }\n",
              "</style>\n",
              "<table border=\"1\" class=\"dataframe\">\n",
              "  <thead>\n",
              "    <tr style=\"text-align: right;\">\n",
              "      <th></th>\n",
              "      <th>actual</th>\n",
              "      <th>predicted</th>\n",
              "    </tr>\n",
              "  </thead>\n",
              "  <tbody>\n",
              "    <tr>\n",
              "      <th>25826</th>\n",
              "      <td>0</td>\n",
              "      <td>0</td>\n",
              "    </tr>\n",
              "    <tr>\n",
              "      <th>434</th>\n",
              "      <td>4</td>\n",
              "      <td>2</td>\n",
              "    </tr>\n",
              "    <tr>\n",
              "      <th>16680</th>\n",
              "      <td>4</td>\n",
              "      <td>2</td>\n",
              "    </tr>\n",
              "    <tr>\n",
              "      <th>9171</th>\n",
              "      <td>0</td>\n",
              "      <td>0</td>\n",
              "    </tr>\n",
              "    <tr>\n",
              "      <th>14655</th>\n",
              "      <td>0</td>\n",
              "      <td>0</td>\n",
              "    </tr>\n",
              "  </tbody>\n",
              "</table>\n",
              "</div>"
            ],
            "text/plain": [
              "       actual  predicted\n",
              "25826       0          0\n",
              "434         4          2\n",
              "16680       4          2\n",
              "9171        0          0\n",
              "14655       0          0"
            ]
          },
          "metadata": {
            "tags": []
          },
          "execution_count": 241
        }
      ]
    },
    {
      "cell_type": "code",
      "metadata": {
        "id": "GYTebTDMyRGZ",
        "outputId": "7bf4ab2b-b1f6-4bfb-9430-71f03d11e898",
        "colab": {
          "base_uri": "https://localhost:8080/"
        }
      },
      "source": [
        "# Evaluating the model\n",
        "\n",
        "from sklearn.metrics import confusion_matrix\n",
        "confusion_matrix = confusion_matrix(y_test, y_pred)\n",
        "confusion_matrix"
      ],
      "execution_count": 243,
      "outputs": [
        {
          "output_type": "execute_result",
          "data": {
            "text/plain": [
              "array([[2009,    0,    0,    0,    0,    0,    0,    0,    4,    0,    0,\n",
              "           0],\n",
              "       [  54, 1503,   86,    0,    7,    0,    0,    0,   13,    0,    0,\n",
              "           0],\n",
              "       [   0,  411,  417,    0,   10,    0,    0,    0,    6,    0,    0,\n",
              "           0],\n",
              "       [   0,   40,  284,    0,    2,    0,    0,    0,    0,    0,    0,\n",
              "           0],\n",
              "       [   0,    1,  128,    0,    0,    0,    0,    0,    1,    0,    0,\n",
              "           0],\n",
              "       [   0,    0,   39,    0,    0,    0,    0,    0,    0,    0,    0,\n",
              "           0],\n",
              "       [   0,    0,   19,    0,    0,    0,    0,    0,    0,    0,    0,\n",
              "           0],\n",
              "       [   0,    0,   17,    0,    0,    0,    0,    0,    0,    0,    0,\n",
              "           0],\n",
              "       [   0,    0,    4,    0,    0,    0,    0,    0,    0,    0,    0,\n",
              "           0],\n",
              "       [   0,    0,    2,    0,    0,    0,    0,    0,    0,    0,    0,\n",
              "           0],\n",
              "       [   0,    0,    1,    0,    0,    0,    0,    0,    0,    0,    0,\n",
              "           0],\n",
              "       [   0,    0,    1,    0,    0,    0,    0,    0,    0,    0,    0,\n",
              "           0]])"
            ]
          },
          "metadata": {
            "tags": []
          },
          "execution_count": 243
        }
      ]
    },
    {
      "cell_type": "code",
      "metadata": {
        "id": "MuZFulzGyja4",
        "outputId": "137d39df-27b9-41c3-ca5e-8a092da5adbd",
        "colab": {
          "base_uri": "https://localhost:8080/"
        }
      },
      "source": [
        "#Evaluating the performance of the model\n",
        "#\n",
        "from sklearn.metrics import accuracy_score\n",
        "accuracy_score(y_test,y_pred)"
      ],
      "execution_count": 249,
      "outputs": [
        {
          "output_type": "execute_result",
          "data": {
            "text/plain": [
              "0.7766356987546946"
            ]
          },
          "metadata": {
            "tags": []
          },
          "execution_count": 249
        }
      ]
    },
    {
      "cell_type": "code",
      "metadata": {
        "id": "Z8L4vc7Y0e3d",
        "outputId": "a7283e01-10a5-48de-ac38-9eda5d76b974",
        "colab": {
          "base_uri": "https://localhost:8080/"
        }
      },
      "source": [
        "# We will use the rmse score to evaluate \n",
        "from sklearn import metrics\n",
        "print('Mean Absolute Error:', metrics.mean_absolute_error(y_test, y_pred))\n",
        "print('Mean Squared Error:', metrics.mean_squared_error(y_test, y_pred))\n",
        "print('Root Mean Squared Error:', np.sqrt(metrics.mean_squared_error(y_test, y_pred)))"
      ],
      "execution_count": 250,
      "outputs": [
        {
          "output_type": "stream",
          "text": [
            "Mean Absolute Error: 0.33998813994860644\n",
            "Mean Squared Error: 0.8614350662186203\n",
            "Root Mean Squared Error: 0.9281352628893164\n"
          ],
          "name": "stdout"
        }
      ]
    },
    {
      "cell_type": "markdown",
      "metadata": {
        "id": "Ccjo8UGw2slf"
      },
      "source": [
        "**Conclusion**\n",
        "\n",
        "The model has an accuracy of 77 % .\n",
        "\n",
        "This shows the model is  fit to make predictions if the game is a Win, Lose or Draw. however we can look for other models."
      ]
    },
    {
      "cell_type": "markdown",
      "metadata": {
        "id": "fZQvPV7x3D0u"
      },
      "source": [
        " Challenging the solution\n",
        "\n",
        "* we can try other models to see if we can get better predictions\n",
        "\n",
        "* use hyperparameter tuning and apply to my models\n",
        "\n",
        "* check the features to be used based on the importance of each feature."
      ]
    },
    {
      "cell_type": "markdown",
      "metadata": {
        "id": "Fl0Zpes63xpR"
      },
      "source": [
        "## Follow up questions\n"
      ]
    },
    {
      "cell_type": "markdown",
      "metadata": {
        "id": "nDFjsoJy35Au"
      },
      "source": [
        "1. Did we have the right data?\n",
        "\n",
        "yes. thought there was no accurate score, this can be solved using different models"
      ]
    },
    {
      "cell_type": "markdown",
      "metadata": {
        "id": "kytBveNq4XA3"
      },
      "source": [
        "2. Do we need other data to answer our question?\n",
        "\n",
        "Probably more data needs to be sought so as to improve the model and provide meaningful predictions."
      ]
    },
    {
      "cell_type": "markdown",
      "metadata": {
        "id": "_stF3mbS4-OA"
      },
      "source": [
        "3. Did we have the right question?\n",
        "\n",
        "yes."
      ]
    }
  ]
}